{
 "cells": [
  {
   "cell_type": "markdown",
   "metadata": {},
   "source": [
    "# FIS Cheatsheet\n",
    "\n",
    "\n"
   ]
  },
  {
   "cell_type": "code",
   "execution_count": 1,
   "metadata": {},
   "outputs": [],
   "source": [
    "import math\n",
    "import string\n",
    "import numpy as np\n",
    "import pandas as pd\n",
    "import matplotlib.pyplot as plt\n",
    "# Adding the following line, allows Jupyter Notebook to visualize plots\n",
    "# produced by matplotlib directly below the code cell which generated those.\n",
    "#%matplotlib inline\n",
    "import seaborn as sns\n",
    "from scipy.stats import pearsonr\n",
    "from nose.tools import assert_equal\n",
    "from operator import itemgetter\n",
    "\n",
    "EPSILON = .01 # tiny tolerance for managing subtle differences resulting from floating point operations\n",
    "\n",
    "TEXT_CORPUS_FILE = \"corpus.txt\"\n",
    "DATASET_FILE = \"dataset.csv\""
   ]
  },
  {
   "cell_type": "markdown",
   "metadata": {},
   "source": [
    "## General coding:\n",
    "\n",
    "### 1. Records "
   ]
  },
  {
   "cell_type": "code",
   "execution_count": 2,
   "metadata": {},
   "outputs": [],
   "source": [
    "# First, you need to run the following line to load the records of the people\n",
    "# load records (the fourth element of each record in the list is the name of the person)\n",
    "records = [['2014', 'FEMALE', 'ASIAN AND PACIFIC ISLANDER', 'Aarya', '10', '40'], ['2014', 'FEMALE', 'ASIAN AND PACIFIC ISLANDER', 'Abby', '27', '23'], ['2014', 'FEMALE', 'ASIAN AND PACIFIC ISLANDER', 'Abigail', '31', '19'], ['2014', 'FEMALE', 'ASIAN AND PACIFIC ISLANDER', 'Aisha', '18', '32'], ['2014', 'FEMALE', 'ASIAN AND PACIFIC ISLANDER', 'Aiza', '19', '31'], ['2014', 'FEMALE', 'ASIAN AND PACIFIC ISLANDER', 'Aleena', '17', '33'], ['2014', 'FEMALE', 'ASIAN AND PACIFIC ISLANDER', 'Alexandra', '11', '39'], ['2014', 'FEMALE', 'ASIAN AND PACIFIC ISLANDER', 'Alice', '24', '26'], ['2014', 'FEMALE', 'ASIAN AND PACIFIC ISLANDER', 'Alicia', '12', '38'], ['2014', 'FEMALE', 'ASIAN AND PACIFIC ISLANDER', 'Alina', '41', '10'], ['2014', 'FEMALE', 'ASIAN AND PACIFIC ISLANDER', 'Alisa', '11', '39'], ['2014', 'FEMALE', 'ASIAN AND PACIFIC ISLANDER', 'Alisha', '11', '39'], ['2014', 'FEMALE', 'ASIAN AND PACIFIC ISLANDER', 'Allison', '15', '35'], ['2014', 'FEMALE', 'ASIAN AND PACIFIC ISLANDER', 'Alyssa', '22', '28'], ['2014', 'FEMALE', 'ASIAN AND PACIFIC ISLANDER', 'Amanda', '15', '35'], ['2014', 'FEMALE', 'ASIAN AND PACIFIC ISLANDER', 'Amber', '17', '33'], ['2014', 'FEMALE', 'ASIAN AND PACIFIC ISLANDER', 'Amelia', '27', '23'], ['2014', 'FEMALE', 'ASIAN AND PACIFIC ISLANDER', 'Amina', '10', '40'], ['2014', 'FEMALE', 'ASIAN AND PACIFIC ISLANDER', 'Amy', '31', '19'], ['2014', 'FEMALE', 'ASIAN AND PACIFIC ISLANDER', 'Anaya', '32', '18'], ['2014', 'FEMALE', 'ASIAN AND PACIFIC ISLANDER', 'Anayah', '10', '40'], ['2014', 'FEMALE', 'ASIAN AND PACIFIC ISLANDER', 'Angel', '16', '34'], ['2014', 'FEMALE', 'ASIAN AND PACIFIC ISLANDER', 'Angela', '77', '5'], ['2014', 'FEMALE', 'ASIAN AND PACIFIC ISLANDER', 'Angelina', '38', '12'], ['2014', 'FEMALE', 'ASIAN AND PACIFIC ISLANDER', 'Anna', '41', '10'], ['2014', 'FEMALE', 'ASIAN AND PACIFIC ISLANDER', 'Annabelle', '13', '37'], ['2014', 'FEMALE', 'ASIAN AND PACIFIC ISLANDER', 'Anne', '14', '36'], ['2014', 'FEMALE', 'ASIAN AND PACIFIC ISLANDER', 'Annie', '30', '20'], ['2014', 'FEMALE', 'ASIAN AND PACIFIC ISLANDER', 'Anya', '10', '40'], ['2014', 'FEMALE', 'ASIAN AND PACIFIC ISLANDER', 'Aria', '26', '24'], ['2014', 'FEMALE', 'ASIAN AND PACIFIC ISLANDER', 'Ariana', '30', '20'], ['2014', 'FEMALE', 'ASIAN AND PACIFIC ISLANDER', 'Arianna', '13', '37'], ['2014', 'FEMALE', 'ASIAN AND PACIFIC ISLANDER', 'Ariel', '14', '36'], ['2014', 'FEMALE', 'ASIAN AND PACIFIC ISLANDER', 'Arisha', '10', '40'], ['2014', 'FEMALE', 'ASIAN AND PACIFIC ISLANDER', 'Arya', '28', '22'], ['2014', 'FEMALE', 'ASIAN AND PACIFIC ISLANDER', 'Ashley', '33', '17'], ['2014', 'FEMALE', 'ASIAN AND PACIFIC ISLANDER', 'Athena', '12', '38'], ['2014', 'FEMALE', 'ASIAN AND PACIFIC ISLANDER', 'Audrey', '31', '19'], ['2014', 'FEMALE', 'ASIAN AND PACIFIC ISLANDER', 'Ava', '35', '15'], ['2014', 'FEMALE', 'ASIAN AND PACIFIC ISLANDER', 'Avery', '17', '33'], ['2014', 'FEMALE', 'ASIAN AND PACIFIC ISLANDER', 'Ayesha', '28', '22'], ['2014', 'FEMALE', 'ASIAN AND PACIFIC ISLANDER', 'Bella', '29', '21'], ['2014', 'FEMALE', 'ASIAN AND PACIFIC ISLANDER', 'Carina', '18', '32'], ['2014', 'FEMALE', 'ASIAN AND PACIFIC ISLANDER', 'Caroline', '15', '35'], ['2014', 'FEMALE', 'ASIAN AND PACIFIC ISLANDER', 'Catherine', '19', '31'], ['2014', 'FEMALE', 'ASIAN AND PACIFIC ISLANDER', 'Cecilia', '10', '40'], ['2014', 'FEMALE', 'ASIAN AND PACIFIC ISLANDER', 'Celine', '12', '38'], ['2014', 'FEMALE', 'ASIAN AND PACIFIC ISLANDER', 'Charlotte', '31', '19'], ['2014', 'FEMALE', 'ASIAN AND PACIFIC ISLANDER', 'Chelsea', '13', '37'], ['2014', 'FEMALE', 'ASIAN AND PACIFIC ISLANDER', 'Chloe', '111', '2'], ['2014', 'FEMALE', 'ASIAN AND PACIFIC ISLANDER', 'Christina', '17', '33'], ['2014', 'FEMALE', 'ASIAN AND PACIFIC ISLANDER', 'Cindy', '25', '25'], ['2014', 'FEMALE', 'ASIAN AND PACIFIC ISLANDER', 'Claire', '49', '9'], ['2014', 'FEMALE', 'ASIAN AND PACIFIC ISLANDER', 'Crystal', '17', '33'], ['2014', 'FEMALE', 'ASIAN AND PACIFIC ISLANDER', 'Cynthia', '22', '28'], ['2014', 'FEMALE', 'ASIAN AND PACIFIC ISLANDER', 'Doris', '10', '40'], ['2014', 'FEMALE', 'ASIAN AND PACIFIC ISLANDER', 'Eileen', '18', '32'], ['2014', 'FEMALE', 'ASIAN AND PACIFIC ISLANDER', 'Elaine', '17', '33'], ['2014', 'FEMALE', 'ASIAN AND PACIFIC ISLANDER', 'Eleanor', '12', '38'], ['2014', 'FEMALE', 'ASIAN AND PACIFIC ISLANDER', 'Elena', '19', '31'], ['2014', 'FEMALE', 'ASIAN AND PACIFIC ISLANDER', 'Eliana', '11', '39'], ['2014', 'FEMALE', 'ASIAN AND PACIFIC ISLANDER', 'Elina', '16', '34'], ['2014', 'FEMALE', 'ASIAN AND PACIFIC ISLANDER', 'Elizabeth', '20', '30'], ['2014', 'FEMALE', 'ASIAN AND PACIFIC ISLANDER', 'Ella', '40', '11'], ['2014', 'FEMALE', 'ASIAN AND PACIFIC ISLANDER', 'Ellie', '26', '24'], ['2014', 'FEMALE', 'ASIAN AND PACIFIC ISLANDER', 'Elsa', '23', '27'], ['2014', 'FEMALE', 'ASIAN AND PACIFIC ISLANDER', 'Emily', '92', '4'], ['2014', 'FEMALE', 'ASIAN AND PACIFIC ISLANDER', 'Emma', '96', '3'], ['2014', 'FEMALE', 'ASIAN AND PACIFIC ISLANDER', 'Erica', '12', '38'], ['2014', 'FEMALE', 'ASIAN AND PACIFIC ISLANDER', 'Erin', '11', '39'], ['2014', 'FEMALE', 'ASIAN AND PACIFIC ISLANDER', 'Eshaal', '12', '38'], ['2014', 'FEMALE', 'ASIAN AND PACIFIC ISLANDER', 'Esther', '12', '38'], ['2014', 'FEMALE', 'ASIAN AND PACIFIC ISLANDER', 'Eva', '28', '22'], ['2014', 'FEMALE', 'ASIAN AND PACIFIC ISLANDER', 'Evelyn', '26', '24'], ['2014', 'FEMALE', 'ASIAN AND PACIFIC ISLANDER', 'Fatima', '23', '27'], ['2014', 'FEMALE', 'ASIAN AND PACIFIC ISLANDER', 'Fiona', '37', '13'], ['2014', 'FEMALE', 'ASIAN AND PACIFIC ISLANDER', 'Gabriella', '18', '32'], ['2014', 'FEMALE', 'ASIAN AND PACIFIC ISLANDER', 'Gia', '11', '39'], ['2014', 'FEMALE', 'ASIAN AND PACIFIC ISLANDER', 'Grace', '64', '7'], ['2014', 'FEMALE', 'ASIAN AND PACIFIC ISLANDER', 'Hafsa', '12', '38'], ['2014', 'FEMALE', 'ASIAN AND PACIFIC ISLANDER', 'Hailey', '23', '27'], ['2014', 'FEMALE', 'ASIAN AND PACIFIC ISLANDER', 'Hana', '12', '38'], ['2014', 'FEMALE', 'ASIAN AND PACIFIC ISLANDER', 'Hanna', '15', '35'], ['2014', 'FEMALE', 'ASIAN AND PACIFIC ISLANDER', 'Hannah', '32', '18'], ['2014', 'FEMALE', 'ASIAN AND PACIFIC ISLANDER', 'Inaaya', '11', '39'], ['2014', 'FEMALE', 'ASIAN AND PACIFIC ISLANDER', 'Inaya', '11', '39'], ['2014', 'FEMALE', 'ASIAN AND PACIFIC ISLANDER', 'Irene', '16', '34'], ['2014', 'FEMALE', 'ASIAN AND PACIFIC ISLANDER', 'Iris', '21', '29'], ['2014', 'FEMALE', 'ASIAN AND PACIFIC ISLANDER', 'Isabel', '13', '37'], ['2014', 'FEMALE', 'ASIAN AND PACIFIC ISLANDER', 'Isabella', '58', '8'], ['2014', 'FEMALE', 'ASIAN AND PACIFIC ISLANDER', 'Isabelle', '23', '27'], ['2014', 'FEMALE', 'ASIAN AND PACIFIC ISLANDER', 'Ivy', '30', '20'], ['2014', 'FEMALE', 'ASIAN AND PACIFIC ISLANDER', 'Janice', '12', '38'], ['2014', 'FEMALE', 'ASIAN AND PACIFIC ISLANDER', 'Jannat', '13', '37'], ['2014', 'FEMALE', 'ASIAN AND PACIFIC ISLANDER', 'Jasmine', '36', '14'], ['2014', 'FEMALE', 'ASIAN AND PACIFIC ISLANDER', 'Jennifer', '17', '33'], ['2014', 'FEMALE', 'ASIAN AND PACIFIC ISLANDER', 'Jenny', '20', '30'], ['2014', 'FEMALE', 'ASIAN AND PACIFIC ISLANDER', 'Jessica', '35', '15'], ['2014', 'FEMALE', 'ASIAN AND PACIFIC ISLANDER', 'Jessie', '18', '32'], ['2014', 'FEMALE', 'ASIAN AND PACIFIC ISLANDER', 'Joanna', '32', '18'], ['2014', 'FEMALE', 'ASIAN AND PACIFIC ISLANDER', 'Jocelyn', '16', '34'], ['2014', 'FEMALE', 'ASIAN AND PACIFIC ISLANDER', 'Joy', '11', '39'], ['2014', 'FEMALE', 'ASIAN AND PACIFIC ISLANDER', 'Joyce', '15', '35'], ['2014', 'FEMALE', 'ASIAN AND PACIFIC ISLANDER', 'Julia', '26', '24'], ['2014', 'FEMALE', 'ASIAN AND PACIFIC ISLANDER', 'Kaitlyn', '20', '30'], ['2014', 'FEMALE', 'ASIAN AND PACIFIC ISLANDER', 'Karina', '13', '37'], ['2014', 'FEMALE', 'ASIAN AND PACIFIC ISLANDER', 'Kate', '10', '40'], ['2014', 'FEMALE', 'ASIAN AND PACIFIC ISLANDER', 'Katelyn', '12', '38'], ['2014', 'FEMALE', 'ASIAN AND PACIFIC ISLANDER', 'Katherine', '37', '13'], ['2014', 'FEMALE', 'ASIAN AND PACIFIC ISLANDER', 'Katie', '15', '35'], ['2014', 'FEMALE', 'ASIAN AND PACIFIC ISLANDER', 'Kayla', '23', '27'], ['2014', 'FEMALE', 'ASIAN AND PACIFIC ISLANDER', 'Kaylee', '18', '32'], ['2014', 'FEMALE', 'ASIAN AND PACIFIC ISLANDER', 'Kelly', '14', '36'], ['2014', 'FEMALE', 'ASIAN AND PACIFIC ISLANDER', 'Khadija', '10', '40'], ['2014', 'FEMALE', 'ASIAN AND PACIFIC ISLANDER', 'Kylie', '14', '36'], ['2014', 'FEMALE', 'ASIAN AND PACIFIC ISLANDER', 'Layla', '13', '37'], ['2014', 'FEMALE', 'ASIAN AND PACIFIC ISLANDER', 'Leah', '25', '25'], ['2014', 'FEMALE', 'ASIAN AND PACIFIC ISLANDER', 'Lila', '11', '39'], ['2014', 'FEMALE', 'ASIAN AND PACIFIC ISLANDER', 'Lillian', '14', '36'], ['2014', 'FEMALE', 'ASIAN AND PACIFIC ISLANDER', 'Lily', '14', '36'], ['2014', 'FEMALE', 'ASIAN AND PACIFIC ISLANDER', 'Lina', '12', '38'], ['2014', 'FEMALE', 'ASIAN AND PACIFIC ISLANDER', 'Lisa', '11', '39'], ['2014', 'FEMALE', 'ASIAN AND PACIFIC ISLANDER', 'Livia', '11', '39'], ['2014', 'FEMALE', 'ASIAN AND PACIFIC ISLANDER', 'Luna', '10', '40'], ['2014', 'FEMALE', 'ASIAN AND PACIFIC ISLANDER', 'Lydia', '13', '37'], ['2014', 'FEMALE', 'ASIAN AND PACIFIC ISLANDER', 'Madeline', '10', '40'], ['2014', 'FEMALE', 'ASIAN AND PACIFIC ISLANDER', 'Madelyn', '11', '39'], ['2014', 'FEMALE', 'ASIAN AND PACIFIC ISLANDER', 'Madison', '28', '22'], ['2014', 'FEMALE', 'ASIAN AND PACIFIC ISLANDER', 'Maggie', '14', '36'], ['2014', 'FEMALE', 'ASIAN AND PACIFIC ISLANDER', 'Mandy', '11', '39'], ['2014', 'FEMALE', 'ASIAN AND PACIFIC ISLANDER', 'Maryam', '20', '30'], ['2014', 'FEMALE', 'ASIAN AND PACIFIC ISLANDER', 'Maya', '25', '25'], ['2014', 'FEMALE', 'ASIAN AND PACIFIC ISLANDER', 'Megan', '13', '37'], ['2014', 'FEMALE', 'ASIAN AND PACIFIC ISLANDER', 'Melody', '28', '22'], ['2014', 'FEMALE', 'ASIAN AND PACIFIC ISLANDER', 'Mia', '67', '6'], ['2014', 'FEMALE', 'ASIAN AND PACIFIC ISLANDER', 'Michelle', '17', '33'], ['2014', 'FEMALE', 'ASIAN AND PACIFIC ISLANDER', 'Mila', '25', '25'], ['2014', 'FEMALE', 'ASIAN AND PACIFIC ISLANDER', 'Miranda', '14', '36'], ['2014', 'FEMALE', 'ASIAN AND PACIFIC ISLANDER', 'Naomi', '15', '35'], ['2014', 'FEMALE', 'ASIAN AND PACIFIC ISLANDER', 'Natalie', '16', '34'], ['2014', 'FEMALE', 'ASIAN AND PACIFIC ISLANDER', 'Nicole', '28', '22'], ['2014', 'FEMALE', 'ASIAN AND PACIFIC ISLANDER', 'Nina', '21', '29'], ['2014', 'FEMALE', 'ASIAN AND PACIFIC ISLANDER', 'Noor', '13', '37'], ['2014', 'FEMALE', 'ASIAN AND PACIFIC ISLANDER', 'Olivia', '141', '1'], ['2014', 'FEMALE', 'ASIAN AND PACIFIC ISLANDER', 'Penelope', '15', '35'], ['2014', 'FEMALE', 'ASIAN AND PACIFIC ISLANDER', 'Phoebe', '13', '37'], ['2014', 'FEMALE', 'ASIAN AND PACIFIC ISLANDER', 'Priscilla', '10', '40'], ['2014', 'FEMALE', 'ASIAN AND PACIFIC ISLANDER', 'Queena', '11', '39'], ['2014', 'FEMALE', 'ASIAN AND PACIFIC ISLANDER', 'Queenie', '17', '33'], ['2014', 'FEMALE', 'ASIAN AND PACIFIC ISLANDER', 'Rachel', '24', '26'], ['2014', 'FEMALE', 'ASIAN AND PACIFIC ISLANDER', 'Raina', '10', '40'], ['2014', 'FEMALE', 'ASIAN AND PACIFIC ISLANDER', 'Rebecca', '11', '39'], ['2014', 'FEMALE', 'ASIAN AND PACIFIC ISLANDER', 'Riley', '10', '40'], ['2014', 'FEMALE', 'ASIAN AND PACIFIC ISLANDER', 'Sabrina', '19', '31'], ['2014', 'FEMALE', 'ASIAN AND PACIFIC ISLANDER', 'Safa', '11', '39'], ['2014', 'FEMALE', 'ASIAN AND PACIFIC ISLANDER', 'Samantha', '18', '32'], ['2014', 'FEMALE', 'ASIAN AND PACIFIC ISLANDER', 'Samara', '13', '37'], ['2014', 'FEMALE', 'ASIAN AND PACIFIC ISLANDER', 'Sara', '14', '36'], ['2014', 'FEMALE', 'ASIAN AND PACIFIC ISLANDER', 'Sarah', '35', '15'], ['2014', 'FEMALE', 'ASIAN AND PACIFIC ISLANDER', 'Scarlett', '19', '31'], ['2014', 'FEMALE', 'ASIAN AND PACIFIC ISLANDER', 'Selena', '14', '36'], ['2014', 'FEMALE', 'ASIAN AND PACIFIC ISLANDER', 'Selina', '19', '31'], ['2014', 'FEMALE', 'ASIAN AND PACIFIC ISLANDER', 'Serena', '24', '26'], ['2014', 'FEMALE', 'ASIAN AND PACIFIC ISLANDER', 'Sharon', '16', '34'], ['2014', 'FEMALE', 'ASIAN AND PACIFIC ISLANDER', 'Shirley', '17', '33'], ['2014', 'FEMALE', 'ASIAN AND PACIFIC ISLANDER', 'Shreya', '10', '40'], ['2014', 'FEMALE', 'ASIAN AND PACIFIC ISLANDER', 'Sofia', '19', '31'], ['2014', 'FEMALE', 'ASIAN AND PACIFIC ISLANDER', 'Sophia', '111', '2'], ['2014', 'FEMALE', 'ASIAN AND PACIFIC ISLANDER', 'Sophie', '29', '21'], ['2014', 'FEMALE', 'ASIAN AND PACIFIC ISLANDER', 'Stella', '19', '31'], ['2014', 'FEMALE', 'ASIAN AND PACIFIC ISLANDER', 'Stephanie', '21', '29'], ['2014', 'FEMALE', 'ASIAN AND PACIFIC ISLANDER', 'Summer', '12', '38'], ['2014', 'FEMALE', 'ASIAN AND PACIFIC ISLANDER', 'Syeda', '16', '34'], ['2014', 'FEMALE', 'ASIAN AND PACIFIC ISLANDER', 'Sylvia', '12', '38'], ['2014', 'FEMALE', 'ASIAN AND PACIFIC ISLANDER', 'Tenzin', '33', '17'], ['2014', 'FEMALE', 'ASIAN AND PACIFIC ISLANDER', 'Tiffany', '29', '21'], ['2014', 'FEMALE', 'ASIAN AND PACIFIC ISLANDER', 'Vanessa', '12', '38'], ['2014', 'FEMALE', 'ASIAN AND PACIFIC ISLANDER', 'Vicky', '15', '35'], ['2014', 'FEMALE', 'ASIAN AND PACIFIC ISLANDER', 'Victoria', '25', '25'], ['2014', 'FEMALE', 'ASIAN AND PACIFIC ISLANDER', 'Vivian', '31', '19'], ['2014', 'FEMALE', 'ASIAN AND PACIFIC ISLANDER', 'Winnie', '11', '39'], ['2014', 'FEMALE', 'ASIAN AND PACIFIC ISLANDER', 'Zainab', '24', '26'], ['2014', 'FEMALE', 'ASIAN AND PACIFIC ISLANDER', 'Zara', '37', '13'], ['2014', 'FEMALE', 'ASIAN AND PACIFIC ISLANDER', 'Zoe', '34', '16'], ['2014', 'FEMALE', 'ASIAN AND PACIFIC ISLANDER', 'Zoey', '24', '26'], ['2014', 'FEMALE', 'BLACK NON HISPANIC', 'Aaliyah', '67', '4'], ['2014', 'FEMALE', 'BLACK NON HISPANIC', 'Abigail', '41', '12'], ['2014', 'FEMALE', 'BLACK NON HISPANIC', 'Adrianna', '11', '40'], ['2014', 'FEMALE', 'BLACK NON HISPANIC', 'Aicha', '23', '28'], ['2014', 'FEMALE', 'BLACK NON HISPANIC', 'Aisha', '15', '36'], ['2014', 'FEMALE', 'BLACK NON HISPANIC', 'Aissatou', '13', '38'], ['2014', 'FEMALE', 'BLACK NON HISPANIC', 'Alana', '16', '35'], ['2014', 'FEMALE', 'BLACK NON HISPANIC', 'Alexandria', '10', '41'], ['2014', 'FEMALE', 'BLACK NON HISPANIC', 'Alexis', '13', '38'], ['2014', 'FEMALE', 'BLACK NON HISPANIC', 'Aliyah', '23', '28'], ['2014', 'FEMALE', 'BLACK NON HISPANIC', 'Alyssa', '24', '27'], ['2014', 'FEMALE', 'BLACK NON HISPANIC', 'Amara', '12', '39'], ['2014', 'FEMALE', 'BLACK NON HISPANIC', 'Amaya', '33', '18'], ['2014', 'FEMALE', 'BLACK NON HISPANIC', 'Amelia', '28', '23'], ['2014', 'FEMALE', 'BLACK NON HISPANIC', 'Amia', '10', '41'], ['2014', 'FEMALE', 'BLACK NON HISPANIC', 'Amina', '27', '24'], ['2014', 'FEMALE', 'BLACK NON HISPANIC', 'Aminata', '29', '22'], ['2014', 'FEMALE', 'BLACK NON HISPANIC', 'Amira', '15', '36'], ['2014', 'FEMALE', 'BLACK NON HISPANIC', 'Amirah', '10', '41'], ['2014', 'FEMALE', 'BLACK NON HISPANIC', 'Amiya', '10', '41'], ['2014', 'FEMALE', 'BLACK NON HISPANIC', 'Amiyah', '18', '33'], ['2014', 'FEMALE', 'BLACK NON HISPANIC', 'Angelina', '14', '37'], ['2014', 'FEMALE', 'BLACK NON HISPANIC', 'Aniya', '11', '40'], ['2014', 'FEMALE', 'BLACK NON HISPANIC', 'Aniyah', '17', '34'], ['2014', 'FEMALE', 'BLACK NON HISPANIC', 'Annabelle', '14', '37'], ['2014', 'FEMALE', 'BLACK NON HISPANIC', 'Aria', '19', '32'], ['2014', 'FEMALE', 'BLACK NON HISPANIC', 'Ariana', '24', '27'], ['2014', 'FEMALE', 'BLACK NON HISPANIC', 'Arianna', '37', '15'], ['2014', 'FEMALE', 'BLACK NON HISPANIC', 'Ariel', '45', '11'], ['2014', 'FEMALE', 'BLACK NON HISPANIC', 'Arielle', '15', '36'], ['2014', 'FEMALE', 'BLACK NON HISPANIC', 'Ashley', '17', '34'], ['2014', 'FEMALE', 'BLACK NON HISPANIC', 'Aubree', '12', '39'], ['2014', 'FEMALE', 'BLACK NON HISPANIC', 'Aubrey', '21', '30'], ['2014', 'FEMALE', 'BLACK NON HISPANIC', 'Autumn', '41', '12'], ['2014', 'FEMALE', 'BLACK NON HISPANIC', 'Ava', '78', '2'], ['2014', 'FEMALE', 'BLACK NON HISPANIC', 'Avery', '25', '26'], ['2014', 'FEMALE', 'BLACK NON HISPANIC', 'Bella', '15', '36'], ['2014', 'FEMALE', 'BLACK NON HISPANIC', 'Blessing', '11', '40'], ['2014', 'FEMALE', 'BLACK NON HISPANIC', 'Brianna', '24', '27'], ['2014', 'FEMALE', 'BLACK NON HISPANIC', 'Brielle', '30', '21'], ['2014', 'FEMALE', 'BLACK NON HISPANIC', 'Brooke', '11', '40'], ['2014', 'FEMALE', 'BLACK NON HISPANIC', 'Brooklyn', '14', '37'], ['2014', 'FEMALE', 'BLACK NON HISPANIC', 'Cali', '17', '34'], ['2014', 'FEMALE', 'BLACK NON HISPANIC', 'Chanel', '11', '40'], ['2014', 'FEMALE', 'BLACK NON HISPANIC', 'Charlotte', '11', '40'], ['2014', 'FEMALE', 'BLACK NON HISPANIC', 'Chelsea', '30', '21'], ['2014', 'FEMALE', 'BLACK NON HISPANIC', 'Chloe', '68', '3'], ['2014', 'FEMALE', 'BLACK NON HISPANIC', 'Christina', '10', '41'], ['2014', 'FEMALE', 'BLACK NON HISPANIC', 'Dakota', '13', '38'], ['2014', 'FEMALE', 'BLACK NON HISPANIC', 'Danielle', '12', '39'], ['2014', 'FEMALE', 'BLACK NON HISPANIC', 'Destiny', '28', '23'], ['2014', 'FEMALE', 'BLACK NON HISPANIC', 'Egypt', '11', '40'], ['2014', 'FEMALE', 'BLACK NON HISPANIC', 'Eliana', '23', '28'], ['2014', 'FEMALE', 'BLACK NON HISPANIC', 'Elizabeth', '25', '26'], ['2014', 'FEMALE', 'BLACK NON HISPANIC', 'Ella', '11', '40'], ['2014', 'FEMALE', 'BLACK NON HISPANIC', 'Emily', '37', '15'], ['2014', 'FEMALE', 'BLACK NON HISPANIC', 'Emma', '23', '28'], ['2014', 'FEMALE', 'BLACK NON HISPANIC', 'Eva', '16', '35'], ['2014', 'FEMALE', 'BLACK NON HISPANIC', 'Faith', '40', '13'], ['2014', 'FEMALE', 'BLACK NON HISPANIC', 'Fanta', '12', '39'], ['2014', 'FEMALE', 'BLACK NON HISPANIC', 'Fatima', '32', '19'], ['2014', 'FEMALE', 'BLACK NON HISPANIC', 'Fatou', '10', '41'], ['2014', 'FEMALE', 'BLACK NON HISPANIC', 'Fatoumata', '47', '9'], ['2014', 'FEMALE', 'BLACK NON HISPANIC', 'Gabriella', '28', '23'], ['2014', 'FEMALE', 'BLACK NON HISPANIC', 'Gabrielle', '37', '15'], ['2014', 'FEMALE', 'BLACK NON HISPANIC', 'Genesis', '20', '31'], ['2014', 'FEMALE', 'BLACK NON HISPANIC', 'Gianna', '14', '37'], ['2014', 'FEMALE', 'BLACK NON HISPANIC', 'Grace', '20', '31'], ['2014', 'FEMALE', 'BLACK NON HISPANIC', 'Hailey', '21', '30'], ['2014', 'FEMALE', 'BLACK NON HISPANIC', 'Hannah', '17', '34'], ['2014', 'FEMALE', 'BLACK NON HISPANIC', 'Harmony', '17', '34'], ['2014', 'FEMALE', 'BLACK NON HISPANIC', 'Hawa', '14', '37'], ['2014', 'FEMALE', 'BLACK NON HISPANIC', 'Heaven', '25', '26'], ['2014', 'FEMALE', 'BLACK NON HISPANIC', 'Hope', '11', '40'], ['2014', 'FEMALE', 'BLACK NON HISPANIC', 'Imani', '24', '27'], ['2014', 'FEMALE', 'BLACK NON HISPANIC', 'Isabella', '47', '9'], ['2014', 'FEMALE', 'BLACK NON HISPANIC', 'Isabelle', '20', '31'], ['2014', 'FEMALE', 'BLACK NON HISPANIC', 'Jada', '18', '33'], ['2014', 'FEMALE', 'BLACK NON HISPANIC', 'Jade', '22', '29'], ['2014', 'FEMALE', 'BLACK NON HISPANIC', 'Janelle', '12', '39'], ['2014', 'FEMALE', 'BLACK NON HISPANIC', 'Jasmine', '25', '26'], ['2014', 'FEMALE', 'BLACK NON HISPANIC', 'Jayda', '13', '38'], ['2014', 'FEMALE', 'BLACK NON HISPANIC', 'Jayla', '25', '26'], ['2014', 'FEMALE', 'BLACK NON HISPANIC', 'Jordan', '13', '38'], ['2014', 'FEMALE', 'BLACK NON HISPANIC', 'Jordyn', '21', '30'], ['2014', 'FEMALE', 'BLACK NON HISPANIC', 'Journee', '11', '40'], ['2014', 'FEMALE', 'BLACK NON HISPANIC', 'Journey', '13', '38'], ['2014', 'FEMALE', 'BLACK NON HISPANIC', 'Joy', '11', '40'], ['2014', 'FEMALE', 'BLACK NON HISPANIC', 'Kadiatou', '10', '41'], ['2014', 'FEMALE', 'BLACK NON HISPANIC', 'Kaitlyn', '24', '27'], ['2014', 'FEMALE', 'BLACK NON HISPANIC', 'Kali', '12', '39'], ['2014', 'FEMALE', 'BLACK NON HISPANIC', 'Kayla', '36', '16'], ['2014', 'FEMALE', 'BLACK NON HISPANIC', 'Kaylee', '24', '27'], ['2014', 'FEMALE', 'BLACK NON HISPANIC', 'Kelsey', '14', '37'], ['2014', 'FEMALE', 'BLACK NON HISPANIC', 'Kennedy', '25', '26'], ['2014', 'FEMALE', 'BLACK NON HISPANIC', 'Khadijah', '13', '38'], ['2014', 'FEMALE', 'BLACK NON HISPANIC', 'Khloe', '39', '14'], ['2014', 'FEMALE', 'BLACK NON HISPANIC', 'Kiara', '15', '36'], ['2014', 'FEMALE', 'BLACK NON HISPANIC', 'Kimora', '13', '38'], ['2014', 'FEMALE', 'BLACK NON HISPANIC', 'Kristen', '10', '41'], ['2014', 'FEMALE', 'BLACK NON HISPANIC', 'Kyla', '11', '40'], ['2014', 'FEMALE', 'BLACK NON HISPANIC', 'Kylee', '10', '41'], ['2014', 'FEMALE', 'BLACK NON HISPANIC', 'Kylie', '30', '21'], ['2014', 'FEMALE', 'BLACK NON HISPANIC', 'Laila', '27', '24'], ['2014', 'FEMALE', 'BLACK NON HISPANIC', 'Lailah', '10', '41'], ['2014', 'FEMALE', 'BLACK NON HISPANIC', 'Lauren', '37', '15'], ['2014', 'FEMALE', 'BLACK NON HISPANIC', 'Lauryn', '10', '41'], ['2014', 'FEMALE', 'BLACK NON HISPANIC', 'Layla', '26', '25'], ['2014', 'FEMALE', 'BLACK NON HISPANIC', 'Leah', '36', '16'], ['2014', 'FEMALE', 'BLACK NON HISPANIC', 'Leilani', '13', '38'], ['2014', 'FEMALE', 'BLACK NON HISPANIC', 'Lillian', '11', '40'], ['2014', 'FEMALE', 'BLACK NON HISPANIC', 'Logan', '14', '37'], ['2014', 'FEMALE', 'BLACK NON HISPANIC', 'London', '61', '6'], ['2014', 'FEMALE', 'BLACK NON HISPANIC', 'Londyn', '26', '25'], ['2014', 'FEMALE', 'BLACK NON HISPANIC', 'Lyric', '15', '36'], ['2014', 'FEMALE', 'BLACK NON HISPANIC', 'Mackenzie', '15', '36'], ['2014', 'FEMALE', 'BLACK NON HISPANIC', 'Madison', '130', '1'], ['2014', 'FEMALE', 'BLACK NON HISPANIC', 'Madisyn', '14', '37'], ['2014', 'FEMALE', 'BLACK NON HISPANIC', 'Makayla', '40', '13'], ['2014', 'FEMALE', 'BLACK NON HISPANIC', 'Malaysia', '14', '37'], ['2014', 'FEMALE', 'BLACK NON HISPANIC', 'Malia', '18', '33'], ['2014', 'FEMALE', 'BLACK NON HISPANIC', 'Maliyah', '20', '31'], ['2014', 'FEMALE', 'BLACK NON HISPANIC', 'Mariah', '22', '29'], ['2014', 'FEMALE', 'BLACK NON HISPANIC', 'Mariam', '47', '9'], ['2014', 'FEMALE', 'BLACK NON HISPANIC', 'Mariama', '16', '35'], ['2014', 'FEMALE', 'BLACK NON HISPANIC', 'Maryam', '10', '41'], ['2014', 'FEMALE', 'BLACK NON HISPANIC', 'Maya', '36', '16'], ['2014', 'FEMALE', 'BLACK NON HISPANIC', 'McKenzie', '30', '21'], ['2014', 'FEMALE', 'BLACK NON HISPANIC', 'Melanie', '11', '40'], ['2014', 'FEMALE', 'BLACK NON HISPANIC', 'Mia', '61', '6'], ['2014', 'FEMALE', 'BLACK NON HISPANIC', 'Michelle', '22', '29'], ['2014', 'FEMALE', 'BLACK NON HISPANIC', 'Mikayla', '17', '34'], ['2014', 'FEMALE', 'BLACK NON HISPANIC', 'Mila', '11', '40'], ['2014', 'FEMALE', 'BLACK NON HISPANIC', 'Milan', '26', '25'], ['2014', 'FEMALE', 'BLACK NON HISPANIC', 'Miracle', '13', '38'], ['2014', 'FEMALE', 'BLACK NON HISPANIC', 'Morgan', '36', '16'], ['2014', 'FEMALE', 'BLACK NON HISPANIC', 'Mya', '26', '25'], ['2014', 'FEMALE', 'BLACK NON HISPANIC', 'Nahla', '13', '38'], ['2014', 'FEMALE', 'BLACK NON HISPANIC', 'Naomi', '32', '19'], ['2014', 'FEMALE', 'BLACK NON HISPANIC', 'Nevaeh', '31', '20'], ['2014', 'FEMALE', 'BLACK NON HISPANIC', 'Nia', '31', '20'], ['2014', 'FEMALE', 'BLACK NON HISPANIC', 'Nova', '11', '40'], ['2014', 'FEMALE', 'BLACK NON HISPANIC', 'Nyla', '36', '16'], ['2014', 'FEMALE', 'BLACK NON HISPANIC', 'Nylah', '34', '17'], ['2014', 'FEMALE', 'BLACK NON HISPANIC', 'Olivia', '52', '8'], ['2014', 'FEMALE', 'BLACK NON HISPANIC', 'Oumou', '13', '38'], ['2014', 'FEMALE', 'BLACK NON HISPANIC', 'Paige', '28', '23'], ['2014', 'FEMALE', 'BLACK NON HISPANIC', 'Paris', '29', '22'], ['2014', 'FEMALE', 'BLACK NON HISPANIC', 'Penelope', '10', '41'], ['2014', 'FEMALE', 'BLACK NON HISPANIC', 'Peyton', '34', '17'], ['2014', 'FEMALE', 'BLACK NON HISPANIC', 'Phoenix', '10', '41'], ['2014', 'FEMALE', 'BLACK NON HISPANIC', 'Riley', '20', '31'], ['2014', 'FEMALE', 'BLACK NON HISPANIC', 'Samantha', '14', '37'], ['2014', 'FEMALE', 'BLACK NON HISPANIC', 'Sanaa', '14', '37'], ['2014', 'FEMALE', 'BLACK NON HISPANIC', 'Sanai', '15', '36'], ['2014', 'FEMALE', 'BLACK NON HISPANIC', 'Saniyah', '10', '41'], ['2014', 'FEMALE', 'BLACK NON HISPANIC', 'Sarah', '22', '29'], ['2014', 'FEMALE', 'BLACK NON HISPANIC', 'Sarai', '15', '36'], ['2014', 'FEMALE', 'BLACK NON HISPANIC', 'Sariah', '12', '39'], ['2014', 'FEMALE', 'BLACK NON HISPANIC', 'Savannah', '53', '7'], ['2014', 'FEMALE', 'BLACK NON HISPANIC', 'Serenity', '46', '10'], ['2014', 'FEMALE', 'BLACK NON HISPANIC', 'Shiloh', '10', '41'], ['2014', 'FEMALE', 'BLACK NON HISPANIC', 'Skye', '17', '34'], ['2014', 'FEMALE', 'BLACK NON HISPANIC', 'Skyla', '28', '23'], ['2014', 'FEMALE', 'BLACK NON HISPANIC', 'Skylah', '24', '27'], ['2014', 'FEMALE', 'BLACK NON HISPANIC', 'Skylar', '63', '5'], ['2014', 'FEMALE', 'BLACK NON HISPANIC', 'Skyler', '10', '41'], ['2014', 'FEMALE', 'BLACK NON HISPANIC', 'Sofia', '12', '39'], ['2014', 'FEMALE', 'BLACK NON HISPANIC', 'Sophia', '36', '16'], ['2014', 'FEMALE', 'BLACK NON HISPANIC', 'Summer', '10', '41'], ['2014', 'FEMALE', 'BLACK NON HISPANIC', 'Sydney', '21', '30'], ['2014', 'FEMALE', 'BLACK NON HISPANIC', 'Taylor', '45', '11'], ['2014', 'FEMALE', 'BLACK NON HISPANIC', 'Tiana', '13', '38'], ['2014', 'FEMALE', 'BLACK NON HISPANIC', 'Tianna', '13', '38'], ['2014', 'FEMALE', 'BLACK NON HISPANIC', 'Tori', '18', '33'], ['2014', 'FEMALE', 'BLACK NON HISPANIC', 'Trinity', '19', '32'], ['2014', 'FEMALE', 'BLACK NON HISPANIC', 'Victoria', '30', '21'], ['2014', 'FEMALE', 'BLACK NON HISPANIC', 'Violet', '14', '37'], ['2014', 'FEMALE', 'BLACK NON HISPANIC', 'Winter', '16', '35'], ['2014', 'FEMALE', 'BLACK NON HISPANIC', 'Wynter', '12', '39'], ['2014', 'FEMALE', 'BLACK NON HISPANIC', 'Zaniyah', '10', '41'], ['2014', 'FEMALE', 'BLACK NON HISPANIC', 'Zara', '14', '37'], ['2014', 'FEMALE', 'BLACK NON HISPANIC', 'Zariah', '10', '41'], ['2014', 'FEMALE', 'BLACK NON HISPANIC', 'Zendaya', '13', '38'], ['2014', 'FEMALE', 'BLACK NON HISPANIC', 'Zoe', '23', '28'], ['2014', 'FEMALE', 'BLACK NON HISPANIC', 'Zoey', '32', '19'], ['2014', 'FEMALE', 'BLACK NON HISPANIC', 'Zuri', '21', '30'], ['2014', 'FEMALE', 'HISPANIC', 'Aaliyah', '55', '36'], ['2014', 'FEMALE', 'HISPANIC', 'Abigail', '104', '12'], ['2014', 'FEMALE', 'HISPANIC', 'Adelyn', '10', '73'], ['2014', 'FEMALE', 'HISPANIC', 'Adriana', '42', '44'], ['2014', 'FEMALE', 'HISPANIC', 'Adrianna', '18', '65'], ['2014', 'FEMALE', 'HISPANIC', 'Aileen', '20', '63'], ['2014', 'FEMALE', 'HISPANIC', 'Alana', '17', '66'], ['2014', 'FEMALE', 'HISPANIC', 'Alanis', '26', '57'], ['2014', 'FEMALE', 'HISPANIC', 'Alejandra', '17', '66'], ['2014', 'FEMALE', 'HISPANIC', 'Alessandra', '12', '71'], ['2014', 'FEMALE', 'HISPANIC', 'Alexa', '71', '30'], ['2014', 'FEMALE', 'HISPANIC', 'Alexandra', '31', '52'], ['2014', 'FEMALE', 'HISPANIC', 'Alexia', '13', '70'], ['2014', 'FEMALE', 'HISPANIC', 'Alexis', '13', '70'], ['2014', 'FEMALE', 'HISPANIC', 'Alice', '19', '64'], ['2014', 'FEMALE', 'HISPANIC', 'Alicia', '14', '69'], ['2014', 'FEMALE', 'HISPANIC', 'Alina', '30', '53'], ['2014', 'FEMALE', 'HISPANIC', 'Alison', '21', '62'], ['2014', 'FEMALE', 'HISPANIC', 'Alissa', '10', '73'], ['2014', 'FEMALE', 'HISPANIC', 'Aliyah', '19', '64'], ['2014', 'FEMALE', 'HISPANIC', 'Allison', '103', '13'], ['2014', 'FEMALE', 'HISPANIC', 'Allyson', '16', '67'], ['2014', 'FEMALE', 'HISPANIC', 'Alma', '13', '70'], ['2014', 'FEMALE', 'HISPANIC', 'Alondra', '15', '68'], ['2014', 'FEMALE', 'HISPANIC', 'Alyssa', '31', '52'], ['2014', 'FEMALE', 'HISPANIC', 'Amalia', '15', '68'], ['2014', 'FEMALE', 'HISPANIC', 'Amanda', '31', '52'], ['2014', 'FEMALE', 'HISPANIC', 'Amaya', '27', '56'], ['2014', 'FEMALE', 'HISPANIC', 'Amber', '18', '65'], ['2014', 'FEMALE', 'HISPANIC', 'Amelia', '60', '33'], ['2014', 'FEMALE', 'HISPANIC', 'Amy', '73', '28'], ['2014', 'FEMALE', 'HISPANIC', 'Ana', '33', '50'], ['2014', 'FEMALE', 'HISPANIC', 'Anabella', '10', '73'], ['2014', 'FEMALE', 'HISPANIC', 'Anabelle', '10', '73'], ['2014', 'FEMALE', 'HISPANIC', 'Anaya', '12', '71'], ['2014', 'FEMALE', 'HISPANIC', 'Andrea', '46', '40'], ['2014', 'FEMALE', 'HISPANIC', 'Angela', '17', '66'], ['2014', 'FEMALE', 'HISPANIC', 'Angelica', '30', '53'], ['2014', 'FEMALE', 'HISPANIC', 'Angelina', '34', '49'], ['2014', 'FEMALE', 'HISPANIC', 'Angeline', '12', '71'], ['2014', 'FEMALE', 'HISPANIC', 'Angelique', '17', '66'], ['2014', 'FEMALE', 'HISPANIC', 'Angie', '19', '64'], ['2014', 'FEMALE', 'HISPANIC', 'Anna', '14', '69'], ['2014', 'FEMALE', 'HISPANIC', 'Annabella', '15', '68'], ['2014', 'FEMALE', 'HISPANIC', 'Annabelle', '12', '71'], ['2014', 'FEMALE', 'HISPANIC', 'Annalise', '12', '71'], ['2014', 'FEMALE', 'HISPANIC', 'April', '12', '71'], ['2014', 'FEMALE', 'HISPANIC', 'Arabella', '16', '67'], ['2014', 'FEMALE', 'HISPANIC', 'Arely', '11', '72'], ['2014', 'FEMALE', 'HISPANIC', 'Aria', '28', '55'], ['2014', 'FEMALE', 'HISPANIC', 'Ariana', '94', '17'], ['2014', 'FEMALE', 'HISPANIC', 'Arianna', '85', '23'], ['2014', 'FEMALE', 'HISPANIC', 'Ariel', '19', '64'], ['2014', 'FEMALE', 'HISPANIC', 'Ariella', '16', '67'], ['2014', 'FEMALE', 'HISPANIC', 'Arielle', '13', '70'], ['2014', 'FEMALE', 'HISPANIC', 'Arya', '13', '70'], ['2014', 'FEMALE', 'HISPANIC', 'Ashley', '139', '9'], ['2014', 'FEMALE', 'HISPANIC', 'Athena', '23', '60'], ['2014', 'FEMALE', 'HISPANIC', 'Aubree', '18', '65'], ['2014', 'FEMALE', 'HISPANIC', 'Aubrey', '45', '41'], ['2014', 'FEMALE', 'HISPANIC', 'Audrey', '17', '66'], ['2014', 'FEMALE', 'HISPANIC', 'Aurora', '10', '73'], ['2014', 'FEMALE', 'HISPANIC', 'Autumn', '13', '70'], ['2014', 'FEMALE', 'HISPANIC', 'Ava', '79', '25'], ['2014', 'FEMALE', 'HISPANIC', 'Avery', '28', '55'], ['2014', 'FEMALE', 'HISPANIC', 'Ayleen', '12', '71'], ['2014', 'FEMALE', 'HISPANIC', 'Aylin', '45', '41'], ['2014', 'FEMALE', 'HISPANIC', 'Bella', '62', '32'], ['2014', 'FEMALE', 'HISPANIC', 'Bianca', '22', '61'], ['2014', 'FEMALE', 'HISPANIC', 'Brenda', '14', '69'], ['2014', 'FEMALE', 'HISPANIC', 'Briana', '14', '69'], ['2014', 'FEMALE', 'HISPANIC', 'Brianna', '86', '22'], ['2014', 'FEMALE', 'HISPANIC', 'Brielle', '10', '73'], ['2014', 'FEMALE', 'HISPANIC', 'Brigitte', '11', '72'], ['2014', 'FEMALE', 'HISPANIC', 'Brittany', '34', '49'], ['2014', 'FEMALE', 'HISPANIC', 'Brooke', '10', '73'], ['2014', 'FEMALE', 'HISPANIC', 'Bryanna', '12', '71'], ['2014', 'FEMALE', 'HISPANIC', 'Camila', '193', '5'], ['2014', 'FEMALE', 'HISPANIC', 'Carla', '13', '70'], ['2014', 'FEMALE', 'HISPANIC', 'Carmen', '14', '69'], ['2014', 'FEMALE', 'HISPANIC', 'Carolina', '10', '73'], ['2014', 'FEMALE', 'HISPANIC', 'Caroline', '10', '73'], ['2014', 'FEMALE', 'HISPANIC', 'Cataleya', '12', '71'], ['2014', 'FEMALE', 'HISPANIC', 'Catalina', '19', '64'], ['2014', 'FEMALE', 'HISPANIC', 'Catherine', '11', '72'], ['2014', 'FEMALE', 'HISPANIC', 'Cecilia', '10', '73'], ['2014', 'FEMALE', 'HISPANIC', 'Celeste', '12', '71'], ['2014', 'FEMALE', 'HISPANIC', 'Celine', '10', '73'], ['2014', 'FEMALE', 'HISPANIC', 'Charlotte', '31', '52'], ['2014', 'FEMALE', 'HISPANIC', 'Chelsea', '34', '49'], ['2014', 'FEMALE', 'HISPANIC', 'Chloe', '68', '31'], ['2014', 'FEMALE', 'HISPANIC', 'Christina', '10', '73'], ['2014', 'FEMALE', 'HISPANIC', 'Crystal', '16', '67'], ['2014', 'FEMALE', 'HISPANIC', 'Cynthia', '10', '73'], ['2014', 'FEMALE', 'HISPANIC', 'Daisy', '19', '64'], ['2014', 'FEMALE', 'HISPANIC', 'Daleyza', '14', '69'], ['2014', 'FEMALE', 'HISPANIC', 'Daniela', '50', '38'], ['2014', 'FEMALE', 'HISPANIC', 'Daniella', '32', '51'], ['2014', 'FEMALE', 'HISPANIC', 'Danna', '31', '52'], ['2014', 'FEMALE', 'HISPANIC', 'Dayana', '16', '67'], ['2014', 'FEMALE', 'HISPANIC', 'Delilah', '41', '45'], ['2014', 'FEMALE', 'HISPANIC', 'Destiny', '25', '58'], ['2014', 'FEMALE', 'HISPANIC', 'Diana', '33', '50'], ['2014', 'FEMALE', 'HISPANIC', 'Eileen', '11', '72'], ['2014', 'FEMALE', 'HISPANIC', 'Elena', '32', '51'], ['2014', 'FEMALE', 'HISPANIC', 'Eliana', '29', '54'], ['2014', 'FEMALE', 'HISPANIC', 'Elisa', '14', '69'], ['2014', 'FEMALE', 'HISPANIC', 'Eliza', '11', '72'], ['2014', 'FEMALE', 'HISPANIC', 'Elizabeth', '40', '46'], ['2014', 'FEMALE', 'HISPANIC', 'Ella', '19', '64'], ['2014', 'FEMALE', 'HISPANIC', 'Emely', '60', '33'], ['2014', 'FEMALE', 'HISPANIC', 'Emilia', '21', '62'], ['2014', 'FEMALE', 'HISPANIC', 'Emily', '170', '6'], ['2014', 'FEMALE', 'HISPANIC', 'Emma', '167', '7'], ['2014', 'FEMALE', 'HISPANIC', 'Erika', '13', '70'], ['2014', 'FEMALE', 'HISPANIC', 'Esmeralda', '19', '64'], ['2014', 'FEMALE', 'HISPANIC', 'Esther', '20', '63'], ['2014', 'FEMALE', 'HISPANIC', 'Eva', '33', '50'], ['2014', 'FEMALE', 'HISPANIC', 'Evangeline', '11', '72'], ['2014', 'FEMALE', 'HISPANIC', 'Evelyn', '32', '51'], ['2014', 'FEMALE', 'HISPANIC', 'Faith', '32', '51'], ['2014', 'FEMALE', 'HISPANIC', 'Francesca', '12', '71'], ['2014', 'FEMALE', 'HISPANIC', 'Gabriela', '45', '41'], ['2014', 'FEMALE', 'HISPANIC', 'Gabriella', '78', '26'], ['2014', 'FEMALE', 'HISPANIC', 'Genesis', '102', '14'], ['2014', 'FEMALE', 'HISPANIC', 'Gia', '12', '71'], ['2014', 'FEMALE', 'HISPANIC', 'Gianna', '43', '43'], ['2014', 'FEMALE', 'HISPANIC', 'Giselle', '32', '51'], ['2014', 'FEMALE', 'HISPANIC', 'Grace', '41', '45'], ['2014', 'FEMALE', 'HISPANIC', 'Guadalupe', '29', '54'], ['2014', 'FEMALE', 'HISPANIC', 'Hailey', '92', '18'], ['2014', 'FEMALE', 'HISPANIC', 'Hailie', '10', '73'], ['2014', 'FEMALE', 'HISPANIC', 'Hannah', '21', '62'], ['2014', 'FEMALE', 'HISPANIC', 'Haylee', '15', '68'], ['2014', 'FEMALE', 'HISPANIC', 'Hazel', '12', '71'], ['2014', 'FEMALE', 'HISPANIC', 'Heaven', '15', '68'], ['2014', 'FEMALE', 'HISPANIC', 'Heidi', '11', '72'], ['2014', 'FEMALE', 'HISPANIC', 'Helen', '18', '65'], ['2014', 'FEMALE', 'HISPANIC', 'Isabel', '42', '44'], ['2014', 'FEMALE', 'HISPANIC', 'Isabella', '331', '1'], ['2014', 'FEMALE', 'HISPANIC', 'Isabelle', '27', '56'], ['2014', 'FEMALE', 'HISPANIC', 'Itzel', '24', '59'], ['2014', 'FEMALE', 'HISPANIC', 'Ivanna', '11', '72'], ['2014', 'FEMALE', 'HISPANIC', 'Izabella', '10', '73'], ['2014', 'FEMALE', 'HISPANIC', 'Jacqueline', '18', '65'], ['2014', 'FEMALE', 'HISPANIC', 'Jade', '41', '45'], ['2014', 'FEMALE', 'HISPANIC', 'Jasmine', '34', '49'], ['2014', 'FEMALE', 'HISPANIC', 'Jayla', '22', '61'], ['2014', 'FEMALE', 'HISPANIC', 'Jaylah', '15', '68'], ['2014', 'FEMALE', 'HISPANIC', 'Jayleen', '25', '58'], ['2014', 'FEMALE', 'HISPANIC', 'Jaylene', '13', '70'], ['2014', 'FEMALE', 'HISPANIC', 'Jaylin', '14', '69'], ['2014', 'FEMALE', 'HISPANIC', 'Jazlyn', '22', '61'], ['2014', 'FEMALE', 'HISPANIC', 'Jazmin', '33', '50'], ['2014', 'FEMALE', 'HISPANIC', 'Jennifer', '34', '49'], ['2014', 'FEMALE', 'HISPANIC', 'Jessica', '21', '62'], ['2014', 'FEMALE', 'HISPANIC', 'Jessie', '11', '72'], ['2014', 'FEMALE', 'HISPANIC', 'Jimena', '11', '72'], ['2014', 'FEMALE', 'HISPANIC', 'Jocelyn', '32', '51'], ['2014', 'FEMALE', 'HISPANIC', 'Joselyn', '10', '73'], ['2014', 'FEMALE', 'HISPANIC', 'Julia', '20', '63'], ['2014', 'FEMALE', 'HISPANIC', 'Juliana', '27', '56'], ['2014', 'FEMALE', 'HISPANIC', 'Julianna', '19', '64'], ['2014', 'FEMALE', 'HISPANIC', 'Juliet', '16', '67'], ['2014', 'FEMALE', 'HISPANIC', 'Juliette', '21', '62'], ['2014', 'FEMALE', 'HISPANIC', 'Julissa', '15', '68'], ['2014', 'FEMALE', 'HISPANIC', 'Kailey', '13', '70'], ['2014', 'FEMALE', 'HISPANIC', 'Kaitlyn', '25', '58'], ['2014', 'FEMALE', 'HISPANIC', 'Kamila', '21', '62'], ['2014', 'FEMALE', 'HISPANIC', 'Karen', '19', '64'], ['2014', 'FEMALE', 'HISPANIC', 'Karla', '23', '60'], ['2014', 'FEMALE', 'HISPANIC', 'Kate', '10', '73'], ['2014', 'FEMALE', 'HISPANIC', 'Katelyn', '17', '66'], ['2014', 'FEMALE', 'HISPANIC', 'Katherine', '33', '50'], ['2014', 'FEMALE', 'HISPANIC', 'Katie', '12', '71'], ['2014', 'FEMALE', 'HISPANIC', 'Kayla', '44', '42'], ['2014', 'FEMALE', 'HISPANIC', 'Kaylee', '76', '27'], ['2014', 'FEMALE', 'HISPANIC', 'Kayleen', '15', '68'], ['2014', 'FEMALE', 'HISPANIC', 'Kaylie', '10', '73'], ['2014', 'FEMALE', 'HISPANIC', 'Kaylin', '12', '71'], ['2014', 'FEMALE', 'HISPANIC', 'Keila', '10', '73'], ['2014', 'FEMALE', 'HISPANIC', 'Kelly', '16', '67'], ['2014', 'FEMALE', 'HISPANIC', 'Kendra', '11', '72'], ['2014', 'FEMALE', 'HISPANIC', 'Keyla', '15', '68'], ['2014', 'FEMALE', 'HISPANIC', 'Khloe', '68', '31'], ['2014', 'FEMALE', 'HISPANIC', 'Kiara', '34', '49'], ['2014', 'FEMALE', 'HISPANIC', 'Kimberly', '72', '29'], ['2014', 'FEMALE', 'HISPANIC', 'Kylie', '52', '37'], ['2014', 'FEMALE', 'HISPANIC', 'Laila', '24', '59'], ['2014', 'FEMALE', 'HISPANIC', 'Laura', '15', '68'], ['2014', 'FEMALE', 'HISPANIC', 'Lauren', '18', '65'], ['2014', 'FEMALE', 'HISPANIC', 'Layla', '50', '38'], ['2014', 'FEMALE', 'HISPANIC', 'Leah', '100', '15'], ['2014', 'FEMALE', 'HISPANIC', 'Leila', '19', '64'], ['2014', 'FEMALE', 'HISPANIC', 'Leilani', '18', '65'], ['2014', 'FEMALE', 'HISPANIC', 'Leslie', '34', '49'], ['2014', 'FEMALE', 'HISPANIC', 'Lesly', '15', '68'], ['2014', 'FEMALE', 'HISPANIC', 'Leyla', '11', '72'], ['2014', 'FEMALE', 'HISPANIC', 'Lia', '17', '66'], ['2014', 'FEMALE', 'HISPANIC', 'Liana', '12', '71'], ['2014', 'FEMALE', 'HISPANIC', 'Liliana', '17', '66'], ['2014', 'FEMALE', 'HISPANIC', 'Lillian', '10', '73'], ['2014', 'FEMALE', 'HISPANIC', 'Lily', '19', '64'], ['2014', 'FEMALE', 'HISPANIC', 'Lindsay', '15', '68'], ['2014', 'FEMALE', 'HISPANIC', 'Litzy', '10', '73'], ['2014', 'FEMALE', 'HISPANIC', 'Lizbeth', '19', '64'], ['2014', 'FEMALE', 'HISPANIC', 'Lola', '14', '69'], ['2014', 'FEMALE', 'HISPANIC', 'London', '29', '54'], ['2014', 'FEMALE', 'HISPANIC', 'Londyn', '10', '73'], ['2014', 'FEMALE', 'HISPANIC', 'Lucia', '19', '64'], ['2014', 'FEMALE', 'HISPANIC', 'Luciana', '18', '65'], ['2014', 'FEMALE', 'HISPANIC', 'Luna', '42', '44'], ['2014', 'FEMALE', 'HISPANIC', 'Mackenzie', '15', '68'], ['2014', 'FEMALE', 'HISPANIC', 'Madeline', '23', '60'], ['2014', 'FEMALE', 'HISPANIC', 'Madelyn', '15', '68'], ['2014', 'FEMALE', 'HISPANIC', 'Madison', '90', '20'], ['2014', 'FEMALE', 'HISPANIC', 'Magaly', '11', '72'], ['2014', 'FEMALE', 'HISPANIC', 'Maia', '14', '69'], ['2014', 'FEMALE', 'HISPANIC', 'Makayla', '16', '67'], ['2014', 'FEMALE', 'HISPANIC', 'Maria', '57', '35'], ['2014', 'FEMALE', 'HISPANIC', 'Mariah', '10', '73'], ['2014', 'FEMALE', 'HISPANIC', 'Mariana', '18', '65'], ['2014', 'FEMALE', 'HISPANIC', 'Marilyn', '13', '70'], ['2014', 'FEMALE', 'HISPANIC', 'Marjorie', '16', '67'], ['2014', 'FEMALE', 'HISPANIC', 'Maya', '45', '41'], ['2014', 'FEMALE', 'HISPANIC', 'Megan', '21', '62'], ['2014', 'FEMALE', 'HISPANIC', 'Melanie', '106', '11'], ['2014', 'FEMALE', 'HISPANIC', 'Melany', '39', '47'], ['2014', 'FEMALE', 'HISPANIC', 'Melina', '18', '65'], ['2014', 'FEMALE', 'HISPANIC', 'Melissa', '29', '54'], ['2014', 'FEMALE', 'HISPANIC', 'Melody', '22', '61'], ['2014', 'FEMALE', 'HISPANIC', 'Mia', '255', '3'], ['2014', 'FEMALE', 'HISPANIC', 'Michelle', '44', '42'], ['2014', 'FEMALE', 'HISPANIC', 'Mikaela', '11', '72'], ['2014', 'FEMALE', 'HISPANIC', 'Mila', '46', '40'], ['2014', 'FEMALE', 'HISPANIC', 'Miranda', '13', '70'], ['2014', 'FEMALE', 'HISPANIC', 'Monica', '12', '71'], ['2014', 'FEMALE', 'HISPANIC', 'Monserrat', '10', '73'], ['2014', 'FEMALE', 'HISPANIC', 'Montserrat', '15', '68'], ['2014', 'FEMALE', 'HISPANIC', 'Mya', '27', '56'], ['2014', 'FEMALE', 'HISPANIC', 'Naomi', '27', '56'], ['2014', 'FEMALE', 'HISPANIC', 'Nashla', '19', '64'], ['2014', 'FEMALE', 'HISPANIC', 'Natalia', '45', '41'], ['2014', 'FEMALE', 'HISPANIC', 'Natalie', '28', '55'], ['2014', 'FEMALE', 'HISPANIC', 'Nathalie', '24', '59'], ['2014', 'FEMALE', 'HISPANIC', 'Nathaly', '19', '64'], ['2014', 'FEMALE', 'HISPANIC', 'Nayeli', '17', '66'], ['2014', 'FEMALE', 'HISPANIC', 'Nevaeh', '13', '70'], ['2014', 'FEMALE', 'HISPANIC', 'Nicole', '48', '39'], ['2014', 'FEMALE', 'HISPANIC', 'Nina', '11', '72'], ['2014', 'FEMALE', 'HISPANIC', 'Nyla', '10', '73'], ['2014', 'FEMALE', 'HISPANIC', 'Nylah', '15', '68'], ['2014', 'FEMALE', 'HISPANIC', 'Olivia', '96', '16'], ['2014', 'FEMALE', 'HISPANIC', 'Paige', '14', '69'], ['2014', 'FEMALE', 'HISPANIC', 'Pamela', '13', '70'], ['2014', 'FEMALE', 'HISPANIC', 'Paris', '11', '72'], ['2014', 'FEMALE', 'HISPANIC', 'Penelope', '58', '34'], ['2014', 'FEMALE', 'HISPANIC', 'Peyton', '16', '67'], ['2014', 'FEMALE', 'HISPANIC', 'Rachel', '12', '71'], ['2014', 'FEMALE', 'HISPANIC', 'Rebecca', '12', '71'], ['2014', 'FEMALE', 'HISPANIC', 'Riley', '15', '68'], ['2014', 'FEMALE', 'HISPANIC', 'Rose', '32', '51'], ['2014', 'FEMALE', 'HISPANIC', 'Ruby', '22', '61'], ['2014', 'FEMALE', 'HISPANIC', 'Ruth', '10', '73'], ['2014', 'FEMALE', 'HISPANIC', 'Sabrina', '18', '65'], ['2014', 'FEMALE', 'HISPANIC', 'Salome', '11', '72'], ['2014', 'FEMALE', 'HISPANIC', 'Samantha', '91', '19'], ['2014', 'FEMALE', 'HISPANIC', 'Sara', '21', '62'], ['2014', 'FEMALE', 'HISPANIC', 'Sarah', '39', '47'], ['2014', 'FEMALE', 'HISPANIC', 'Sarai', '17', '66'], ['2014', 'FEMALE', 'HISPANIC', 'Savannah', '43', '43'], ['2014', 'FEMALE', 'HISPANIC', 'Scarlett', '80', '24'], ['2014', 'FEMALE', 'HISPANIC', 'Selena', '14', '69'], ['2014', 'FEMALE', 'HISPANIC', 'Serenity', '35', '48'], ['2014', 'FEMALE', 'HISPANIC', 'Sherlyn', '22', '61'], ['2014', 'FEMALE', 'HISPANIC', 'Shirley', '15', '68'], ['2014', 'FEMALE', 'HISPANIC', 'Sienna', '10', '73'], ['2014', 'FEMALE', 'HISPANIC', 'Skyla', '16', '67'], ['2014', 'FEMALE', 'HISPANIC', 'Skylar', '25', '58'], ['2014', 'FEMALE', 'HISPANIC', 'Skyler', '11', '72'], ['2014', 'FEMALE', 'HISPANIC', 'Sofia', '199', '4'], ['2014', 'FEMALE', 'HISPANIC', 'Sophia', '259', '2'], ['2014', 'FEMALE', 'HISPANIC', 'Sophie', '26', '57'], ['2014', 'FEMALE', 'HISPANIC', 'Stella', '16', '67'], ['2014', 'FEMALE', 'HISPANIC', 'Stephanie', '39', '47'], ['2014', 'FEMALE', 'HISPANIC', 'Tatiana', '12', '71'], ['2014', 'FEMALE', 'HISPANIC', 'Taylor', '23', '60'], ['2014', 'FEMALE', 'HISPANIC', 'Tiffany', '20', '63'], ['2014', 'FEMALE', 'HISPANIC', 'Trinity', '11', '72'], ['2014', 'FEMALE', 'HISPANIC', 'Valentina', '135', '10'], ['2014', 'FEMALE', 'HISPANIC', 'Valeria', '34', '49'], ['2014', 'FEMALE', 'HISPANIC', 'Valerie', '57', '35'], ['2014', 'FEMALE', 'HISPANIC', 'Valery', '12', '71'], ['2014', 'FEMALE', 'HISPANIC', 'Vanessa', '29', '54'], ['2014', 'FEMALE', 'HISPANIC', 'Victoria', '148', '8'], ['2014', 'FEMALE', 'HISPANIC', 'Violet', '27', '56'], ['2014', 'FEMALE', 'HISPANIC', 'Violeta', '12', '71'], ['2014', 'FEMALE', 'HISPANIC', 'Wendy', '11', '72'], ['2014', 'FEMALE', 'HISPANIC', 'Ximena', '26', '57'], ['2014', 'FEMALE', 'HISPANIC', 'Yaretzi', '20', '63'], ['2014', 'FEMALE', 'HISPANIC', 'Yasmin', '10', '73'], ['2014', 'FEMALE', 'HISPANIC', 'Zoe', '87', '21'], ['2014', 'FEMALE', 'HISPANIC', 'Zoey', '34', '49'], ['2014', 'FEMALE', 'WHITE NON HISPANIC', 'Abigail', '124', '13'], ['2014', 'FEMALE', 'WHITE NON HISPANIC', 'Ada', '12', '84'], ['2014', 'FEMALE', 'WHITE NON HISPANIC', 'Addison', '22', '74'], ['2014', 'FEMALE', 'WHITE NON HISPANIC', 'Adelaide', '19', '77'], ['2014', 'FEMALE', 'WHITE NON HISPANIC', 'Adele', '24', '72'], ['2014', 'FEMALE', 'WHITE NON HISPANIC', 'Adelina', '11', '85'], ['2014', 'FEMALE', 'WHITE NON HISPANIC', 'Adeline', '12', '84'], ['2014', 'FEMALE', 'WHITE NON HISPANIC', 'Adina', '22', '74'], ['2014', 'FEMALE', 'WHITE NON HISPANIC', 'Adriana', '23', '73'], ['2014', 'FEMALE', 'WHITE NON HISPANIC', 'Adrianna', '10', '86'], ['2014', 'FEMALE', 'WHITE NON HISPANIC', 'Ahuva', '22', '74'], ['2014', 'FEMALE', 'WHITE NON HISPANIC', 'Aisha', '13', '83'], ['2014', 'FEMALE', 'WHITE NON HISPANIC', 'Alessandra', '18', '78'], ['2014', 'FEMALE', 'WHITE NON HISPANIC', 'Alessia', '20', '76'], ['2014', 'FEMALE', 'WHITE NON HISPANIC', 'Alexa', '37', '59'], ['2014', 'FEMALE', 'WHITE NON HISPANIC', 'Alexandra', '84', '26'], ['2014', 'FEMALE', 'WHITE NON HISPANIC', 'Alexis', '23', '73'], ['2014', 'FEMALE', 'WHITE NON HISPANIC', 'Alice', '56', '43'], ['2014', 'FEMALE', 'WHITE NON HISPANIC', 'Alina', '19', '77'], ['2014', 'FEMALE', 'WHITE NON HISPANIC', 'Alisa', '13', '83'], ['2014', 'FEMALE', 'WHITE NON HISPANIC', 'Aliza', '17', '79'], ['2014', 'FEMALE', 'WHITE NON HISPANIC', 'Allison', '14', '82'], ['2014', 'FEMALE', 'WHITE NON HISPANIC', 'Alma', '11', '85'], ['2014', 'FEMALE', 'WHITE NON HISPANIC', 'Alyssa', '36', '60'], ['2014', 'FEMALE', 'WHITE NON HISPANIC', 'Amanda', '10', '86'], ['2014', 'FEMALE', 'WHITE NON HISPANIC', 'Amelia', '73', '31'], ['2014', 'FEMALE', 'WHITE NON HISPANIC', 'Amelie', '10', '86'], ['2014', 'FEMALE', 'WHITE NON HISPANIC', 'Amina', '27', '69'], ['2014', 'FEMALE', 'WHITE NON HISPANIC', 'Amira', '19', '77'], ['2014', 'FEMALE', 'WHITE NON HISPANIC', 'Ana', '11', '85'], ['2014', 'FEMALE', 'WHITE NON HISPANIC', 'Anastasia', '26', '70'], ['2014', 'FEMALE', 'WHITE NON HISPANIC', 'Angelica', '12', '84'], ['2014', 'FEMALE', 'WHITE NON HISPANIC', 'Angelina', '46', '50'], ['2014', 'FEMALE', 'WHITE NON HISPANIC', 'Anisa', '14', '82'], ['2014', 'FEMALE', 'WHITE NON HISPANIC', 'Anna', '95', '22'], ['2014', 'FEMALE', 'WHITE NON HISPANIC', 'Annabelle', '26', '70'], ['2014', 'FEMALE', 'WHITE NON HISPANIC', 'Anne', '10', '86'], ['2014', 'FEMALE', 'WHITE NON HISPANIC', 'Antonia', '17', '79'], ['2014', 'FEMALE', 'WHITE NON HISPANIC', 'Aria', '45', '51'], ['2014', 'FEMALE', 'WHITE NON HISPANIC', 'Ariana', '41', '55'], ['2014', 'FEMALE', 'WHITE NON HISPANIC', 'Arianna', '31', '65'], ['2014', 'FEMALE', 'WHITE NON HISPANIC', 'Ariel', '13', '83'], ['2014', 'FEMALE', 'WHITE NON HISPANIC', 'Ariella', '32', '64'], ['2014', 'FEMALE', 'WHITE NON HISPANIC', 'Ashley', '14', '82'], ['2014', 'FEMALE', 'WHITE NON HISPANIC', 'Atara', '13', '83'], ['2014', 'FEMALE', 'WHITE NON HISPANIC', 'Athena', '10', '86'], ['2014', 'FEMALE', 'WHITE NON HISPANIC', 'Audrey', '33', '63'], ['2014', 'FEMALE', 'WHITE NON HISPANIC', 'Aurora', '19', '77'], ['2014', 'FEMALE', 'WHITE NON HISPANIC', 'Ava', '146', '9'], ['2014', 'FEMALE', 'WHITE NON HISPANIC', 'Avery', '66', '34'], ['2014', 'FEMALE', 'WHITE NON HISPANIC', 'Avigail', '12', '84'], ['2014', 'FEMALE', 'WHITE NON HISPANIC', 'Avital', '10', '86'], ['2014', 'FEMALE', 'WHITE NON HISPANIC', 'Aviva', '14', '82'], ['2014', 'FEMALE', 'WHITE NON HISPANIC', 'Aya', '14', '82'], ['2014', 'FEMALE', 'WHITE NON HISPANIC', 'Ayala', '10', '86'], ['2014', 'FEMALE', 'WHITE NON HISPANIC', 'Ayla', '18', '78'], ['2014', 'FEMALE', 'WHITE NON HISPANIC', 'Aziza', '11', '85'], ['2014', 'FEMALE', 'WHITE NON HISPANIC', 'Baila', '39', '57'], ['2014', 'FEMALE', 'WHITE NON HISPANIC', 'Barbara', '10', '86'], ['2014', 'FEMALE', 'WHITE NON HISPANIC', 'Batsheva', '32', '64'], ['2014', 'FEMALE', 'WHITE NON HISPANIC', 'Beatrice', '44', '52'], ['2014', 'FEMALE', 'WHITE NON HISPANIC', 'Bella', '33', '63'], ['2014', 'FEMALE', 'WHITE NON HISPANIC', 'Bianca', '15', '81'], ['2014', 'FEMALE', 'WHITE NON HISPANIC', 'Blake', '11', '85'], ['2014', 'FEMALE', 'WHITE NON HISPANIC', 'Blima', '29', '67'], ['2014', 'FEMALE', 'WHITE NON HISPANIC', 'Blimy', '27', '69'], ['2014', 'FEMALE', 'WHITE NON HISPANIC', 'Bracha', '22', '74'], ['2014', 'FEMALE', 'WHITE NON HISPANIC', 'Brianna', '16', '80'], ['2014', 'FEMALE', 'WHITE NON HISPANIC', 'Bridget', '11', '85'], ['2014', 'FEMALE', 'WHITE NON HISPANIC', 'Brielle', '12', '84'], ['2014', 'FEMALE', 'WHITE NON HISPANIC', 'Brooke', '33', '63'], ['2014', 'FEMALE', 'WHITE NON HISPANIC', 'Brucha', '13', '83'], ['2014', 'FEMALE', 'WHITE NON HISPANIC', 'Bruchy', '17', '79'], ['2014', 'FEMALE', 'WHITE NON HISPANIC', 'Brynn', '10', '86'], ['2014', 'FEMALE', 'WHITE NON HISPANIC', 'Caitlin', '11', '85'], ['2014', 'FEMALE', 'WHITE NON HISPANIC', 'Camila', '10', '86'], ['2014', 'FEMALE', 'WHITE NON HISPANIC', 'Camilla', '17', '79'], ['2014', 'FEMALE', 'WHITE NON HISPANIC', 'Camille', '11', '85'], ['2014', 'FEMALE', 'WHITE NON HISPANIC', 'Carly', '10', '86'], ['2014', 'FEMALE', 'WHITE NON HISPANIC', 'Carolina', '13', '83'], ['2014', 'FEMALE', 'WHITE NON HISPANIC', 'Caroline', '45', '51'], ['2014', 'FEMALE', 'WHITE NON HISPANIC', 'Cassidy', '10', '86'], ['2014', 'FEMALE', 'WHITE NON HISPANIC', 'Catherine', '37', '59'], ['2014', 'FEMALE', 'WHITE NON HISPANIC', 'Cecelia', '11', '85'], ['2014', 'FEMALE', 'WHITE NON HISPANIC', 'Cecilia', '24', '72'], ['2014', 'FEMALE', 'WHITE NON HISPANIC', 'Celia', '10', '86'], ['2014', 'FEMALE', 'WHITE NON HISPANIC', 'Celine', '10', '86'], ['2014', 'FEMALE', 'WHITE NON HISPANIC', 'Chana', '143', '10'], ['2014', 'FEMALE', 'WHITE NON HISPANIC', 'Chany', '33', '63'], ['2014', 'FEMALE', 'WHITE NON HISPANIC', 'Charlie', '20', '76'], ['2014', 'FEMALE', 'WHITE NON HISPANIC', 'Charlotte', '133', '12'], ['2014', 'FEMALE', 'WHITE NON HISPANIC', 'Chava', '39', '57'], ['2014', 'FEMALE', 'WHITE NON HISPANIC', 'Chavy', '13', '83'], ['2014', 'FEMALE', 'WHITE NON HISPANIC', 'Chaya', '194', '6'], ['2014', 'FEMALE', 'WHITE NON HISPANIC', 'Chloe', '81', '28'], ['2014', 'FEMALE', 'WHITE NON HISPANIC', 'Christina', '11', '85'], ['2014', 'FEMALE', 'WHITE NON HISPANIC', 'Claire', '43', '53'], ['2014', 'FEMALE', 'WHITE NON HISPANIC', 'Clara', '36', '60'], ['2014', 'FEMALE', 'WHITE NON HISPANIC', 'Clementine', '11', '85'], ['2014', 'FEMALE', 'WHITE NON HISPANIC', 'Colette', '15', '81'], ['2014', 'FEMALE', 'WHITE NON HISPANIC', 'Cora', '19', '77'], ['2014', 'FEMALE', 'WHITE NON HISPANIC', 'Dahlia', '13', '83'], ['2014', 'FEMALE', 'WHITE NON HISPANIC', 'Daniella', '23', '73'], ['2014', 'FEMALE', 'WHITE NON HISPANIC', 'Danielle', '23', '73'], ['2014', 'FEMALE', 'WHITE NON HISPANIC', 'Daphne', '16', '80'], ['2014', 'FEMALE', 'WHITE NON HISPANIC', 'Delilah', '10', '86'], ['2014', 'FEMALE', 'WHITE NON HISPANIC', 'Devora', '23', '73'], ['2014', 'FEMALE', 'WHITE NON HISPANIC', 'Devorah', '47', '49'], ['2014', 'FEMALE', 'WHITE NON HISPANIC', 'Diana', '25', '71'], ['2014', 'FEMALE', 'WHITE NON HISPANIC', 'Dina', '28', '68'], ['2014', 'FEMALE', 'WHITE NON HISPANIC', 'Dylan', '33', '63'], ['2014', 'FEMALE', 'WHITE NON HISPANIC', 'Eden', '14', '82'], ['2014', 'FEMALE', 'WHITE NON HISPANIC', 'Eleanor', '65', '35'], ['2014', 'FEMALE', 'WHITE NON HISPANIC', 'Elena', '27', '69'], ['2014', 'FEMALE', 'WHITE NON HISPANIC', 'Eleni', '10', '86'], ['2014', 'FEMALE', 'WHITE NON HISPANIC', 'Eliana', '49', '47'], ['2014', 'FEMALE', 'WHITE NON HISPANIC', 'Elisheva', '12', '84'], ['2014', 'FEMALE', 'WHITE NON HISPANIC', 'Eliza', '21', '75'], ['2014', 'FEMALE', 'WHITE NON HISPANIC', 'Elizabeth', '101', '19'], ['2014', 'FEMALE', 'WHITE NON HISPANIC', 'Ella', '112', '16'], ['2014', 'FEMALE', 'WHITE NON HISPANIC', 'Elle', '24', '72'], ['2014', 'FEMALE', 'WHITE NON HISPANIC', 'Ellie', '31', '65'], ['2014', 'FEMALE', 'WHITE NON HISPANIC', 'Eloise', '42', '54'], ['2014', 'FEMALE', 'WHITE NON HISPANIC', 'Elsa', '13', '83'], ['2014', 'FEMALE', 'WHITE NON HISPANIC', 'Emerson', '17', '79'], ['2014', 'FEMALE', 'WHITE NON HISPANIC', 'Emilia', '54', '45'], ['2014', 'FEMALE', 'WHITE NON HISPANIC', 'Emily', '143', '10'], ['2014', 'FEMALE', 'WHITE NON HISPANIC', 'Emma', '205', '5'], ['2014', 'FEMALE', 'WHITE NON HISPANIC', 'Emmeline', '11', '85'], ['2014', 'FEMALE', 'WHITE NON HISPANIC', 'Erin', '10', '86'], ['2014', 'FEMALE', 'WHITE NON HISPANIC', 'Esme', '14', '82'], ['2014', 'FEMALE', 'WHITE NON HISPANIC', 'Ester', '10', '86'], ['2014', 'FEMALE', 'WHITE NON HISPANIC', 'Esther', '233', '2'], ['2014', 'FEMALE', 'WHITE NON HISPANIC', 'Esty', '22', '74'], ['2014', 'FEMALE', 'WHITE NON HISPANIC', 'Etty', '18', '78'], ['2014', 'FEMALE', 'WHITE NON HISPANIC', 'Eva', '74', '30'], ['2014', 'FEMALE', 'WHITE NON HISPANIC', 'Evangeline', '11', '85'], ['2014', 'FEMALE', 'WHITE NON HISPANIC', 'Eve', '18', '78'], ['2014', 'FEMALE', 'WHITE NON HISPANIC', 'Evelyn', '64', '36'], ['2014', 'FEMALE', 'WHITE NON HISPANIC', 'Everly', '14', '82'], ['2014', 'FEMALE', 'WHITE NON HISPANIC', 'Evie', '12', '84'], ['2014', 'FEMALE', 'WHITE NON HISPANIC', 'Faiga', '24', '72'], ['2014', 'FEMALE', 'WHITE NON HISPANIC', 'Faigy', '74', '30'], ['2014', 'FEMALE', 'WHITE NON HISPANIC', 'Fatima', '11', '85'], ['2014', 'FEMALE', 'WHITE NON HISPANIC', 'Fiona', '36', '60'], ['2014', 'FEMALE', 'WHITE NON HISPANIC', 'Fradel', '11', '85'], ['2014', 'FEMALE', 'WHITE NON HISPANIC', 'Frady', '14', '82'], ['2014', 'FEMALE', 'WHITE NON HISPANIC', 'Fraidy', '29', '67'], ['2014', 'FEMALE', 'WHITE NON HISPANIC', 'Frances', '22', '74'], ['2014', 'FEMALE', 'WHITE NON HISPANIC', 'Francesca', '39', '57'], ['2014', 'FEMALE', 'WHITE NON HISPANIC', 'Frimet', '12', '84'], ['2014', 'FEMALE', 'WHITE NON HISPANIC', 'Gabriela', '13', '83'], ['2014', 'FEMALE', 'WHITE NON HISPANIC', 'Gabriella', '93', '23'], ['2014', 'FEMALE', 'WHITE NON HISPANIC', 'Gabrielle', '15', '81'], ['2014', 'FEMALE', 'WHITE NON HISPANIC', 'Gemma', '17', '79'], ['2014', 'FEMALE', 'WHITE NON HISPANIC', 'Genevieve', '23', '73'], ['2014', 'FEMALE', 'WHITE NON HISPANIC', 'Georgia', '26', '70'], ['2014', 'FEMALE', 'WHITE NON HISPANIC', 'Gia', '17', '79'], ['2014', 'FEMALE', 'WHITE NON HISPANIC', 'Gianna', '38', '58'], ['2014', 'FEMALE', 'WHITE NON HISPANIC', 'Giovanna', '13', '83'], ['2014', 'FEMALE', 'WHITE NON HISPANIC', 'Giselle', '12', '84'], ['2014', 'FEMALE', 'WHITE NON HISPANIC', 'Gitty', '68', '33'], ['2014', 'FEMALE', 'WHITE NON HISPANIC', 'Giuliana', '23', '73'], ['2014', 'FEMALE', 'WHITE NON HISPANIC', 'Golda', '18', '78'], ['2014', 'FEMALE', 'WHITE NON HISPANIC', 'Goldie', '11', '85'], ['2014', 'FEMALE', 'WHITE NON HISPANIC', 'Goldy', '17', '79'], ['2014', 'FEMALE', 'WHITE NON HISPANIC', 'Grace', '86', '25'], ['2014', 'FEMALE', 'WHITE NON HISPANIC', 'Hadassah', '13', '83'], ['2014', 'FEMALE', 'WHITE NON HISPANIC', 'Hadley', '19', '77'], ['2014', 'FEMALE', 'WHITE NON HISPANIC', 'Hailey', '22', '74'], ['2014', 'FEMALE', 'WHITE NON HISPANIC', 'Hana', '12', '84'], ['2014', 'FEMALE', 'WHITE NON HISPANIC', 'Hanna', '17', '79'], ['2014', 'FEMALE', 'WHITE NON HISPANIC', 'Hannah', '64', '36'], ['2014', 'FEMALE', 'WHITE NON HISPANIC', 'Harlow', '11', '85'], ['2014', 'FEMALE', 'WHITE NON HISPANIC', 'Harper', '41', '55'], ['2014', 'FEMALE', 'WHITE NON HISPANIC', 'Hazel', '24', '72'], ['2014', 'FEMALE', 'WHITE NON HISPANIC', 'Helen', '17', '79'], ['2014', 'FEMALE', 'WHITE NON HISPANIC', 'Helena', '17', '79'], ['2014', 'FEMALE', 'WHITE NON HISPANIC', 'Henchy', '20', '76'], ['2014', 'FEMALE', 'WHITE NON HISPANIC', 'Henny', '18', '78'], ['2014', 'FEMALE', 'WHITE NON HISPANIC', 'Hinda', '10', '86'], ['2014', 'FEMALE', 'WHITE NON HISPANIC', 'Hindy', '34', '62'], ['2014', 'FEMALE', 'WHITE NON HISPANIC', 'Iris', '14', '82'], ['2014', 'FEMALE', 'WHITE NON HISPANIC', 'Isabel', '30', '66'], ['2014', 'FEMALE', 'WHITE NON HISPANIC', 'Isabella', '117', '15'], ['2014', 'FEMALE', 'WHITE NON HISPANIC', 'Isabelle', '26', '70'], ['2014', 'FEMALE', 'WHITE NON HISPANIC', 'Isla', '31', '65'], ['2014', 'FEMALE', 'WHITE NON HISPANIC', 'Ivy', '20', '76'], ['2014', 'FEMALE', 'WHITE NON HISPANIC', 'Jacqueline', '16', '80'], ['2014', 'FEMALE', 'WHITE NON HISPANIC', 'Jana', '10', '86'], ['2014', 'FEMALE', 'WHITE NON HISPANIC', 'Jane', '25', '71'], ['2014', 'FEMALE', 'WHITE NON HISPANIC', 'Jasmina', '11', '85'], ['2014', 'FEMALE', 'WHITE NON HISPANIC', 'Jasmine', '19', '77'], ['2014', 'FEMALE', 'WHITE NON HISPANIC', 'Jenna', '23', '73'], ['2014', 'FEMALE', 'WHITE NON HISPANIC', 'Jessica', '14', '82'], ['2014', 'FEMALE', 'WHITE NON HISPANIC', 'Jordyn', '11', '85'], ['2014', 'FEMALE', 'WHITE NON HISPANIC', 'Josephine', '39', '57'], ['2014', 'FEMALE', 'WHITE NON HISPANIC', 'Julia', '84', '26'], ['2014', 'FEMALE', 'WHITE NON HISPANIC', 'Juliana', '30', '66'], ['2014', 'FEMALE', 'WHITE NON HISPANIC', 'Julianna', '17', '79'], ['2014', 'FEMALE', 'WHITE NON HISPANIC', 'Julie', '14', '82'], ['2014', 'FEMALE', 'WHITE NON HISPANIC', 'Juliet', '31', '65'], ['2014', 'FEMALE', 'WHITE NON HISPANIC', 'Juliette', '32', '64'], ['2014', 'FEMALE', 'WHITE NON HISPANIC', 'June', '13', '83'], ['2014', 'FEMALE', 'WHITE NON HISPANIC', 'Juniper', '14', '82'], ['2014', 'FEMALE', 'WHITE NON HISPANIC', 'Kaitlyn', '10', '86'], ['2014', 'FEMALE', 'WHITE NON HISPANIC', 'Kate', '17', '79'], ['2014', 'FEMALE', 'WHITE NON HISPANIC', 'Katherine', '42', '54'], ['2014', 'FEMALE', 'WHITE NON HISPANIC', 'Kayla', '42', '54'], ['2014', 'FEMALE', 'WHITE NON HISPANIC', 'Kaylee', '15', '81'], ['2014', 'FEMALE', 'WHITE NON HISPANIC', 'Keira', '13', '83'], ['2014', 'FEMALE', 'WHITE NON HISPANIC', 'Kennedy', '10', '86'], ['2014', 'FEMALE', 'WHITE NON HISPANIC', 'Khloe', '11', '85'], ['2014', 'FEMALE', 'WHITE NON HISPANIC', 'Kira', '13', '83'], ['2014', 'FEMALE', 'WHITE NON HISPANIC', 'Kylie', '13', '83'], ['2014', 'FEMALE', 'WHITE NON HISPANIC', 'Laila', '23', '73'], ['2014', 'FEMALE', 'WHITE NON HISPANIC', 'Lana', '13', '83'], ['2014', 'FEMALE', 'WHITE NON HISPANIC', 'Lara', '17', '79'], ['2014', 'FEMALE', 'WHITE NON HISPANIC', 'Laura', '22', '74'], ['2014', 'FEMALE', 'WHITE NON HISPANIC', 'Lauren', '33', '63'], ['2014', 'FEMALE', 'WHITE NON HISPANIC', 'Layan', '13', '83'], ['2014', 'FEMALE', 'WHITE NON HISPANIC', 'Layla', '55', '44'], ['2014', 'FEMALE', 'WHITE NON HISPANIC', 'Lea', '30', '66'], ['2014', 'FEMALE', 'WHITE NON HISPANIC', 'Leah', '206', '4'], ['2014', 'FEMALE', 'WHITE NON HISPANIC', 'Leila', '14', '82'], ['2014', 'FEMALE', 'WHITE NON HISPANIC', 'Lena', '28', '68'], ['2014', 'FEMALE', 'WHITE NON HISPANIC', 'Leora', '10', '86'], ['2014', 'FEMALE', 'WHITE NON HISPANIC', 'Lia', '12', '84'], ['2014', 'FEMALE', 'WHITE NON HISPANIC', 'Liana', '15', '81'], ['2014', 'FEMALE', 'WHITE NON HISPANIC', 'Liba', '23', '73'], ['2014', 'FEMALE', 'WHITE NON HISPANIC', 'Libby', '30', '66'], ['2014', 'FEMALE', 'WHITE NON HISPANIC', 'Lila', '42', '54'], ['2014', 'FEMALE', 'WHITE NON HISPANIC', 'Lilah', '11', '85'], ['2014', 'FEMALE', 'WHITE NON HISPANIC', 'Lilian', '10', '86'], ['2014', 'FEMALE', 'WHITE NON HISPANIC', 'Liliana', '22', '74'], ['2014', 'FEMALE', 'WHITE NON HISPANIC', 'Lillian', '40', '56'], ['2014', 'FEMALE', 'WHITE NON HISPANIC', 'Lilly', '16', '80'], ['2014', 'FEMALE', 'WHITE NON HISPANIC', 'Lily', '88', '24'], ['2014', 'FEMALE', 'WHITE NON HISPANIC', 'Lina', '13', '83'], ['2014', 'FEMALE', 'WHITE NON HISPANIC', 'Linda', '10', '86'], ['2014', 'FEMALE', 'WHITE NON HISPANIC', 'Liv', '16', '80'], ['2014', 'FEMALE', 'WHITE NON HISPANIC', 'Livia', '13', '83'], ['2014', 'FEMALE', 'WHITE NON HISPANIC', 'Lola', '20', '76'], ['2014', 'FEMALE', 'WHITE NON HISPANIC', 'Louisa', '12', '84'], ['2014', 'FEMALE', 'WHITE NON HISPANIC', 'Lucia', '29', '67'], ['2014', 'FEMALE', 'WHITE NON HISPANIC', 'Lucy', '58', '41'], ['2014', 'FEMALE', 'WHITE NON HISPANIC', 'Luna', '16', '80'], ['2014', 'FEMALE', 'WHITE NON HISPANIC', 'Lydia', '14', '82'], ['2014', 'FEMALE', 'WHITE NON HISPANIC', 'Lyla', '19', '77'], ['2014', 'FEMALE', 'WHITE NON HISPANIC', 'Mackenzie', '26', '70'], ['2014', 'FEMALE', 'WHITE NON HISPANIC', 'Madeleine', '35', '61'], ['2014', 'FEMALE', 'WHITE NON HISPANIC', 'Madeline', '59', '40'], ['2014', 'FEMALE', 'WHITE NON HISPANIC', 'Madelyn', '24', '72'], ['2014', 'FEMALE', 'WHITE NON HISPANIC', 'Madison', '68', '33'], ['2014', 'FEMALE', 'WHITE NON HISPANIC', 'Mae', '11', '85'], ['2014', 'FEMALE', 'WHITE NON HISPANIC', 'Maeve', '30', '66'], ['2014', 'FEMALE', 'WHITE NON HISPANIC', 'Maisie', '14', '82'], ['2014', 'FEMALE', 'WHITE NON HISPANIC', 'Malak', '14', '82'], ['2014', 'FEMALE', 'WHITE NON HISPANIC', 'Malka', '84', '26'], ['2014', 'FEMALE', 'WHITE NON HISPANIC', 'Malky', '70', '32'], ['2014', 'FEMALE', 'WHITE NON HISPANIC', 'Margaret', '33', '63'], ['2014', 'FEMALE', 'WHITE NON HISPANIC', 'Margot', '19', '77'], ['2014', 'FEMALE', 'WHITE NON HISPANIC', 'Maria', '45', '51'], ['2014', 'FEMALE', 'WHITE NON HISPANIC', 'Mariam', '19', '77'], ['2014', 'FEMALE', 'WHITE NON HISPANIC', 'Marielle', '11', '85'], ['2014', 'FEMALE', 'WHITE NON HISPANIC', 'Mary', '28', '68'], ['2014', 'FEMALE', 'WHITE NON HISPANIC', 'Maryam', '23', '73'], ['2014', 'FEMALE', 'WHITE NON HISPANIC', 'Matilda', '18', '78'], ['2014', 'FEMALE', 'WHITE NON HISPANIC', 'Maya', '106', '18'], ['2014', 'FEMALE', 'WHITE NON HISPANIC', 'Melanie', '13', '83'], ['2014', 'FEMALE', 'WHITE NON HISPANIC', 'Menucha', '13', '83'], ['2014', 'FEMALE', 'WHITE NON HISPANIC', 'Mia', '139', '11'], ['2014', 'FEMALE', 'WHITE NON HISPANIC', 'Michaela', '13', '83'], ['2014', 'FEMALE', 'WHITE NON HISPANIC', 'Michelle', '23', '73'], ['2014', 'FEMALE', 'WHITE NON HISPANIC', 'Mikayla', '15', '81'], ['2014', 'FEMALE', 'WHITE NON HISPANIC', 'Mila', '62', '38'], ['2014', 'FEMALE', 'WHITE NON HISPANIC', 'Milana', '19', '77'], ['2014', 'FEMALE', 'WHITE NON HISPANIC', 'Mina', '12', '84'], ['2014', 'FEMALE', 'WHITE NON HISPANIC', 'Mindy', '29', '67'], ['2014', 'FEMALE', 'WHITE NON HISPANIC', 'Mira', '17', '79'], ['2014', 'FEMALE', 'WHITE NON HISPANIC', 'Mirel', '15', '81'], ['2014', 'FEMALE', 'WHITE NON HISPANIC', 'Miriam', '143', '10'], ['2014', 'FEMALE', 'WHITE NON HISPANIC', 'Molly', '27', '69'], ['2014', 'FEMALE', 'WHITE NON HISPANIC', 'Morgan', '14', '82'], ['2014', 'FEMALE', 'WHITE NON HISPANIC', 'Mushka', '12', '84'], ['2014', 'FEMALE', 'WHITE NON HISPANIC', 'Nadia', '13', '83'], ['2014', 'FEMALE', 'WHITE NON HISPANIC', 'Naomi', '49', '47'], ['2014', 'FEMALE', 'WHITE NON HISPANIC', 'Natalia', '13', '83'], ['2014', 'FEMALE', 'WHITE NON HISPANIC', 'Natalie', '44', '52'], ['2014', 'FEMALE', 'WHITE NON HISPANIC', 'Nechama', '30', '66'], ['2014', 'FEMALE', 'WHITE NON HISPANIC', 'Nicole', '41', '55'], ['2014', 'FEMALE', 'WHITE NON HISPANIC', 'Nina', '41', '55'], ['2014', 'FEMALE', 'WHITE NON HISPANIC', 'Noa', '28', '68'], ['2014', 'FEMALE', 'WHITE NON HISPANIC', 'Noelle', '13', '83'], ['2014', 'FEMALE', 'WHITE NON HISPANIC', 'Noor', '15', '81'], ['2014', 'FEMALE', 'WHITE NON HISPANIC', 'Nora', '70', '32'], ['2014', 'FEMALE', 'WHITE NON HISPANIC', 'Olive', '19', '77'], ['2014', 'FEMALE', 'WHITE NON HISPANIC', 'Olivia', '248', '1'], ['2014', 'FEMALE', 'WHITE NON HISPANIC', 'Paige', '22', '74'], ['2014', 'FEMALE', 'WHITE NON HISPANIC', 'Parker', '17', '79'], ['2014', 'FEMALE', 'WHITE NON HISPANIC', 'Pearl', '23', '73'], ['2014', 'FEMALE', 'WHITE NON HISPANIC', 'Penelope', '63', '37'], ['2014', 'FEMALE', 'WHITE NON HISPANIC', 'Perel', '19', '77'], ['2014', 'FEMALE', 'WHITE NON HISPANIC', 'Perl', '17', '79'], ['2014', 'FEMALE', 'WHITE NON HISPANIC', 'Perry', '13', '83'], ['2014', 'FEMALE', 'WHITE NON HISPANIC', 'Pessy', '30', '66'], ['2014', 'FEMALE', 'WHITE NON HISPANIC', 'Peyton', '15', '81'], ['2014', 'FEMALE', 'WHITE NON HISPANIC', 'Phoebe', '27', '69'], ['2014', 'FEMALE', 'WHITE NON HISPANIC', 'Piper', '19', '77'], ['2014', 'FEMALE', 'WHITE NON HISPANIC', 'Poppy', '14', '82'], ['2014', 'FEMALE', 'WHITE NON HISPANIC', 'Quinn', '26', '70'], ['2014', 'FEMALE', 'WHITE NON HISPANIC', 'Rachel', '228', '3'], ['2014', 'FEMALE', 'WHITE NON HISPANIC', 'Raizel', '15', '81'], ['2014', 'FEMALE', 'WHITE NON HISPANIC', 'Raizy', '84', '26'], ['2014', 'FEMALE', 'WHITE NON HISPANIC', 'Rebecca', '43', '53'], ['2014', 'FEMALE', 'WHITE NON HISPANIC', 'Reese', '22', '74'], ['2014', 'FEMALE', 'WHITE NON HISPANIC', 'Reizy', '10', '86'], ['2014', 'FEMALE', 'WHITE NON HISPANIC', 'Rena', '11', '85'], ['2014', 'FEMALE', 'WHITE NON HISPANIC', 'Rifky', '11', '85'], ['2014', 'FEMALE', 'WHITE NON HISPANIC', 'Riley', '31', '65'], ['2014', 'FEMALE', 'WHITE NON HISPANIC', 'Rivka', '100', '20'], ['2014', 'FEMALE', 'WHITE NON HISPANIC', 'Rivky', '52', '46'], ['2014', 'FEMALE', 'WHITE NON HISPANIC', 'Rochel', '31', '65'], ['2014', 'FEMALE', 'WHITE NON HISPANIC', 'Roizy', '13', '83'], ['2014', 'FEMALE', 'WHITE NON HISPANIC', 'Rosa', '10', '86'], ['2014', 'FEMALE', 'WHITE NON HISPANIC', 'Rose', '55', '44'], ['2014', 'FEMALE', 'WHITE NON HISPANIC', 'Rowan', '10', '86'], ['2014', 'FEMALE', 'WHITE NON HISPANIC', 'Ruby', '48', '48'], ['2014', 'FEMALE', 'WHITE NON HISPANIC', 'Ruchel', '10', '86'], ['2014', 'FEMALE', 'WHITE NON HISPANIC', 'Ruchy', '17', '79'], ['2014', 'FEMALE', 'WHITE NON HISPANIC', 'Ruth', '11', '85'], ['2014', 'FEMALE', 'WHITE NON HISPANIC', 'Sabrina', '25', '71'], ['2014', 'FEMALE', 'WHITE NON HISPANIC', 'Sadie', '43', '53'], ['2014', 'FEMALE', 'WHITE NON HISPANIC', 'Salma', '10', '86'], ['2014', 'FEMALE', 'WHITE NON HISPANIC', 'Samantha', '57', '42'], ['2014', 'FEMALE', 'WHITE NON HISPANIC', 'Samira', '10', '86'], ['2014', 'FEMALE', 'WHITE NON HISPANIC', 'Sara', '121', '14'], ['2014', 'FEMALE', 'WHITE NON HISPANIC', 'Sarah', '185', '7'], ['2014', 'FEMALE', 'WHITE NON HISPANIC', 'Sasha', '12', '84'], ['2014', 'FEMALE', 'WHITE NON HISPANIC', 'Savannah', '25', '71'], ['2014', 'FEMALE', 'WHITE NON HISPANIC', 'Scarlett', '40', '56'], ['2014', 'FEMALE', 'WHITE NON HISPANIC', 'Serena', '16', '80'], ['2014', 'FEMALE', 'WHITE NON HISPANIC', 'Shaina', '13', '83'], ['2014', 'FEMALE', 'WHITE NON HISPANIC', 'Shaindel', '15', '81'], ['2014', 'FEMALE', 'WHITE NON HISPANIC', 'Shaindy', '55', '44'], ['2014', 'FEMALE', 'WHITE NON HISPANIC', 'Shayna', '12', '84'], ['2014', 'FEMALE', 'WHITE NON HISPANIC', 'Shifra', '21', '75'], ['2014', 'FEMALE', 'WHITE NON HISPANIC', 'Shira', '24', '72'], ['2014', 'FEMALE', 'WHITE NON HISPANIC', 'Shoshana', '19', '77'], ['2014', 'FEMALE', 'WHITE NON HISPANIC', 'Siena', '16', '80'], ['2014', 'FEMALE', 'WHITE NON HISPANIC', 'Sienna', '44', '52'], ['2014', 'FEMALE', 'WHITE NON HISPANIC', 'Sima', '14', '82'], ['2014', 'FEMALE', 'WHITE NON HISPANIC', 'Simone', '22', '74'], ['2014', 'FEMALE', 'WHITE NON HISPANIC', 'Skylar', '17', '79'], ['2014', 'FEMALE', 'WHITE NON HISPANIC', 'Sloane', '25', '71'], ['2014', 'FEMALE', 'WHITE NON HISPANIC', 'Sofia', '110', '17'], ['2014', 'FEMALE', 'WHITE NON HISPANIC', 'Sophia', '172', '8'], ['2014', 'FEMALE', 'WHITE NON HISPANIC', 'Sophie', '56', '43'], ['2014', 'FEMALE', 'WHITE NON HISPANIC', 'Stella', '78', '29'], ['2014', 'FEMALE', 'WHITE NON HISPANIC', 'Summer', '13', '83'], ['2014', 'FEMALE', 'WHITE NON HISPANIC', 'Suri', '13', '83'], ['2014', 'FEMALE', 'WHITE NON HISPANIC', 'Sury', '31', '65'], ['2014', 'FEMALE', 'WHITE NON HISPANIC', 'Sydney', '23', '73'], ['2014', 'FEMALE', 'WHITE NON HISPANIC', 'Sylvia', '16', '80'], ['2014', 'FEMALE', 'WHITE NON HISPANIC', 'Sylvie', '10', '86'], ['2014', 'FEMALE', 'WHITE NON HISPANIC', 'Talia', '49', '47'], ['2014', 'FEMALE', 'WHITE NON HISPANIC', 'Tamar', '12', '84'], ['2014', 'FEMALE', 'WHITE NON HISPANIC', 'Taylor', '24', '72'], ['2014', 'FEMALE', 'WHITE NON HISPANIC', 'Tess', '11', '85'], ['2014', 'FEMALE', 'WHITE NON HISPANIC', 'Tessa', '13', '83'], ['2014', 'FEMALE', 'WHITE NON HISPANIC', 'Thea', '11', '85'], ['2014', 'FEMALE', 'WHITE NON HISPANIC', 'Toby', '46', '50'], ['2014', 'FEMALE', 'WHITE NON HISPANIC', 'Trany', '12', '84'], ['2014', 'FEMALE', 'WHITE NON HISPANIC', 'Tzipora', '14', '82'], ['2014', 'FEMALE', 'WHITE NON HISPANIC', 'Tziporah', '12', '84'], ['2014', 'FEMALE', 'WHITE NON HISPANIC', 'Valentina', '45', '51'], ['2014', 'FEMALE', 'WHITE NON HISPANIC', 'Vera', '12', '84'], ['2014', 'FEMALE', 'WHITE NON HISPANIC', 'Veronica', '18', '78'], ['2014', 'FEMALE', 'WHITE NON HISPANIC', 'Victoria', '83', '27'], ['2014', 'FEMALE', 'WHITE NON HISPANIC', 'Violet', '49', '47'], ['2014', 'FEMALE', 'WHITE NON HISPANIC', 'Vivian', '61', '39'], ['2014', 'FEMALE', 'WHITE NON HISPANIC', 'Vivienne', '36', '60'], ['2014', 'FEMALE', 'WHITE NON HISPANIC', 'Willa', '26', '70'], ['2014', 'FEMALE', 'WHITE NON HISPANIC', 'Yael', '16', '80'], ['2014', 'FEMALE', 'WHITE NON HISPANIC', 'Yasmina', '11', '85'], ['2014', 'FEMALE', 'WHITE NON HISPANIC', 'Yasmine', '12', '84'], ['2014', 'FEMALE', 'WHITE NON HISPANIC', 'Yehudis', '25', '71'], ['2014', 'FEMALE', 'WHITE NON HISPANIC', 'Yides', '26', '70'], ['2014', 'FEMALE', 'WHITE NON HISPANIC', 'Yitty', '59', '40'], ['2014', 'FEMALE', 'WHITE NON HISPANIC', 'Yocheved', '28', '68'], ['2014', 'FEMALE', 'WHITE NON HISPANIC', 'Zelda', '12', '84'], ['2014', 'FEMALE', 'WHITE NON HISPANIC', 'Zissy', '25', '71'], ['2014', 'FEMALE', 'WHITE NON HISPANIC', 'Zoe', '96', '21'], ['2014', 'FEMALE', 'WHITE NON HISPANIC', 'Zoey', '26', '70'], ['2014', 'MALE', 'ASIAN AND PACIFIC ISLANDER', 'Aahil', '14', '54'], ['2014', 'MALE', 'ASIAN AND PACIFIC ISLANDER', 'Aaron', '63', '14'], ['2014', 'MALE', 'ASIAN AND PACIFIC ISLANDER', 'Aayan', '10', '58'], ['2014', 'MALE', 'ASIAN AND PACIFIC ISLANDER', 'Abdullah', '30', '38'], ['2014', 'MALE', 'ASIAN AND PACIFIC ISLANDER', 'Adam', '35', '33'], ['2014', 'MALE', 'ASIAN AND PACIFIC ISLANDER', 'Adrian', '26', '42'], ['2014', 'MALE', 'ASIAN AND PACIFIC ISLANDER', 'Adyan', '17', '51'], ['2014', 'MALE', 'ASIAN AND PACIFIC ISLANDER', 'Ahmed', '12', '56'], ['2014', 'MALE', 'ASIAN AND PACIFIC ISLANDER', 'Ahnaf', '11', '57'], ['2014', 'MALE', 'ASIAN AND PACIFIC ISLANDER', 'Aidan', '29', '39'], ['2014', 'MALE', 'ASIAN AND PACIFIC ISLANDER', 'Aiden', '135', '5'], ['2014', 'MALE', 'ASIAN AND PACIFIC ISLANDER', 'Alan', '28', '40'], ['2014', 'MALE', 'ASIAN AND PACIFIC ISLANDER', 'Albert', '20', '48'], ['2014', 'MALE', 'ASIAN AND PACIFIC ISLANDER', 'Alex', '45', '26'], ['2014', 'MALE', 'ASIAN AND PACIFIC ISLANDER', 'Alexander', '51', '21'], ['2014', 'MALE', 'ASIAN AND PACIFIC ISLANDER', 'Alfred', '18', '50'], ['2014', 'MALE', 'ASIAN AND PACIFIC ISLANDER', 'Ali', '21', '47'], ['2014', 'MALE', 'ASIAN AND PACIFIC ISLANDER', 'Allen', '26', '42'], ['2014', 'MALE', 'ASIAN AND PACIFIC ISLANDER', 'Alston', '13', '55'], ['2014', 'MALE', 'ASIAN AND PACIFIC ISLANDER', 'Alvin', '32', '36'], ['2014', 'MALE', 'ASIAN AND PACIFIC ISLANDER', 'Anderson', '12', '56'], ['2014', 'MALE', 'ASIAN AND PACIFIC ISLANDER', 'Andrew', '63', '14'], ['2014', 'MALE', 'ASIAN AND PACIFIC ISLANDER', 'Andy', '42', '29'], ['2014', 'MALE', 'ASIAN AND PACIFIC ISLANDER', 'Anson', '23', '45'], ['2014', 'MALE', 'ASIAN AND PACIFIC ISLANDER', 'Anthony', '31', '37'], ['2014', 'MALE', 'ASIAN AND PACIFIC ISLANDER', 'Arham', '12', '56'], ['2014', 'MALE', 'ASIAN AND PACIFIC ISLANDER', 'Arjun', '20', '48'], ['2014', 'MALE', 'ASIAN AND PACIFIC ISLANDER', 'Armaan', '13', '55'], ['2014', 'MALE', 'ASIAN AND PACIFIC ISLANDER', 'Arvin', '11', '57'], ['2014', 'MALE', 'ASIAN AND PACIFIC ISLANDER', 'Aryan', '18', '50'], ['2014', 'MALE', 'ASIAN AND PACIFIC ISLANDER', 'Asher', '15', '53'], ['2014', 'MALE', 'ASIAN AND PACIFIC ISLANDER', 'Austin', '63', '14'], ['2014', 'MALE', 'ASIAN AND PACIFIC ISLANDER', 'Ayaan', '55', '18'], ['2014', 'MALE', 'ASIAN AND PACIFIC ISLANDER', 'Ayan', '16', '52'], ['2014', 'MALE', 'ASIAN AND PACIFIC ISLANDER', 'Ayden', '15', '53'], ['2014', 'MALE', 'ASIAN AND PACIFIC ISLANDER', 'Azaan', '10', '58'], ['2014', 'MALE', 'ASIAN AND PACIFIC ISLANDER', 'Benjamin', '48', '24'], ['2014', 'MALE', 'ASIAN AND PACIFIC ISLANDER', 'Benson', '23', '45'], ['2014', 'MALE', 'ASIAN AND PACIFIC ISLANDER', 'Brandon', '45', '26'], ['2014', 'MALE', 'ASIAN AND PACIFIC ISLANDER', 'Brayden', '10', '58'], ['2014', 'MALE', 'ASIAN AND PACIFIC ISLANDER', 'Brian', '34', '34'], ['2014', 'MALE', 'ASIAN AND PACIFIC ISLANDER', 'Bryan', '15', '53'], ['2014', 'MALE', 'ASIAN AND PACIFIC ISLANDER', 'Caleb', '23', '45'], ['2014', 'MALE', 'ASIAN AND PACIFIC ISLANDER', 'Calvin', '10', '58'], ['2014', 'MALE', 'ASIAN AND PACIFIC ISLANDER', 'Cameron', '11', '57'], ['2014', 'MALE', 'ASIAN AND PACIFIC ISLANDER', 'Carson', '38', '30'], ['2014', 'MALE', 'ASIAN AND PACIFIC ISLANDER', 'Carter', '12', '56'], ['2014', 'MALE', 'ASIAN AND PACIFIC ISLANDER', 'Charles', '21', '47'], ['2014', 'MALE', 'ASIAN AND PACIFIC ISLANDER', 'Chase', '11', '57'], ['2014', 'MALE', 'ASIAN AND PACIFIC ISLANDER', 'Chris', '14', '54'], ['2014', 'MALE', 'ASIAN AND PACIFIC ISLANDER', 'Christian', '15', '53'], ['2014', 'MALE', 'ASIAN AND PACIFIC ISLANDER', 'Christopher', '18', '50'], ['2014', 'MALE', 'ASIAN AND PACIFIC ISLANDER', 'Colin', '15', '53'], ['2014', 'MALE', 'ASIAN AND PACIFIC ISLANDER', 'Connor', '21', '47'], ['2014', 'MALE', 'ASIAN AND PACIFIC ISLANDER', 'Damon', '17', '51'], ['2014', 'MALE', 'ASIAN AND PACIFIC ISLANDER', 'Daniel', '87', '7'], ['2014', 'MALE', 'ASIAN AND PACIFIC ISLANDER', 'Darren', '15', '53'], ['2014', 'MALE', 'ASIAN AND PACIFIC ISLANDER', 'David', '30', '38'], ['2014', 'MALE', 'ASIAN AND PACIFIC ISLANDER', 'Derek', '32', '36'], ['2014', 'MALE', 'ASIAN AND PACIFIC ISLANDER', 'Devin', '22', '46'], ['2014', 'MALE', 'ASIAN AND PACIFIC ISLANDER', 'Dylan', '50', '22'], ['2014', 'MALE', 'ASIAN AND PACIFIC ISLANDER', 'Eason', '38', '30'], ['2014', 'MALE', 'ASIAN AND PACIFIC ISLANDER', 'Eden', '17', '51'], ['2014', 'MALE', 'ASIAN AND PACIFIC ISLANDER', 'Edison', '14', '54'], ['2014', 'MALE', 'ASIAN AND PACIFIC ISLANDER', 'Edward', '13', '55'], ['2014', 'MALE', 'ASIAN AND PACIFIC ISLANDER', 'Edwin', '11', '57'], ['2014', 'MALE', 'ASIAN AND PACIFIC ISLANDER', 'Eli', '10', '58'], ['2014', 'MALE', 'ASIAN AND PACIFIC ISLANDER', 'Elijah', '13', '55'], ['2014', 'MALE', 'ASIAN AND PACIFIC ISLANDER', 'Elvis', '13', '55'], ['2014', 'MALE', 'ASIAN AND PACIFIC ISLANDER', 'Emmanuel', '10', '58'], ['2014', 'MALE', 'ASIAN AND PACIFIC ISLANDER', 'Eric', '84', '9'], ['2014', 'MALE', 'ASIAN AND PACIFIC ISLANDER', 'Ethan', '179', '2'], ['2014', 'MALE', 'ASIAN AND PACIFIC ISLANDER', 'Evan', '76', '11'], ['2014', 'MALE', 'ASIAN AND PACIFIC ISLANDER', 'Felix', '33', '35'], ['2014', 'MALE', 'ASIAN AND PACIFIC ISLANDER', 'Frank', '10', '58'], ['2014', 'MALE', 'ASIAN AND PACIFIC ISLANDER', 'Gabriel', '17', '51'], ['2014', 'MALE', 'ASIAN AND PACIFIC ISLANDER', 'Gary', '10', '58'], ['2014', 'MALE', 'ASIAN AND PACIFIC ISLANDER', 'Gavin', '20', '48'], ['2014', 'MALE', 'ASIAN AND PACIFIC ISLANDER', 'George', '15', '53'], ['2014', 'MALE', 'ASIAN AND PACIFIC ISLANDER', 'Gordon', '10', '58'], ['2014', 'MALE', 'ASIAN AND PACIFIC ISLANDER', 'Grayson', '12', '56'], ['2014', 'MALE', 'ASIAN AND PACIFIC ISLANDER', 'Harrison', '16', '52'], ['2014', 'MALE', 'ASIAN AND PACIFIC ISLANDER', 'Hassan', '10', '58'], ['2014', 'MALE', 'ASIAN AND PACIFIC ISLANDER', 'Hayden', '16', '52'], ['2014', 'MALE', 'ASIAN AND PACIFIC ISLANDER', 'Henry', '30', '38'], ['2014', 'MALE', 'ASIAN AND PACIFIC ISLANDER', 'Hudson', '17', '51'], ['2014', 'MALE', 'ASIAN AND PACIFIC ISLANDER', 'Hunter', '18', '50'], ['2014', 'MALE', 'ASIAN AND PACIFIC ISLANDER', 'Ian', '43', '28'], ['2014', 'MALE', 'ASIAN AND PACIFIC ISLANDER', 'Ibrahim', '24', '44'], ['2014', 'MALE', 'ASIAN AND PACIFIC ISLANDER', 'Isaac', '33', '35'], ['2014', 'MALE', 'ASIAN AND PACIFIC ISLANDER', 'Isaiah', '12', '56'], ['2014', 'MALE', 'ASIAN AND PACIFIC ISLANDER', 'Ivan', '43', '28'], ['2014', 'MALE', 'ASIAN AND PACIFIC ISLANDER', 'Jack', '21', '47'], ['2014', 'MALE', 'ASIAN AND PACIFIC ISLANDER', 'Jacob', '48', '24'], ['2014', 'MALE', 'ASIAN AND PACIFIC ISLANDER', 'Jaden', '30', '38'], ['2014', 'MALE', 'ASIAN AND PACIFIC ISLANDER', 'Jake', '14', '54'], ['2014', 'MALE', 'ASIAN AND PACIFIC ISLANDER', 'James', '52', '20'], ['2014', 'MALE', 'ASIAN AND PACIFIC ISLANDER', 'Jason', '78', '10'], ['2014', 'MALE', 'ASIAN AND PACIFIC ISLANDER', 'Jasper', '18', '50'], ['2014', 'MALE', 'ASIAN AND PACIFIC ISLANDER', 'Jayden', '187', '1'], ['2014', 'MALE', 'ASIAN AND PACIFIC ISLANDER', 'Jeffrey', '17', '51'], ['2014', 'MALE', 'ASIAN AND PACIFIC ISLANDER', 'Jeremy', '29', '39'], ['2014', 'MALE', 'ASIAN AND PACIFIC ISLANDER', 'Jerry', '15', '53'], ['2014', 'MALE', 'ASIAN AND PACIFIC ISLANDER', 'Jimmy', '19', '49'], ['2014', 'MALE', 'ASIAN AND PACIFIC ISLANDER', 'John', '26', '42'], ['2014', 'MALE', 'ASIAN AND PACIFIC ISLANDER', 'Jonathan', '43', '28'], ['2014', 'MALE', 'ASIAN AND PACIFIC ISLANDER', 'Jordan', '17', '51'], ['2014', 'MALE', 'ASIAN AND PACIFIC ISLANDER', 'Joseph', '18', '50'], ['2014', 'MALE', 'ASIAN AND PACIFIC ISLANDER', 'Joshua', '36', '32'], ['2014', 'MALE', 'ASIAN AND PACIFIC ISLANDER', 'Julian', '17', '51'], ['2014', 'MALE', 'ASIAN AND PACIFIC ISLANDER', 'Justin', '56', '17'], ['2014', 'MALE', 'ASIAN AND PACIFIC ISLANDER', 'Kabir', '10', '58'], ['2014', 'MALE', 'ASIAN AND PACIFIC ISLANDER', 'Kaden', '12', '56'], ['2014', 'MALE', 'ASIAN AND PACIFIC ISLANDER', 'Kai', '21', '47'], ['2014', 'MALE', 'ASIAN AND PACIFIC ISLANDER', 'Kayden', '16', '52'], ['2014', 'MALE', 'ASIAN AND PACIFIC ISLANDER', 'Kevin', '62', '15'], ['2014', 'MALE', 'ASIAN AND PACIFIC ISLANDER', 'Kimi', '24', '44'], ['2014', 'MALE', 'ASIAN AND PACIFIC ISLANDER', 'Kingsley', '21', '47'], ['2014', 'MALE', 'ASIAN AND PACIFIC ISLANDER', 'Kyle', '53', '19'], ['2014', 'MALE', 'ASIAN AND PACIFIC ISLANDER', 'Lawrence', '26', '42'], ['2014', 'MALE', 'ASIAN AND PACIFIC ISLANDER', 'Leo', '48', '24'], ['2014', 'MALE', 'ASIAN AND PACIFIC ISLANDER', 'Leon', '15', '53'], ['2014', 'MALE', 'ASIAN AND PACIFIC ISLANDER', 'Leonardo', '13', '55'], ['2014', 'MALE', 'ASIAN AND PACIFIC ISLANDER', 'Liam', '61', '16'], ['2014', 'MALE', 'ASIAN AND PACIFIC ISLANDER', 'Logan', '24', '44'], ['2014', 'MALE', 'ASIAN AND PACIFIC ISLANDER', 'Louis', '18', '50'], ['2014', 'MALE', 'ASIAN AND PACIFIC ISLANDER', 'Luca', '14', '54'], ['2014', 'MALE', 'ASIAN AND PACIFIC ISLANDER', 'Lucas', '139', '4'], ['2014', 'MALE', 'ASIAN AND PACIFIC ISLANDER', 'Luke', '26', '42'], ['2014', 'MALE', 'ASIAN AND PACIFIC ISLANDER', 'Marcus', '28', '40'], ['2014', 'MALE', 'ASIAN AND PACIFIC ISLANDER', 'Mark', '10', '58'], ['2014', 'MALE', 'ASIAN AND PACIFIC ISLANDER', 'Mason', '64', '13'], ['2014', 'MALE', 'ASIAN AND PACIFIC ISLANDER', 'Matthew', '71', '12'], ['2014', 'MALE', 'ASIAN AND PACIFIC ISLANDER', 'Max', '22', '46'], ['2014', 'MALE', 'ASIAN AND PACIFIC ISLANDER', 'Maxwell', '20', '48'], ['2014', 'MALE', 'ASIAN AND PACIFIC ISLANDER', 'Michael', '44', '27'], ['2014', 'MALE', 'ASIAN AND PACIFIC ISLANDER', 'Miles', '20', '48'], ['2014', 'MALE', 'ASIAN AND PACIFIC ISLANDER', 'Mohammad', '63', '14'], ['2014', 'MALE', 'ASIAN AND PACIFIC ISLANDER', 'Mohammed', '35', '33'], ['2014', 'MALE', 'ASIAN AND PACIFIC ISLANDER', 'Muhammad', '129', '6'], ['2014', 'MALE', 'ASIAN AND PACIFIC ISLANDER', 'Musa', '11', '57'], ['2014', 'MALE', 'ASIAN AND PACIFIC ISLANDER', 'Nathan', '49', '23'], ['2014', 'MALE', 'ASIAN AND PACIFIC ISLANDER', 'Nathaniel', '23', '45'], ['2014', 'MALE', 'ASIAN AND PACIFIC ISLANDER', 'Neil', '13', '55'], ['2014', 'MALE', 'ASIAN AND PACIFIC ISLANDER', 'Nicholas', '30', '38'], ['2014', 'MALE', 'ASIAN AND PACIFIC ISLANDER', 'Noah', '42', '29'], ['2014', 'MALE', 'ASIAN AND PACIFIC ISLANDER', 'Oliver', '55', '18'], ['2014', 'MALE', 'ASIAN AND PACIFIC ISLANDER', 'Omar', '10', '58'], ['2014', 'MALE', 'ASIAN AND PACIFIC ISLANDER', 'Oscar', '27', '41'], ['2014', 'MALE', 'ASIAN AND PACIFIC ISLANDER', 'Owen', '48', '24'], ['2014', 'MALE', 'ASIAN AND PACIFIC ISLANDER', 'Rayan', '20', '48'], ['2014', 'MALE', 'ASIAN AND PACIFIC ISLANDER', 'Raymond', '37', '31'], ['2014', 'MALE', 'ASIAN AND PACIFIC ISLANDER', 'Rayyan', '24', '44'], ['2014', 'MALE', 'ASIAN AND PACIFIC ISLANDER', 'Rehan', '13', '55'], ['2014', 'MALE', 'ASIAN AND PACIFIC ISLANDER', 'Richard', '18', '50'], ['2014', 'MALE', 'ASIAN AND PACIFIC ISLANDER', 'Ricky', '10', '58'], ['2014', 'MALE', 'ASIAN AND PACIFIC ISLANDER', 'Riley', '10', '58'], ['2014', 'MALE', 'ASIAN AND PACIFIC ISLANDER', 'Rohan', '21', '47'], ['2014', 'MALE', 'ASIAN AND PACIFIC ISLANDER', 'Roman', '10', '58'], ['2014', 'MALE', 'ASIAN AND PACIFIC ISLANDER', 'Roy', '23', '45'], ['2014', 'MALE', 'ASIAN AND PACIFIC ISLANDER', 'Ryan', '164', '3'], ['2014', 'MALE', 'ASIAN AND PACIFIC ISLANDER', 'Ryder', '15', '53'], ['2014', 'MALE', 'ASIAN AND PACIFIC ISLANDER', 'Samuel', '22', '46'], ['2014', 'MALE', 'ASIAN AND PACIFIC ISLANDER', 'Sean', '12', '56'], ['2014', 'MALE', 'ASIAN AND PACIFIC ISLANDER', 'Sebastian', '17', '51'], ['2014', 'MALE', 'ASIAN AND PACIFIC ISLANDER', 'Shawn', '11', '57'], ['2014', 'MALE', 'ASIAN AND PACIFIC ISLANDER', 'Shayan', '10', '58'], ['2014', 'MALE', 'ASIAN AND PACIFIC ISLANDER', 'Simon', '10', '58'], ['2014', 'MALE', 'ASIAN AND PACIFIC ISLANDER', 'Stanley', '14', '54'], ['2014', 'MALE', 'ASIAN AND PACIFIC ISLANDER', 'Steven', '18', '50'], ['2014', 'MALE', 'ASIAN AND PACIFIC ISLANDER', 'Syed', '20', '48'], ['2014', 'MALE', 'ASIAN AND PACIFIC ISLANDER', 'Tenzin', '42', '29'], ['2014', 'MALE', 'ASIAN AND PACIFIC ISLANDER', 'Theodore', '22', '46'], ['2014', 'MALE', 'ASIAN AND PACIFIC ISLANDER', 'Thomas', '17', '51'], ['2014', 'MALE', 'ASIAN AND PACIFIC ISLANDER', 'Timothy', '19', '49'], ['2014', 'MALE', 'ASIAN AND PACIFIC ISLANDER', 'Tony', '11', '57'], ['2014', 'MALE', 'ASIAN AND PACIFIC ISLANDER', 'Travis', '10', '58'], ['2014', 'MALE', 'ASIAN AND PACIFIC ISLANDER', 'Tristan', '19', '49'], ['2014', 'MALE', 'ASIAN AND PACIFIC ISLANDER', 'Tyler', '33', '35'], ['2014', 'MALE', 'ASIAN AND PACIFIC ISLANDER', 'Victor', '12', '56'], ['2014', 'MALE', 'ASIAN AND PACIFIC ISLANDER', 'Vincent', '46', '25'], ['2014', 'MALE', 'ASIAN AND PACIFIC ISLANDER', 'Wesley', '18', '50'], ['2014', 'MALE', 'ASIAN AND PACIFIC ISLANDER', 'William', '85', '8'], ['2014', 'MALE', 'ASIAN AND PACIFIC ISLANDER', 'Wilson', '11', '57'], ['2014', 'MALE', 'ASIAN AND PACIFIC ISLANDER', 'Winston', '10', '58'], ['2014', 'MALE', 'ASIAN AND PACIFIC ISLANDER', 'Xavier', '10', '58'], ['2014', 'MALE', 'ASIAN AND PACIFIC ISLANDER', 'Zachary', '25', '43'], ['2014', 'MALE', 'ASIAN AND PACIFIC ISLANDER', 'Zain', '12', '56'], ['2014', 'MALE', 'ASIAN AND PACIFIC ISLANDER', 'Zayan', '18', '50'], ['2014', 'MALE', 'BLACK NON HISPANIC', 'Aaron', '34', '38'], ['2014', 'MALE', 'BLACK NON HISPANIC', 'Abdoul', '11', '59'], ['2014', 'MALE', 'BLACK NON HISPANIC', 'Abdoulaye', '14', '56'], ['2014', 'MALE', 'BLACK NON HISPANIC', 'Abraham', '13', '57'], ['2014', 'MALE', 'BLACK NON HISPANIC', 'Adam', '24', '46'], ['2014', 'MALE', 'BLACK NON HISPANIC', 'Aden', '17', '53'], ['2014', 'MALE', 'BLACK NON HISPANIC', 'Adonis', '11', '59'], ['2014', 'MALE', 'BLACK NON HISPANIC', 'Adrian', '15', '55'], ['2014', 'MALE', 'BLACK NON HISPANIC', 'Ahmed', '10', '60'], ['2014', 'MALE', 'BLACK NON HISPANIC', 'Aiden', '121', '3'], ['2014', 'MALE', 'BLACK NON HISPANIC', 'Alexander', '49', '26'], ['2014', 'MALE', 'BLACK NON HISPANIC', 'Ali', '10', '60'], ['2014', 'MALE', 'BLACK NON HISPANIC', 'Alpha', '16', '54'], ['2014', 'MALE', 'BLACK NON HISPANIC', 'Amadou', '15', '55'], ['2014', 'MALE', 'BLACK NON HISPANIC', 'Amare', '10', '60'], ['2014', 'MALE', 'BLACK NON HISPANIC', 'Amari', '30', '42'], ['2014', 'MALE', 'BLACK NON HISPANIC', 'Amir', '101', '10'], ['2014', 'MALE', 'BLACK NON HISPANIC', 'Andre', '13', '57'], ['2014', 'MALE', 'BLACK NON HISPANIC', 'Andrew', '41', '32'], ['2014', 'MALE', 'BLACK NON HISPANIC', 'Angel', '10', '60'], ['2014', 'MALE', 'BLACK NON HISPANIC', 'Anthony', '37', '35'], ['2014', 'MALE', 'BLACK NON HISPANIC', 'Antonio', '11', '59'], ['2014', 'MALE', 'BLACK NON HISPANIC', 'Asher', '13', '57'], ['2014', 'MALE', 'BLACK NON HISPANIC', 'Ashton', '30', '42'], ['2014', 'MALE', 'BLACK NON HISPANIC', 'Austin', '22', '48'], ['2014', 'MALE', 'BLACK NON HISPANIC', 'Avery', '23', '47'], ['2014', 'MALE', 'BLACK NON HISPANIC', 'Ayden', '59', '21'], ['2014', 'MALE', 'BLACK NON HISPANIC', 'Benjamin', '30', '42'], ['2014', 'MALE', 'BLACK NON HISPANIC', 'Blake', '17', '53'], ['2014', 'MALE', 'BLACK NON HISPANIC', 'Bradley', '15', '55'], ['2014', 'MALE', 'BLACK NON HISPANIC', 'Brandon', '31', '41'], ['2014', 'MALE', 'BLACK NON HISPANIC', 'Brian', '20', '50'], ['2014', 'MALE', 'BLACK NON HISPANIC', 'Bryan', '15', '55'], ['2014', 'MALE', 'BLACK NON HISPANIC', 'Bryce', '32', '40'], ['2014', 'MALE', 'BLACK NON HISPANIC', 'Bryson', '17', '53'], ['2014', 'MALE', 'BLACK NON HISPANIC', 'Caden', '10', '60'], ['2014', 'MALE', 'BLACK NON HISPANIC', 'Caiden', '18', '52'], ['2014', 'MALE', 'BLACK NON HISPANIC', 'Caleb', '55', '23'], ['2014', 'MALE', 'BLACK NON HISPANIC', 'Calvin', '10', '60'], ['2014', 'MALE', 'BLACK NON HISPANIC', 'Cameron', '38', '34'], ['2014', 'MALE', 'BLACK NON HISPANIC', 'Carmelo', '13', '57'], ['2014', 'MALE', 'BLACK NON HISPANIC', 'Carter', '106', '8'], ['2014', 'MALE', 'BLACK NON HISPANIC', 'Cayden', '29', '43'], ['2014', 'MALE', 'BLACK NON HISPANIC', 'Chance', '28', '44'], ['2014', 'MALE', 'BLACK NON HISPANIC', 'Charles', '11', '59'], ['2014', 'MALE', 'BLACK NON HISPANIC', 'Chase', '70', '16'], ['2014', 'MALE', 'BLACK NON HISPANIC', 'Christian', '76', '14'], ['2014', 'MALE', 'BLACK NON HISPANIC', 'Christopher', '55', '23'], ['2014', 'MALE', 'BLACK NON HISPANIC', 'Daniel', '55', '23'], ['2014', 'MALE', 'BLACK NON HISPANIC', 'Darren', '10', '60'], ['2014', 'MALE', 'BLACK NON HISPANIC', 'David', '46', '28'], ['2014', 'MALE', 'BLACK NON HISPANIC', 'Devin', '10', '60'], ['2014', 'MALE', 'BLACK NON HISPANIC', 'Dominic', '14', '56'], ['2014', 'MALE', 'BLACK NON HISPANIC', 'Donovan', '10', '60'], ['2014', 'MALE', 'BLACK NON HISPANIC', 'Dylan', '53', '24'], ['2014', 'MALE', 'BLACK NON HISPANIC', 'Eli', '20', '50'], ['2014', 'MALE', 'BLACK NON HISPANIC', 'Elias', '15', '55'], ['2014', 'MALE', 'BLACK NON HISPANIC', 'Elijah', '117', '4'], ['2014', 'MALE', 'BLACK NON HISPANIC', 'Emmanuel', '37', '35'], ['2014', 'MALE', 'BLACK NON HISPANIC', 'Eric', '19', '51'], ['2014', 'MALE', 'BLACK NON HISPANIC', 'Ethan', '138', '1'], ['2014', 'MALE', 'BLACK NON HISPANIC', 'Ezekiel', '15', '55'], ['2014', 'MALE', 'BLACK NON HISPANIC', 'Ezra', '10', '60'], ['2014', 'MALE', 'BLACK NON HISPANIC', 'Gabriel', '43', '31'], ['2014', 'MALE', 'BLACK NON HISPANIC', 'Gavin', '12', '58'], ['2014', 'MALE', 'BLACK NON HISPANIC', 'Giovanni', '15', '55'], ['2014', 'MALE', 'BLACK NON HISPANIC', 'Greyson', '11', '59'], ['2014', 'MALE', 'BLACK NON HISPANIC', 'Hunter', '33', '39'], ['2014', 'MALE', 'BLACK NON HISPANIC', 'Ibrahim', '22', '48'], ['2014', 'MALE', 'BLACK NON HISPANIC', 'Ibrahima', '13', '57'], ['2014', 'MALE', 'BLACK NON HISPANIC', 'Isaac', '28', '44'], ['2014', 'MALE', 'BLACK NON HISPANIC', 'Isaiah', '56', '22'], ['2014', 'MALE', 'BLACK NON HISPANIC', 'Jace', '44', '30'], ['2014', 'MALE', 'BLACK NON HISPANIC', 'Jacob', '73', '15'], ['2014', 'MALE', 'BLACK NON HISPANIC', 'Jaden', '28', '44'], ['2014', 'MALE', 'BLACK NON HISPANIC', 'Jaiden', '21', '49'], ['2014', 'MALE', 'BLACK NON HISPANIC', 'Jalen', '11', '59'], ['2014', 'MALE', 'BLACK NON HISPANIC', 'Jamar', '12', '58'], ['2014', 'MALE', 'BLACK NON HISPANIC', 'James', '41', '32'], ['2014', 'MALE', 'BLACK NON HISPANIC', 'Jasiah', '12', '58'], ['2014', 'MALE', 'BLACK NON HISPANIC', 'Jason', '34', '38'], ['2014', 'MALE', 'BLACK NON HISPANIC', 'Jaxon', '12', '58'], ['2014', 'MALE', 'BLACK NON HISPANIC', 'Jayce', '33', '39'], ['2014', 'MALE', 'BLACK NON HISPANIC', 'Jayceon', '36', '36'], ['2014', 'MALE', 'BLACK NON HISPANIC', 'Jayden', '121', '3'], ['2014', 'MALE', 'BLACK NON HISPANIC', 'Jaylen', '19', '51'], ['2014', 'MALE', 'BLACK NON HISPANIC', 'Jayson', '11', '59'], ['2014', 'MALE', 'BLACK NON HISPANIC', 'Jeremiah', '114', '5'], ['2014', 'MALE', 'BLACK NON HISPANIC', 'Jeremy', '14', '56'], ['2014', 'MALE', 'BLACK NON HISPANIC', 'Joel', '29', '43'], ['2014', 'MALE', 'BLACK NON HISPANIC', 'John', '20', '50'], ['2014', 'MALE', 'BLACK NON HISPANIC', 'Jonathan', '46', '28'], ['2014', 'MALE', 'BLACK NON HISPANIC', 'Jordan', '40', '33'], ['2014', 'MALE', 'BLACK NON HISPANIC', 'Joseph', '27', '45'], ['2014', 'MALE', 'BLACK NON HISPANIC', 'Joshua', '108', '7'], ['2014', 'MALE', 'BLACK NON HISPANIC', 'Josiah', '89', '11'], ['2014', 'MALE', 'BLACK NON HISPANIC', 'Julian', '18', '52'], ['2014', 'MALE', 'BLACK NON HISPANIC', 'Julius', '17', '53'], ['2014', 'MALE', 'BLACK NON HISPANIC', 'Justice', '10', '60'], ['2014', 'MALE', 'BLACK NON HISPANIC', 'Justin', '43', '31'], ['2014', 'MALE', 'BLACK NON HISPANIC', 'Kaden', '20', '50'], ['2014', 'MALE', 'BLACK NON HISPANIC', 'Kai', '30', '42'], ['2014', 'MALE', 'BLACK NON HISPANIC', 'Kaiden', '64', '19'], ['2014', 'MALE', 'BLACK NON HISPANIC', 'Kaleb', '20', '50'], ['2014', 'MALE', 'BLACK NON HISPANIC', 'Kamari', '12', '58'], ['2014', 'MALE', 'BLACK NON HISPANIC', 'Kareem', '18', '52'], ['2014', 'MALE', 'BLACK NON HISPANIC', 'Karter', '35', '37'], ['2014', 'MALE', 'BLACK NON HISPANIC', 'Kayden', '67', '17'], ['2014', 'MALE', 'BLACK NON HISPANIC', 'Kenneth', '12', '58'], ['2014', 'MALE', 'BLACK NON HISPANIC', 'Kevin', '27', '45'], ['2014', 'MALE', 'BLACK NON HISPANIC', 'Khalil', '13', '57'], ['2014', 'MALE', 'BLACK NON HISPANIC', 'King', '66', '18'], ['2014', 'MALE', 'BLACK NON HISPANIC', 'Kingston', '16', '54'], ['2014', 'MALE', 'BLACK NON HISPANIC', 'Kristian', '17', '53'], ['2014', 'MALE', 'BLACK NON HISPANIC', 'Kyle', '33', '39'], ['2014', 'MALE', 'BLACK NON HISPANIC', 'Kyrie', '23', '47'], ['2014', 'MALE', 'BLACK NON HISPANIC', 'Landon', '11', '59'], ['2014', 'MALE', 'BLACK NON HISPANIC', 'Levi', '13', '57'], ['2014', 'MALE', 'BLACK NON HISPANIC', 'Liam', '113', '6'], ['2014', 'MALE', 'BLACK NON HISPANIC', 'Logan', '70', '16'], ['2014', 'MALE', 'BLACK NON HISPANIC', 'Lorenzo', '10', '60'], ['2014', 'MALE', 'BLACK NON HISPANIC', 'Lucas', '20', '50'], ['2014', 'MALE', 'BLACK NON HISPANIC', 'Luke', '13', '57'], ['2014', 'MALE', 'BLACK NON HISPANIC', 'Major', '16', '54'], ['2014', 'MALE', 'BLACK NON HISPANIC', 'Malachi', '46', '28'], ['2014', 'MALE', 'BLACK NON HISPANIC', 'Malik', '27', '45'], ['2014', 'MALE', 'BLACK NON HISPANIC', 'Mamadou', '23', '47'], ['2014', 'MALE', 'BLACK NON HISPANIC', 'Marcus', '18', '52'], ['2014', 'MALE', 'BLACK NON HISPANIC', 'Mason', '105', '9'], ['2014', 'MALE', 'BLACK NON HISPANIC', 'Matthew', '52', '25'], ['2014', 'MALE', 'BLACK NON HISPANIC', 'Mekhi', '23', '47'], ['2014', 'MALE', 'BLACK NON HISPANIC', 'Messiah', '49', '26'], ['2014', 'MALE', 'BLACK NON HISPANIC', 'Micah', '32', '40'], ['2014', 'MALE', 'BLACK NON HISPANIC', 'Michael', '80', '12'], ['2014', 'MALE', 'BLACK NON HISPANIC', 'Miles', '13', '57'], ['2014', 'MALE', 'BLACK NON HISPANIC', 'Mohamed', '43', '31'], ['2014', 'MALE', 'BLACK NON HISPANIC', 'Mohammed', '12', '58'], ['2014', 'MALE', 'BLACK NON HISPANIC', 'Mouhamed', '12', '58'], ['2014', 'MALE', 'BLACK NON HISPANIC', 'Moussa', '16', '54'], ['2014', 'MALE', 'BLACK NON HISPANIC', 'Myles', '11', '59'], ['2014', 'MALE', 'BLACK NON HISPANIC', 'Nasir', '33', '39'], ['2014', 'MALE', 'BLACK NON HISPANIC', 'Nathan', '63', '20'], ['2014', 'MALE', 'BLACK NON HISPANIC', 'Nathaniel', '48', '27'], ['2014', 'MALE', 'BLACK NON HISPANIC', 'Nicholas', '31', '41'], ['2014', 'MALE', 'BLACK NON HISPANIC', 'Noah', '128', '2'], ['2014', 'MALE', 'BLACK NON HISPANIC', 'Noel', '13', '57'], ['2014', 'MALE', 'BLACK NON HISPANIC', 'Nolan', '16', '54'], ['2014', 'MALE', 'BLACK NON HISPANIC', 'Omar', '21', '49'], ['2014', 'MALE', 'BLACK NON HISPANIC', 'Omari', '13', '57'], ['2014', 'MALE', 'BLACK NON HISPANIC', 'Oumar', '14', '56'], ['2014', 'MALE', 'BLACK NON HISPANIC', 'Peyton', '14', '56'], ['2014', 'MALE', 'BLACK NON HISPANIC', 'Preston', '16', '54'], ['2014', 'MALE', 'BLACK NON HISPANIC', 'Prince', '21', '49'], ['2014', 'MALE', 'BLACK NON HISPANIC', 'Princeton', '12', '58'], ['2014', 'MALE', 'BLACK NON HISPANIC', 'Quincy', '15', '55'], ['2014', 'MALE', 'BLACK NON HISPANIC', 'Richard', '16', '54'], ['2014', 'MALE', 'BLACK NON HISPANIC', 'Riley', '14', '56'], ['2014', 'MALE', 'BLACK NON HISPANIC', 'Robert', '13', '57'], ['2014', 'MALE', 'BLACK NON HISPANIC', 'Roman', '10', '60'], ['2014', 'MALE', 'BLACK NON HISPANIC', 'Ryan', '46', '28'], ['2014', 'MALE', 'BLACK NON HISPANIC', 'Samuel', '24', '46'], ['2014', 'MALE', 'BLACK NON HISPANIC', 'Savion', '10', '60'], ['2014', 'MALE', 'BLACK NON HISPANIC', 'Sean', '13', '57'], ['2014', 'MALE', 'BLACK NON HISPANIC', 'Sebastian', '21', '49'], ['2014', 'MALE', 'BLACK NON HISPANIC', 'Seth', '10', '60'], ['2014', 'MALE', 'BLACK NON HISPANIC', 'Sincere', '19', '51'], ['2014', 'MALE', 'BLACK NON HISPANIC', 'Steven', '10', '60'], ['2014', 'MALE', 'BLACK NON HISPANIC', 'Thomas', '11', '59'], ['2014', 'MALE', 'BLACK NON HISPANIC', 'Timothy', '11', '59'], ['2014', 'MALE', 'BLACK NON HISPANIC', 'Travis', '12', '58'], ['2014', 'MALE', 'BLACK NON HISPANIC', 'Tristan', '52', '25'], ['2014', 'MALE', 'BLACK NON HISPANIC', 'Tyler', '77', '13'], ['2014', 'MALE', 'BLACK NON HISPANIC', 'William', '21', '49'], ['2014', 'MALE', 'BLACK NON HISPANIC', 'Wyatt', '10', '60'], ['2014', 'MALE', 'BLACK NON HISPANIC', 'Xavier', '45', '29'], ['2014', 'MALE', 'BLACK NON HISPANIC', 'Zachary', '36', '36'], ['2014', 'MALE', 'BLACK NON HISPANIC', 'Zahir', '14', '56'], ['2014', 'MALE', 'BLACK NON HISPANIC', 'Zaiden', '14', '56'], ['2014', 'MALE', 'BLACK NON HISPANIC', 'Zaire', '20', '50'], ['2014', 'MALE', 'BLACK NON HISPANIC', 'Zamir', '10', '60'], ['2014', 'MALE', 'BLACK NON HISPANIC', 'Zane', '10', '60'], ['2014', 'MALE', 'BLACK NON HISPANIC', 'Zayden', '13', '57'], ['2014', 'MALE', 'BLACK NON HISPANIC', 'Zion', '40', '33'], ['2014', 'MALE', 'HISPANIC', 'Aaron', '129', '21'], ['2014', 'MALE', 'HISPANIC', 'Abel', '18', '90'], ['2014', 'MALE', 'HISPANIC', 'Abraham', '33', '75'], ['2014', 'MALE', 'HISPANIC', 'Adam', '51', '59'], ['2014', 'MALE', 'HISPANIC', 'Adan', '10', '98'], ['2014', 'MALE', 'HISPANIC', 'Adonis', '20', '88'], ['2014', 'MALE', 'HISPANIC', 'Adrian', '140', '18'], ['2014', 'MALE', 'HISPANIC', 'Adriel', '34', '74'], ['2014', 'MALE', 'HISPANIC', 'Aidan', '24', '84'], ['2014', 'MALE', 'HISPANIC', 'Aiden', '165', '15'], ['2014', 'MALE', 'HISPANIC', 'Alan', '62', '52'], ['2014', 'MALE', 'HISPANIC', 'Albert', '15', '93'], ['2014', 'MALE', 'HISPANIC', 'Alberto', '13', '95'], ['2014', 'MALE', 'HISPANIC', 'Alejandro', '55', '55'], ['2014', 'MALE', 'HISPANIC', 'Alex', '66', '49'], ['2014', 'MALE', 'HISPANIC', 'Alexander', '213', '8'], ['2014', 'MALE', 'HISPANIC', 'Alexis', '40', '68'], ['2014', 'MALE', 'HISPANIC', 'Allan', '13', '95'], ['2014', 'MALE', 'HISPANIC', 'Allen', '12', '96'], ['2014', 'MALE', 'HISPANIC', 'Amir', '19', '89'], ['2014', 'MALE', 'HISPANIC', 'Anderson', '17', '91'], ['2014', 'MALE', 'HISPANIC', 'Andres', '30', '78'], ['2014', 'MALE', 'HISPANIC', 'Andrew', '88', '39'], ['2014', 'MALE', 'HISPANIC', 'Andy', '33', '75'], ['2014', 'MALE', 'HISPANIC', 'Angel', '194', '10'], ['2014', 'MALE', 'HISPANIC', 'Anthony', '152', '17'], ['2014', 'MALE', 'HISPANIC', 'Antonio', '36', '72'], ['2014', 'MALE', 'HISPANIC', 'Ariel', '16', '92'], ['2014', 'MALE', 'HISPANIC', 'Armani', '13', '95'], ['2014', 'MALE', 'HISPANIC', 'Ashton', '13', '95'], ['2014', 'MALE', 'HISPANIC', 'Austin', '39', '69'], ['2014', 'MALE', 'HISPANIC', 'Avery', '23', '85'], ['2014', 'MALE', 'HISPANIC', 'Axel', '52', '58'], ['2014', 'MALE', 'HISPANIC', 'Ayden', '91', '36'], ['2014', 'MALE', 'HISPANIC', 'Benjamin', '69', '47'], ['2014', 'MALE', 'HISPANIC', 'Bradley', '28', '80'], ['2014', 'MALE', 'HISPANIC', 'Brandon', '131', '20'], ['2014', 'MALE', 'HISPANIC', 'Brayan', '19', '89'], ['2014', 'MALE', 'HISPANIC', 'Brayden', '17', '91'], ['2014', 'MALE', 'HISPANIC', 'Brian', '26', '82'], ['2014', 'MALE', 'HISPANIC', 'Bruce', '14', '94'], ['2014', 'MALE', 'HISPANIC', 'Bryan', '83', '41'], ['2014', 'MALE', 'HISPANIC', 'Bryant', '13', '95'], ['2014', 'MALE', 'HISPANIC', 'Bryce', '13', '95'], ['2014', 'MALE', 'HISPANIC', 'Caleb', '42', '66'], ['2014', 'MALE', 'HISPANIC', 'Cameron', '19', '89'], ['2014', 'MALE', 'HISPANIC', 'Carlos', '86', '40'], ['2014', 'MALE', 'HISPANIC', 'Carter', '19', '89'], ['2014', 'MALE', 'HISPANIC', 'Cesar', '23', '85'], ['2014', 'MALE', 'HISPANIC', 'Charles', '21', '87'], ['2014', 'MALE', 'HISPANIC', 'Chase', '21', '87'], ['2014', 'MALE', 'HISPANIC', 'Chris', '17', '91'], ['2014', 'MALE', 'HISPANIC', 'Christian', '90', '37'], ['2014', 'MALE', 'HISPANIC', 'Christopher', '156', '16'], ['2014', 'MALE', 'HISPANIC', 'Cristian', '33', '75'], ['2014', 'MALE', 'HISPANIC', 'Damian', '49', '60'], ['2014', 'MALE', 'HISPANIC', 'Damien', '16', '92'], ['2014', 'MALE', 'HISPANIC', 'Daniel', '204', '9'], ['2014', 'MALE', 'HISPANIC', 'Danny', '17', '91'], ['2014', 'MALE', 'HISPANIC', 'Dante', '16', '92'], ['2014', 'MALE', 'HISPANIC', 'Dariel', '28', '80'], ['2014', 'MALE', 'HISPANIC', 'Darwin', '11', '97'], ['2014', 'MALE', 'HISPANIC', 'David', '167', '14'], ['2014', 'MALE', 'HISPANIC', 'Dean', '12', '96'], ['2014', 'MALE', 'HISPANIC', 'Dennis', '10', '98'], ['2014', 'MALE', 'HISPANIC', 'Derek', '54', '56'], ['2014', 'MALE', 'HISPANIC', 'Derick', '10', '98'], ['2014', 'MALE', 'HISPANIC', 'Devin', '12', '96'], ['2014', 'MALE', 'HISPANIC', 'Diego', '62', '52'], ['2014', 'MALE', 'HISPANIC', 'Dominic', '33', '75'], ['2014', 'MALE', 'HISPANIC', 'Dominick', '16', '92'], ['2014', 'MALE', 'HISPANIC', 'Donovan', '10', '98'], ['2014', 'MALE', 'HISPANIC', 'Dylan', '292', '2'], ['2014', 'MALE', 'HISPANIC', 'Eddy', '10', '98'], ['2014', 'MALE', 'HISPANIC', 'Edgar', '24', '84'], ['2014', 'MALE', 'HISPANIC', 'Eduardo', '19', '89'], ['2014', 'MALE', 'HISPANIC', 'Edward', '35', '73'], ['2014', 'MALE', 'HISPANIC', 'Edwin', '41', '67'], ['2014', 'MALE', 'HISPANIC', 'Eli', '39', '69'], ['2014', 'MALE', 'HISPANIC', 'Elian', '19', '89'], ['2014', 'MALE', 'HISPANIC', 'Elias', '89', '38'], ['2014', 'MALE', 'HISPANIC', 'Elijah', '119', '23'], ['2014', 'MALE', 'HISPANIC', 'Emanuel', '24', '84'], ['2014', 'MALE', 'HISPANIC', 'Emiliano', '11', '97'], ['2014', 'MALE', 'HISPANIC', 'Emilio', '22', '86'], ['2014', 'MALE', 'HISPANIC', 'Emmanuel', '64', '50'], ['2014', 'MALE', 'HISPANIC', 'Enrique', '18', '90'], ['2014', 'MALE', 'HISPANIC', 'Enzo', '17', '91'], ['2014', 'MALE', 'HISPANIC', 'Eric', '27', '81'], ['2014', 'MALE', 'HISPANIC', 'Erick', '55', '55'], ['2014', 'MALE', 'HISPANIC', 'Esteban', '13', '95'], ['2014', 'MALE', 'HISPANIC', 'Ethan', '262', '5'], ['2014', 'MALE', 'HISPANIC', 'Evan', '49', '60'], ['2014', 'MALE', 'HISPANIC', 'Ezekiel', '10', '98'], ['2014', 'MALE', 'HISPANIC', 'Ezequiel', '14', '94'], ['2014', 'MALE', 'HISPANIC', 'Ezra', '12', '96'], ['2014', 'MALE', 'HISPANIC', 'Fabian', '10', '98'], ['2014', 'MALE', 'HISPANIC', 'Felix', '13', '95'], ['2014', 'MALE', 'HISPANIC', 'Fernando', '26', '82'], ['2014', 'MALE', 'HISPANIC', 'Francisco', '33', '75'], ['2014', 'MALE', 'HISPANIC', 'Frank', '11', '97'], ['2014', 'MALE', 'HISPANIC', 'Gabriel', '138', '19'], ['2014', 'MALE', 'HISPANIC', 'Gael', '38', '70'], ['2014', 'MALE', 'HISPANIC', 'Gavin', '18', '90'], ['2014', 'MALE', 'HISPANIC', 'George', '20', '88'], ['2014', 'MALE', 'HISPANIC', 'Gerardo', '11', '97'], ['2014', 'MALE', 'HISPANIC', 'Giovanni', '42', '66'], ['2014', 'MALE', 'HISPANIC', 'Grayson', '10', '98'], ['2014', 'MALE', 'HISPANIC', 'Gregory', '10', '98'], ['2014', 'MALE', 'HISPANIC', 'Hector', '18', '90'], ['2014', 'MALE', 'HISPANIC', 'Henry', '29', '79'], ['2014', 'MALE', 'HISPANIC', 'Hudson', '14', '94'], ['2014', 'MALE', 'HISPANIC', 'Hunter', '33', '75'], ['2014', 'MALE', 'HISPANIC', 'Ian', '112', '27'], ['2014', 'MALE', 'HISPANIC', 'Iker', '49', '60'], ['2014', 'MALE', 'HISPANIC', 'Isaac', '89', '38'], ['2014', 'MALE', 'HISPANIC', 'Isaiah', '47', '61'], ['2014', 'MALE', 'HISPANIC', 'Ismael', '26', '82'], ['2014', 'MALE', 'HISPANIC', 'Israel', '18', '90'], ['2014', 'MALE', 'HISPANIC', 'Ivan', '44', '64'], ['2014', 'MALE', 'HISPANIC', 'Jace', '63', '51'], ['2014', 'MALE', 'HISPANIC', 'Jack', '25', '83'], ['2014', 'MALE', 'HISPANIC', 'Jackson', '21', '87'], ['2014', 'MALE', 'HISPANIC', 'Jacob', '292', '2'], ['2014', 'MALE', 'HISPANIC', 'Jaden', '43', '65'], ['2014', 'MALE', 'HISPANIC', 'Jadiel', '44', '64'], ['2014', 'MALE', 'HISPANIC', 'Jael', '13', '95'], ['2014', 'MALE', 'HISPANIC', 'Jaiden', '14', '94'], ['2014', 'MALE', 'HISPANIC', 'Jake', '41', '67'], ['2014', 'MALE', 'HISPANIC', 'James', '99', '34'], ['2014', 'MALE', 'HISPANIC', 'Jared', '25', '83'], ['2014', 'MALE', 'HISPANIC', 'Jariel', '20', '88'], ['2014', 'MALE', 'HISPANIC', 'Jason', '70', '46'], ['2014', 'MALE', 'HISPANIC', 'Javier', '42', '66'], ['2014', 'MALE', 'HISPANIC', 'Jaxon', '20', '88'], ['2014', 'MALE', 'HISPANIC', 'Jaxson', '11', '97'], ['2014', 'MALE', 'HISPANIC', 'Jay', '21', '87'], ['2014', 'MALE', 'HISPANIC', 'Jayce', '35', '73'], ['2014', 'MALE', 'HISPANIC', 'Jayceon', '13', '95'], ['2014', 'MALE', 'HISPANIC', 'Jayden', '266', '4'], ['2014', 'MALE', 'HISPANIC', 'Jayson', '16', '92'], ['2014', 'MALE', 'HISPANIC', 'Jean', '22', '86'], ['2014', 'MALE', 'HISPANIC', 'Jefferson', '17', '91'], ['2014', 'MALE', 'HISPANIC', 'Jeffrey', '18', '90'], ['2014', 'MALE', 'HISPANIC', 'Jeremiah', '98', '35'], ['2014', 'MALE', 'HISPANIC', 'Jeremy', '109', '28'], ['2014', 'MALE', 'HISPANIC', 'Jesus', '67', '48'], ['2014', 'MALE', 'HISPANIC', 'Joaquin', '21', '87'], ['2014', 'MALE', 'HISPANIC', 'Joel', '76', '44'], ['2014', 'MALE', 'HISPANIC', 'Johan', '23', '85'], ['2014', 'MALE', 'HISPANIC', 'John', '66', '49'], ['2014', 'MALE', 'HISPANIC', 'Johnny', '17', '91'], ['2014', 'MALE', 'HISPANIC', 'Jonah', '12', '96'], ['2014', 'MALE', 'HISPANIC', 'Jonas', '13', '95'], ['2014', 'MALE', 'HISPANIC', 'Jonathan', '113', '26'], ['2014', 'MALE', 'HISPANIC', 'Jordan', '62', '52'], ['2014', 'MALE', 'HISPANIC', 'Jorge', '29', '79'], ['2014', 'MALE', 'HISPANIC', 'Jose', '100', '33'], ['2014', 'MALE', 'HISPANIC', 'Joseph', '114', '25'], ['2014', 'MALE', 'HISPANIC', 'Joshua', '152', '17'], ['2014', 'MALE', 'HISPANIC', 'Josiah', '52', '58'], ['2014', 'MALE', 'HISPANIC', 'Josue', '35', '73'], ['2014', 'MALE', 'HISPANIC', 'Juan', '66', '49'], ['2014', 'MALE', 'HISPANIC', 'Julian', '106', '30'], ['2014', 'MALE', 'HISPANIC', 'Julio', '15', '93'], ['2014', 'MALE', 'HISPANIC', 'Julius', '46', '62'], ['2014', 'MALE', 'HISPANIC', 'Junior', '14', '94'], ['2014', 'MALE', 'HISPANIC', 'Justin', '125', '22'], ['2014', 'MALE', 'HISPANIC', 'Kaden', '10', '98'], ['2014', 'MALE', 'HISPANIC', 'Kai', '13', '95'], ['2014', 'MALE', 'HISPANIC', 'Kaiden', '20', '88'], ['2014', 'MALE', 'HISPANIC', 'Kaleb', '16', '92'], ['2014', 'MALE', 'HISPANIC', 'Kayden', '59', '54'], ['2014', 'MALE', 'HISPANIC', 'Kendrick', '12', '96'], ['2014', 'MALE', 'HISPANIC', 'Kenneth', '24', '84'], ['2014', 'MALE', 'HISPANIC', 'Kenny', '14', '94'], ['2014', 'MALE', 'HISPANIC', 'Kevin', '117', '24'], ['2014', 'MALE', 'HISPANIC', 'King', '26', '82'], ['2014', 'MALE', 'HISPANIC', 'Kyle', '14', '94'], ['2014', 'MALE', 'HISPANIC', 'Landon', '15', '93'], ['2014', 'MALE', 'HISPANIC', 'Leandro', '11', '97'], ['2014', 'MALE', 'HISPANIC', 'Leo', '22', '86'], ['2014', 'MALE', 'HISPANIC', 'Leon', '13', '95'], ['2014', 'MALE', 'HISPANIC', 'Leonardo', '61', '53'], ['2014', 'MALE', 'HISPANIC', 'Leonidas', '11', '97'], ['2014', 'MALE', 'HISPANIC', 'Levi', '14', '94'], ['2014', 'MALE', 'HISPANIC', 'Liam', '312', '1'], ['2014', 'MALE', 'HISPANIC', 'Logan', '107', '29'], ['2014', 'MALE', 'HISPANIC', 'Lorenzo', '17', '91'], ['2014', 'MALE', 'HISPANIC', 'Louis', '11', '97'], ['2014', 'MALE', 'HISPANIC', 'Luca', '18', '90'], ['2014', 'MALE', 'HISPANIC', 'Lucas', '187', '11'], ['2014', 'MALE', 'HISPANIC', 'Luis', '98', '35'], ['2014', 'MALE', 'HISPANIC', 'Lukas', '18', '90'], ['2014', 'MALE', 'HISPANIC', 'Luke', '17', '91'], ['2014', 'MALE', 'HISPANIC', 'Maddox', '10', '98'], ['2014', 'MALE', 'HISPANIC', 'Manuel', '25', '83'], ['2014', 'MALE', 'HISPANIC', 'Marcelo', '12', '96'], ['2014', 'MALE', 'HISPANIC', 'Marco', '20', '88'], ['2014', 'MALE', 'HISPANIC', 'Marcos', '14', '94'], ['2014', 'MALE', 'HISPANIC', 'Marcus', '19', '89'], ['2014', 'MALE', 'HISPANIC', 'Mario', '19', '89'], ['2014', 'MALE', 'HISPANIC', 'Mark', '13', '95'], ['2014', 'MALE', 'HISPANIC', 'Marlon', '11', '97'], ['2014', 'MALE', 'HISPANIC', 'Martin', '20', '88'], ['2014', 'MALE', 'HISPANIC', 'Marvin', '10', '98'], ['2014', 'MALE', 'HISPANIC', 'Mason', '184', '12'], ['2014', 'MALE', 'HISPANIC', 'Mateo', '66', '49'], ['2014', 'MALE', 'HISPANIC', 'Mathew', '18', '90'], ['2014', 'MALE', 'HISPANIC', 'Mathias', '16', '92'], ['2014', 'MALE', 'HISPANIC', 'Matias', '32', '76'], ['2014', 'MALE', 'HISPANIC', 'Matteo', '17', '91'], ['2014', 'MALE', 'HISPANIC', 'Matthew', '257', '6'], ['2014', 'MALE', 'HISPANIC', 'Max', '13', '95'], ['2014', 'MALE', 'HISPANIC', 'Maximilian', '11', '97'], ['2014', 'MALE', 'HISPANIC', 'Maximiliano', '14', '94'], ['2014', 'MALE', 'HISPANIC', 'Maximus', '28', '80'], ['2014', 'MALE', 'HISPANIC', 'Maxwell', '16', '92'], ['2014', 'MALE', 'HISPANIC', 'Melvin', '11', '97'], ['2014', 'MALE', 'HISPANIC', 'Messiah', '17', '91'], ['2014', 'MALE', 'HISPANIC', 'Michael', '174', '13'], ['2014', 'MALE', 'HISPANIC', 'Miguel', '64', '50'], ['2014', 'MALE', 'HISPANIC', 'Mike', '11', '97'], ['2014', 'MALE', 'HISPANIC', 'Milan', '32', '76'], ['2014', 'MALE', 'HISPANIC', 'Miles', '13', '95'], ['2014', 'MALE', 'HISPANIC', 'Misael', '10', '98'], ['2014', 'MALE', 'HISPANIC', 'Moises', '10', '98'], ['2014', 'MALE', 'HISPANIC', 'Myles', '11', '97'], ['2014', 'MALE', 'HISPANIC', 'Nathan', '79', '42'], ['2014', 'MALE', 'HISPANIC', 'Nathaniel', '53', '57'], ['2014', 'MALE', 'HISPANIC', 'Nelson', '12', '96'], ['2014', 'MALE', 'HISPANIC', 'Neymar', '19', '89'], ['2014', 'MALE', 'HISPANIC', 'Nicholas', '103', '31'], ['2014', 'MALE', 'HISPANIC', 'Nicolas', '49', '60'], ['2014', 'MALE', 'HISPANIC', 'Noah', '282', '3'], ['2014', 'MALE', 'HISPANIC', 'Noel', '31', '77'], ['2014', 'MALE', 'HISPANIC', 'Oliver', '45', '63'], ['2014', 'MALE', 'HISPANIC', 'Omar', '23', '85'], ['2014', 'MALE', 'HISPANIC', 'Orlando', '10', '98'], ['2014', 'MALE', 'HISPANIC', 'Oscar', '26', '82'], ['2014', 'MALE', 'HISPANIC', 'Owen', '11', '97'], ['2014', 'MALE', 'HISPANIC', 'Pablo', '16', '92'], ['2014', 'MALE', 'HISPANIC', 'Pedro', '12', '96'], ['2014', 'MALE', 'HISPANIC', 'Peter', '17', '91'], ['2014', 'MALE', 'HISPANIC', 'Prince', '19', '89'], ['2014', 'MALE', 'HISPANIC', 'Rafael', '20', '88'], ['2014', 'MALE', 'HISPANIC', 'Randy', '12', '96'], ['2014', 'MALE', 'HISPANIC', 'Raymond', '17', '91'], ['2014', 'MALE', 'HISPANIC', 'Ricardo', '22', '86'], ['2014', 'MALE', 'HISPANIC', 'Richard', '27', '81'], ['2014', 'MALE', 'HISPANIC', 'Riley', '23', '85'], ['2014', 'MALE', 'HISPANIC', 'Robert', '30', '78'], ['2014', 'MALE', 'HISPANIC', 'Roberto', '22', '86'], ['2014', 'MALE', 'HISPANIC', 'Rodrigo', '12', '96'], ['2014', 'MALE', 'HISPANIC', 'Romeo', '14', '94'], ['2014', 'MALE', 'HISPANIC', 'Ruben', '11', '97'], ['2014', 'MALE', 'HISPANIC', 'Ryan', '102', '32'], ['2014', 'MALE', 'HISPANIC', 'Samuel', '78', '43'], ['2014', 'MALE', 'HISPANIC', 'Santiago', '59', '54'], ['2014', 'MALE', 'HISPANIC', 'Saul', '16', '92'], ['2014', 'MALE', 'HISPANIC', 'Sean', '10', '98'], ['2014', 'MALE', 'HISPANIC', 'Sebastian', '241', '7'], ['2014', 'MALE', 'HISPANIC', 'Sergio', '16', '92'], ['2014', 'MALE', 'HISPANIC', 'Skyler', '11', '97'], ['2014', 'MALE', 'HISPANIC', 'Stephen', '11', '97'], ['2014', 'MALE', 'HISPANIC', 'Steve', '12', '96'], ['2014', 'MALE', 'HISPANIC', 'Steven', '74', '45'], ['2014', 'MALE', 'HISPANIC', 'Theodore', '11', '97'], ['2014', 'MALE', 'HISPANIC', 'Thiago', '37', '71'], ['2014', 'MALE', 'HISPANIC', 'Thomas', '30', '78'], ['2014', 'MALE', 'HISPANIC', 'Timothy', '16', '92'], ['2014', 'MALE', 'HISPANIC', 'Tristan', '35', '73'], ['2014', 'MALE', 'HISPANIC', 'Tyler', '40', '68'], ['2014', 'MALE', 'HISPANIC', 'Uriel', '11', '97'], ['2014', 'MALE', 'HISPANIC', 'Victor', '52', '58'], ['2014', 'MALE', 'HISPANIC', 'Vincent', '21', '87'], ['2014', 'MALE', 'HISPANIC', 'Walter', '10', '98'], ['2014', 'MALE', 'HISPANIC', 'William', '59', '54'], ['2014', 'MALE', 'HISPANIC', 'Xavier', '83', '41'], ['2014', 'MALE', 'HISPANIC', 'Yadiel', '15', '93'], ['2014', 'MALE', 'HISPANIC', 'Yahir', '15', '93'], ['2014', 'MALE', 'HISPANIC', 'Yandel', '15', '93'], ['2014', 'MALE', 'HISPANIC', 'Yariel', '12', '96'], ['2014', 'MALE', 'HISPANIC', 'Zachary', '27', '81'], ['2014', 'MALE', 'HISPANIC', 'Zayden', '13', '95'], ['2014', 'MALE', 'WHITE NON HISPANIC', 'Aaron', '90', '39'], ['2014', 'MALE', 'WHITE NON HISPANIC', 'Abraham', '172', '15'], ['2014', 'MALE', 'WHITE NON HISPANIC', 'Adam', '191', '12'], ['2014', 'MALE', 'WHITE NON HISPANIC', 'Adrian', '42', '71'], ['2014', 'MALE', 'WHITE NON HISPANIC', 'Aharon', '21', '91'], ['2014', 'MALE', 'WHITE NON HISPANIC', 'Ahmad', '15', '97'], ['2014', 'MALE', 'WHITE NON HISPANIC', 'Ahmed', '32', '80'], ['2014', 'MALE', 'WHITE NON HISPANIC', 'Aidan', '32', '80'], ['2014', 'MALE', 'WHITE NON HISPANIC', 'Aiden', '78', '45'], ['2014', 'MALE', 'WHITE NON HISPANIC', 'Akiva', '22', '90'], ['2014', 'MALE', 'WHITE NON HISPANIC', 'Alan', '12', '100'], ['2014', 'MALE', 'WHITE NON HISPANIC', 'Albert', '17', '95'], ['2014', 'MALE', 'WHITE NON HISPANIC', 'Alex', '27', '85'], ['2014', 'MALE', 'WHITE NON HISPANIC', 'Alexander', '225', '7'], ['2014', 'MALE', 'WHITE NON HISPANIC', 'Ali', '54', '60'], ['2014', 'MALE', 'WHITE NON HISPANIC', 'Amir', '27', '85'], ['2014', 'MALE', 'WHITE NON HISPANIC', 'Andrew', '91', '38'], ['2014', 'MALE', 'WHITE NON HISPANIC', 'Angelo', '12', '100'], ['2014', 'MALE', 'WHITE NON HISPANIC', 'Anthony', '110', '29'], ['2014', 'MALE', 'WHITE NON HISPANIC', 'Anton', '11', '101'], ['2014', 'MALE', 'WHITE NON HISPANIC', 'Antonio', '21', '91'], ['2014', 'MALE', 'WHITE NON HISPANIC', 'Archer', '12', '100'], ['2014', 'MALE', 'WHITE NON HISPANIC', 'Ari', '42', '71'], ['2014', 'MALE', 'WHITE NON HISPANIC', 'Ariel', '24', '88'], ['2014', 'MALE', 'WHITE NON HISPANIC', 'Arlo', '16', '96'], ['2014', 'MALE', 'WHITE NON HISPANIC', 'Aron', '62', '54'], ['2014', 'MALE', 'WHITE NON HISPANIC', 'Arthur', '25', '87'], ['2014', 'MALE', 'WHITE NON HISPANIC', 'Aryeh', '22', '90'], ['2014', 'MALE', 'WHITE NON HISPANIC', 'Asher', '72', '48'], ['2014', 'MALE', 'WHITE NON HISPANIC', 'Ashton', '12', '100'], ['2014', 'MALE', 'WHITE NON HISPANIC', 'August', '28', '84'], ['2014', 'MALE', 'WHITE NON HISPANIC', 'Austin', '40', '72'], ['2014', 'MALE', 'WHITE NON HISPANIC', 'Avi', '11', '101'], ['2014', 'MALE', 'WHITE NON HISPANIC', 'Avraham', '55', '59'], ['2014', 'MALE', 'WHITE NON HISPANIC', 'Avrohom', '27', '85'], ['2014', 'MALE', 'WHITE NON HISPANIC', 'Avrum', '12', '100'], ['2014', 'MALE', 'WHITE NON HISPANIC', 'Axel', '12', '100'], ['2014', 'MALE', 'WHITE NON HISPANIC', 'Ayden', '12', '100'], ['2014', 'MALE', 'WHITE NON HISPANIC', 'Aydin', '11', '101'], ['2014', 'MALE', 'WHITE NON HISPANIC', 'Baruch', '16', '96'], ['2014', 'MALE', 'WHITE NON HISPANIC', 'Beckett', '13', '99'], ['2014', 'MALE', 'WHITE NON HISPANIC', 'Ben', '13', '99'], ['2014', 'MALE', 'WHITE NON HISPANIC', 'Benjamin', '233', '6'], ['2014', 'MALE', 'WHITE NON HISPANIC', 'Bennett', '20', '92'], ['2014', 'MALE', 'WHITE NON HISPANIC', 'Benzion', '18', '94'], ['2014', 'MALE', 'WHITE NON HISPANIC', 'Berish', '10', '102'], ['2014', 'MALE', 'WHITE NON HISPANIC', 'Berl', '12', '100'], ['2014', 'MALE', 'WHITE NON HISPANIC', 'Binyamin', '11', '101'], ['2014', 'MALE', 'WHITE NON HISPANIC', 'Binyomin', '11', '101'], ['2014', 'MALE', 'WHITE NON HISPANIC', 'Blake', '18', '94'], ['2014', 'MALE', 'WHITE NON HISPANIC', 'Boruch', '12', '100'], ['2014', 'MALE', 'WHITE NON HISPANIC', 'Brady', '13', '99'], ['2014', 'MALE', 'WHITE NON HISPANIC', 'Brandon', '33', '79'], ['2014', 'MALE', 'WHITE NON HISPANIC', 'Brayden', '13', '99'], ['2014', 'MALE', 'WHITE NON HISPANIC', 'Brendan', '12', '100'], ['2014', 'MALE', 'WHITE NON HISPANIC', 'Brian', '18', '94'], ['2014', 'MALE', 'WHITE NON HISPANIC', 'Brody', '20', '92'], ['2014', 'MALE', 'WHITE NON HISPANIC', 'Brooks', '12', '100'], ['2014', 'MALE', 'WHITE NON HISPANIC', 'Caleb', '28', '84'], ['2014', 'MALE', 'WHITE NON HISPANIC', 'Calvin', '14', '98'], ['2014', 'MALE', 'WHITE NON HISPANIC', 'Cameron', '24', '88'], ['2014', 'MALE', 'WHITE NON HISPANIC', 'Carter', '27', '85'], ['2014', 'MALE', 'WHITE NON HISPANIC', 'Chaim', '130', '23'], ['2014', 'MALE', 'WHITE NON HISPANIC', 'Charles', '131', '22'], ['2014', 'MALE', 'WHITE NON HISPANIC', 'Charlie', '16', '96'], ['2014', 'MALE', 'WHITE NON HISPANIC', 'Chase', '43', '70'], ['2014', 'MALE', 'WHITE NON HISPANIC', 'Cheskel', '15', '97'], ['2014', 'MALE', 'WHITE NON HISPANIC', 'Christian', '64', '53'], ['2014', 'MALE', 'WHITE NON HISPANIC', 'Christopher', '76', '46'], ['2014', 'MALE', 'WHITE NON HISPANIC', 'Cole', '31', '81'], ['2014', 'MALE', 'WHITE NON HISPANIC', 'Colin', '36', '76'], ['2014', 'MALE', 'WHITE NON HISPANIC', 'Connor', '43', '70'], ['2014', 'MALE', 'WHITE NON HISPANIC', 'Conor', '19', '93'], ['2014', 'MALE', 'WHITE NON HISPANIC', 'Cooper', '40', '72'], ['2014', 'MALE', 'WHITE NON HISPANIC', 'Cormac', '11', '101'], ['2014', 'MALE', 'WHITE NON HISPANIC', 'Damian', '14', '98'], ['2014', 'MALE', 'WHITE NON HISPANIC', 'Daniel', '223', '8'], ['2014', 'MALE', 'WHITE NON HISPANIC', 'Dante', '11', '101'], ['2014', 'MALE', 'WHITE NON HISPANIC', 'Dashiell', '10', '102'], ['2014', 'MALE', 'WHITE NON HISPANIC', 'David', '272', '2'], ['2014', 'MALE', 'WHITE NON HISPANIC', 'Dean', '19', '93'], ['2014', 'MALE', 'WHITE NON HISPANIC', 'Declan', '43', '70'], ['2014', 'MALE', 'WHITE NON HISPANIC', 'Denis', '10', '102'], ['2014', 'MALE', 'WHITE NON HISPANIC', 'Derek', '14', '98'], ['2014', 'MALE', 'WHITE NON HISPANIC', 'Devin', '13', '99'], ['2014', 'MALE', 'WHITE NON HISPANIC', 'Dominic', '27', '85'], ['2014', 'MALE', 'WHITE NON HISPANIC', 'Dominick', '14', '98'], ['2014', 'MALE', 'WHITE NON HISPANIC', 'Dov', '38', '74'], ['2014', 'MALE', 'WHITE NON HISPANIC', 'Dovid', '26', '86'], ['2014', 'MALE', 'WHITE NON HISPANIC', 'Drew', '12', '100'], ['2014', 'MALE', 'WHITE NON HISPANIC', 'Duvid', '16', '96'], ['2014', 'MALE', 'WHITE NON HISPANIC', 'Dylan', '94', '36'], ['2014', 'MALE', 'WHITE NON HISPANIC', 'Edward', '40', '72'], ['2014', 'MALE', 'WHITE NON HISPANIC', 'Efraim', '13', '99'], ['2014', 'MALE', 'WHITE NON HISPANIC', 'Eitan', '13', '99'], ['2014', 'MALE', 'WHITE NON HISPANIC', 'Eli', '103', '33'], ['2014', 'MALE', 'WHITE NON HISPANIC', 'Elias', '32', '80'], ['2014', 'MALE', 'WHITE NON HISPANIC', 'Eliezer', '52', '62'], ['2014', 'MALE', 'WHITE NON HISPANIC', 'Elijah', '28', '84'], ['2014', 'MALE', 'WHITE NON HISPANIC', 'Elimelech', '16', '96'], ['2014', 'MALE', 'WHITE NON HISPANIC', 'Eliyahu', '25', '87'], ['2014', 'MALE', 'WHITE NON HISPANIC', 'Elliot', '33', '79'], ['2014', 'MALE', 'WHITE NON HISPANIC', 'Elliott', '12', '100'], ['2014', 'MALE', 'WHITE NON HISPANIC', 'Ellis', '12', '100'], ['2014', 'MALE', 'WHITE NON HISPANIC', 'Emmett', '12', '100'], ['2014', 'MALE', 'WHITE NON HISPANIC', 'Eric', '29', '83'], ['2014', 'MALE', 'WHITE NON HISPANIC', 'Erik', '10', '102'], ['2014', 'MALE', 'WHITE NON HISPANIC', 'Ethan', '149', '18'], ['2014', 'MALE', 'WHITE NON HISPANIC', 'Evan', '58', '56'], ['2014', 'MALE', 'WHITE NON HISPANIC', 'Everett', '16', '96'], ['2014', 'MALE', 'WHITE NON HISPANIC', 'Ezra', '45', '68'], ['2014', 'MALE', 'WHITE NON HISPANIC', 'Felix', '32', '80'], ['2014', 'MALE', 'WHITE NON HISPANIC', 'Filip', '11', '101'], ['2014', 'MALE', 'WHITE NON HISPANIC', 'Finn', '21', '91'], ['2014', 'MALE', 'WHITE NON HISPANIC', 'Francesco', '15', '97'], ['2014', 'MALE', 'WHITE NON HISPANIC', 'Francis', '13', '99'], ['2014', 'MALE', 'WHITE NON HISPANIC', 'Frank', '14', '98'], ['2014', 'MALE', 'WHITE NON HISPANIC', 'Frederick', '16', '96'], ['2014', 'MALE', 'WHITE NON HISPANIC', 'Gabriel', '105', '32'], ['2014', 'MALE', 'WHITE NON HISPANIC', 'Gavin', '50', '64'], ['2014', 'MALE', 'WHITE NON HISPANIC', 'Gavriel', '17', '95'], ['2014', 'MALE', 'WHITE NON HISPANIC', 'George', '65', '52'], ['2014', 'MALE', 'WHITE NON HISPANIC', 'Giovanni', '32', '80'], ['2014', 'MALE', 'WHITE NON HISPANIC', 'Giuseppe', '10', '102'], ['2014', 'MALE', 'WHITE NON HISPANIC', 'Graham', '27', '85'], ['2014', 'MALE', 'WHITE NON HISPANIC', 'Grant', '11', '101'], ['2014', 'MALE', 'WHITE NON HISPANIC', 'Grayson', '30', '82'], ['2014', 'MALE', 'WHITE NON HISPANIC', 'Gregory', '15', '97'], ['2014', 'MALE', 'WHITE NON HISPANIC', 'Greyson', '14', '98'], ['2014', 'MALE', 'WHITE NON HISPANIC', 'Griffin', '16', '96'], ['2014', 'MALE', 'WHITE NON HISPANIC', 'Hamza', '16', '96'], ['2014', 'MALE', 'WHITE NON HISPANIC', 'Harrison', '44', '69'], ['2014', 'MALE', 'WHITE NON HISPANIC', 'Harry', '12', '100'], ['2014', 'MALE', 'WHITE NON HISPANIC', 'Hayden', '10', '102'], ['2014', 'MALE', 'WHITE NON HISPANIC', 'Henry', '176', '14'], ['2014', 'MALE', 'WHITE NON HISPANIC', 'Hersh', '22', '90'], ['2014', 'MALE', 'WHITE NON HISPANIC', 'Hershel', '18', '94'], ['2014', 'MALE', 'WHITE NON HISPANIC', 'Hershy', '21', '91'], ['2014', 'MALE', 'WHITE NON HISPANIC', 'Hillel', '12', '100'], ['2014', 'MALE', 'WHITE NON HISPANIC', 'Hudson', '58', '56'], ['2014', 'MALE', 'WHITE NON HISPANIC', 'Hugo', '22', '90'], ['2014', 'MALE', 'WHITE NON HISPANIC', 'Hunter', '44', '69'], ['2014', 'MALE', 'WHITE NON HISPANIC', 'Ian', '30', '82'], ['2014', 'MALE', 'WHITE NON HISPANIC', 'Ibrahim', '18', '94'], ['2014', 'MALE', 'WHITE NON HISPANIC', 'Imran', '10', '102'], ['2014', 'MALE', 'WHITE NON HISPANIC', 'Isaac', '125', '25'], ['2014', 'MALE', 'WHITE NON HISPANIC', 'Israel', '35', '77'], ['2014', 'MALE', 'WHITE NON HISPANIC', 'Issac', '10', '102'], ['2014', 'MALE', 'WHITE NON HISPANIC', 'Ivan', '15', '97'], ['2014', 'MALE', 'WHITE NON HISPANIC', 'Jace', '13', '99'], ['2014', 'MALE', 'WHITE NON HISPANIC', 'Jack', '199', '10'], ['2014', 'MALE', 'WHITE NON HISPANIC', 'Jackson', '85', '42'], ['2014', 'MALE', 'WHITE NON HISPANIC', 'Jacob', '256', '5'], ['2014', 'MALE', 'WHITE NON HISPANIC', 'Jake', '46', '67'], ['2014', 'MALE', 'WHITE NON HISPANIC', 'Jakub', '11', '101'], ['2014', 'MALE', 'WHITE NON HISPANIC', 'James', '195', '11'], ['2014', 'MALE', 'WHITE NON HISPANIC', 'Jason', '49', '65'], ['2014', 'MALE', 'WHITE NON HISPANIC', 'Jasper', '24', '88'], ['2014', 'MALE', 'WHITE NON HISPANIC', 'Jax', '11', '101'], ['2014', 'MALE', 'WHITE NON HISPANIC', 'Jaxon', '14', '98'], ['2014', 'MALE', 'WHITE NON HISPANIC', 'Jaxson', '13', '99'], ['2014', 'MALE', 'WHITE NON HISPANIC', 'Jayden', '35', '77'], ['2014', 'MALE', 'WHITE NON HISPANIC', 'Jeremy', '13', '99'], ['2014', 'MALE', 'WHITE NON HISPANIC', 'Jesse', '14', '98'], ['2014', 'MALE', 'WHITE NON HISPANIC', 'Joel', '31', '81'], ['2014', 'MALE', 'WHITE NON HISPANIC', 'John', '158', '17'], ['2014', 'MALE', 'WHITE NON HISPANIC', 'Jonah', '45', '68'], ['2014', 'MALE', 'WHITE NON HISPANIC', 'Jonathan', '75', '47'], ['2014', 'MALE', 'WHITE NON HISPANIC', 'Jordan', '34', '78'], ['2014', 'MALE', 'WHITE NON HISPANIC', 'Joseph', '300', '1'], ['2014', 'MALE', 'WHITE NON HISPANIC', 'Joshua', '68', '49'], ['2014', 'MALE', 'WHITE NON HISPANIC', 'Judah', '15', '97'], ['2014', 'MALE', 'WHITE NON HISPANIC', 'Jude', '25', '87'], ['2014', 'MALE', 'WHITE NON HISPANIC', 'Julian', '87', '40'], ['2014', 'MALE', 'WHITE NON HISPANIC', 'Justin', '24', '88'], ['2014', 'MALE', 'WHITE NON HISPANIC', 'Kai', '23', '89'], ['2014', 'MALE', 'WHITE NON HISPANIC', 'Karas', '10', '102'], ['2014', 'MALE', 'WHITE NON HISPANIC', 'Kareem', '12', '100'], ['2014', 'MALE', 'WHITE NON HISPANIC', 'Kevin', '17', '95'], ['2014', 'MALE', 'WHITE NON HISPANIC', 'Kieran', '14', '98'], ['2014', 'MALE', 'WHITE NON HISPANIC', 'Kyle', '12', '100'], ['2014', 'MALE', 'WHITE NON HISPANIC', 'Landon', '23', '89'], ['2014', 'MALE', 'WHITE NON HISPANIC', 'Lazer', '26', '86'], ['2014', 'MALE', 'WHITE NON HISPANIC', 'Leibish', '12', '100'], ['2014', 'MALE', 'WHITE NON HISPANIC', 'Leo', '108', '31'], ['2014', 'MALE', 'WHITE NON HISPANIC', 'Leon', '32', '80'], ['2014', 'MALE', 'WHITE NON HISPANIC', 'Leonardo', '36', '76'], ['2014', 'MALE', 'WHITE NON HISPANIC', 'Lev', '18', '94'], ['2014', 'MALE', 'WHITE NON HISPANIC', 'Levi', '58', '56'], ['2014', 'MALE', 'WHITE NON HISPANIC', 'Liam', '139', '19'], ['2014', 'MALE', 'WHITE NON HISPANIC', 'Lincoln', '11', '101'], ['2014', 'MALE', 'WHITE NON HISPANIC', 'Lipa', '39', '73'], ['2014', 'MALE', 'WHITE NON HISPANIC', 'Logan', '68', '49'], ['2014', 'MALE', 'WHITE NON HISPANIC', 'Lorenzo', '20', '92'], ['2014', 'MALE', 'WHITE NON HISPANIC', 'Louis', '18', '94'], ['2014', 'MALE', 'WHITE NON HISPANIC', 'Luca', '94', '36'], ['2014', 'MALE', 'WHITE NON HISPANIC', 'Lucas', '121', '26'], ['2014', 'MALE', 'WHITE NON HISPANIC', 'Lucien', '10', '102'], ['2014', 'MALE', 'WHITE NON HISPANIC', 'Luka', '24', '88'], ['2014', 'MALE', 'WHITE NON HISPANIC', 'Lukas', '27', '85'], ['2014', 'MALE', 'WHITE NON HISPANIC', 'Luke', '99', '35'], ['2014', 'MALE', 'WHITE NON HISPANIC', 'Marc', '13', '99'], ['2014', 'MALE', 'WHITE NON HISPANIC', 'Marcel', '10', '102'], ['2014', 'MALE', 'WHITE NON HISPANIC', 'Marco', '15', '97'], ['2014', 'MALE', 'WHITE NON HISPANIC', 'Marcus', '20', '92'], ['2014', 'MALE', 'WHITE NON HISPANIC', 'Mark', '61', '55'], ['2014', 'MALE', 'WHITE NON HISPANIC', 'Martin', '26', '86'], ['2014', 'MALE', 'WHITE NON HISPANIC', 'Mason', '94', '36'], ['2014', 'MALE', 'WHITE NON HISPANIC', 'Mateo', '21', '91'], ['2014', 'MALE', 'WHITE NON HISPANIC', 'Matteo', '22', '90'], ['2014', 'MALE', 'WHITE NON HISPANIC', 'Matthew', '131', '22'], ['2014', 'MALE', 'WHITE NON HISPANIC', 'Max', '108', '31'], ['2014', 'MALE', 'WHITE NON HISPANIC', 'Maxim', '26', '86'], ['2014', 'MALE', 'WHITE NON HISPANIC', 'Maximilian', '20', '92'], ['2014', 'MALE', 'WHITE NON HISPANIC', 'Maximus', '16', '96'], ['2014', 'MALE', 'WHITE NON HISPANIC', 'Maxwell', '45', '68'], ['2014', 'MALE', 'WHITE NON HISPANIC', 'Mayer', '29', '83'], ['2014', 'MALE', 'WHITE NON HISPANIC', 'Meilech', '12', '100'], ['2014', 'MALE', 'WHITE NON HISPANIC', 'Meir', '66', '51'], ['2014', 'MALE', 'WHITE NON HISPANIC', 'Menachem', '118', '27'], ['2014', 'MALE', 'WHITE NON HISPANIC', 'Menashe', '12', '100'], ['2014', 'MALE', 'WHITE NON HISPANIC', 'Mendel', '38', '74'], ['2014', 'MALE', 'WHITE NON HISPANIC', 'Mendy', '13', '99'], ['2014', 'MALE', 'WHITE NON HISPANIC', 'Micah', '16', '96'], ['2014', 'MALE', 'WHITE NON HISPANIC', 'Michael', '268', '3'], ['2014', 'MALE', 'WHITE NON HISPANIC', 'Milan', '12', '100'], ['2014', 'MALE', 'WHITE NON HISPANIC', 'Miles', '56', '58'], ['2014', 'MALE', 'WHITE NON HISPANIC', 'Milo', '28', '84'], ['2014', 'MALE', 'WHITE NON HISPANIC', 'Mohamed', '49', '65'], ['2014', 'MALE', 'WHITE NON HISPANIC', 'Mohammed', '22', '90'], ['2014', 'MALE', 'WHITE NON HISPANIC', 'Moishe', '21', '91'], ['2014', 'MALE', 'WHITE NON HISPANIC', 'Mordche', '10', '102'], ['2014', 'MALE', 'WHITE NON HISPANIC', 'Mordechai', '92', '37'], ['2014', 'MALE', 'WHITE NON HISPANIC', 'Morris', '13', '99'], ['2014', 'MALE', 'WHITE NON HISPANIC', 'Moses', '26', '86'], ['2014', 'MALE', 'WHITE NON HISPANIC', 'Moshe', '267', '4'], ['2014', 'MALE', 'WHITE NON HISPANIC', 'Muhammad', '16', '96'], ['2014', 'MALE', 'WHITE NON HISPANIC', 'Myles', '10', '102'], ['2014', 'MALE', 'WHITE NON HISPANIC', 'Naftali', '22', '90'], ['2014', 'MALE', 'WHITE NON HISPANIC', 'Naftuli', '17', '95'], ['2014', 'MALE', 'WHITE NON HISPANIC', 'Nathan', '82', '44'], ['2014', 'MALE', 'WHITE NON HISPANIC', 'Nathaniel', '47', '66'], ['2014', 'MALE', 'WHITE NON HISPANIC', 'Nicholas', '166', '16'], ['2014', 'MALE', 'WHITE NON HISPANIC', 'Nico', '10', '102'], ['2014', 'MALE', 'WHITE NON HISPANIC', 'Nicolas', '32', '80'], ['2014', 'MALE', 'WHITE NON HISPANIC', 'Nikita', '11', '101'], ['2014', 'MALE', 'WHITE NON HISPANIC', 'Noah', '137', '21'], ['2014', 'MALE', 'WHITE NON HISPANIC', 'Noam', '23', '89'], ['2014', 'MALE', 'WHITE NON HISPANIC', 'Nolan', '20', '92'], ['2014', 'MALE', 'WHITE NON HISPANIC', 'Nosson', '11', '101'], ['2014', 'MALE', 'WHITE NON HISPANIC', 'Oliver', '109', '30'], ['2014', 'MALE', 'WHITE NON HISPANIC', 'Omar', '49', '65'], ['2014', 'MALE', 'WHITE NON HISPANIC', 'Oscar', '38', '74'], ['2014', 'MALE', 'WHITE NON HISPANIC', 'Owen', '87', '40'], ['2014', 'MALE', 'WHITE NON HISPANIC', 'Parker', '27', '85'], ['2014', 'MALE', 'WHITE NON HISPANIC', 'Patrick', '49', '65'], ['2014', 'MALE', 'WHITE NON HISPANIC', 'Paul', '25', '87'], ['2014', 'MALE', 'WHITE NON HISPANIC', 'Peter', '54', '60'], ['2014', 'MALE', 'WHITE NON HISPANIC', 'Philip', '28', '84'], ['2014', 'MALE', 'WHITE NON HISPANIC', 'Pinchas', '16', '96'], ['2014', 'MALE', 'WHITE NON HISPANIC', 'Pinchus', '11', '101'], ['2014', 'MALE', 'WHITE NON HISPANIC', 'Preston', '13', '99'], ['2014', 'MALE', 'WHITE NON HISPANIC', 'Quinn', '14', '98'], ['2014', 'MALE', 'WHITE NON HISPANIC', 'Rafael', '20', '92'], ['2014', 'MALE', 'WHITE NON HISPANIC', 'Raphael', '29', '83'], ['2014', 'MALE', 'WHITE NON HISPANIC', 'Rayan', '21', '91'], ['2014', 'MALE', 'WHITE NON HISPANIC', 'Raymond', '13', '99'], ['2014', 'MALE', 'WHITE NON HISPANIC', 'Reed', '11', '101'], ['2014', 'MALE', 'WHITE NON HISPANIC', 'Reid', '15', '97'], ['2014', 'MALE', 'WHITE NON HISPANIC', 'Reuben', '11', '101'], ['2014', 'MALE', 'WHITE NON HISPANIC', 'Rhys', '12', '100'], ['2014', 'MALE', 'WHITE NON HISPANIC', 'Richard', '20', '92'], ['2014', 'MALE', 'WHITE NON HISPANIC', 'Riley', '11', '101'], ['2014', 'MALE', 'WHITE NON HISPANIC', 'Robert', '67', '50'], ['2014', 'MALE', 'WHITE NON HISPANIC', 'Rocco', '15', '97'], ['2014', 'MALE', 'WHITE NON HISPANIC', 'Roman', '35', '77'], ['2014', 'MALE', 'WHITE NON HISPANIC', 'Ronan', '21', '91'], ['2014', 'MALE', 'WHITE NON HISPANIC', 'Rory', '11', '101'], ['2014', 'MALE', 'WHITE NON HISPANIC', 'Rowan', '15', '97'], ['2014', 'MALE', 'WHITE NON HISPANIC', 'Ryan', '138', '20'], ['2014', 'MALE', 'WHITE NON HISPANIC', 'Ryder', '12', '100'], ['2014', 'MALE', 'WHITE NON HISPANIC', 'Salvatore', '20', '92'], ['2014', 'MALE', 'WHITE NON HISPANIC', 'Sam', '32', '80'], ['2014', 'MALE', 'WHITE NON HISPANIC', 'Samir', '13', '99'], ['2014', 'MALE', 'WHITE NON HISPANIC', 'Samuel', '206', '9'], ['2014', 'MALE', 'WHITE NON HISPANIC', 'Santino', '14', '98'], ['2014', 'MALE', 'WHITE NON HISPANIC', 'Sawyer', '27', '85'], ['2014', 'MALE', 'WHITE NON HISPANIC', 'Sean', '53', '61'], ['2014', 'MALE', 'WHITE NON HISPANIC', 'Sebastian', '100', '34'], ['2014', 'MALE', 'WHITE NON HISPANIC', 'Shalom', '14', '98'], ['2014', 'MALE', 'WHITE NON HISPANIC', 'Shane', '19', '93'], ['2014', 'MALE', 'WHITE NON HISPANIC', 'Shaya', '31', '81'], ['2014', 'MALE', 'WHITE NON HISPANIC', 'Shea', '13', '99'], ['2014', 'MALE', 'WHITE NON HISPANIC', 'Shia', '37', '75'], ['2014', 'MALE', 'WHITE NON HISPANIC', 'Shimon', '100', '34'], ['2014', 'MALE', 'WHITE NON HISPANIC', 'Shloime', '11', '101'], ['2014', 'MALE', 'WHITE NON HISPANIC', 'Shloimy', '16', '96'], ['2014', 'MALE', 'WHITE NON HISPANIC', 'Shlome', '19', '93'], ['2014', 'MALE', 'WHITE NON HISPANIC', 'Shlomo', '55', '59'], ['2014', 'MALE', 'WHITE NON HISPANIC', 'Shmiel', '19', '93'], ['2014', 'MALE', 'WHITE NON HISPANIC', 'Shmuel', '57', '57'], ['2014', 'MALE', 'WHITE NON HISPANIC', 'Sholom', '16', '96'], ['2014', 'MALE', 'WHITE NON HISPANIC', 'Shraga', '10', '102'], ['2014', 'MALE', 'WHITE NON HISPANIC', 'Shulem', '45', '68'], ['2014', 'MALE', 'WHITE NON HISPANIC', 'Silas', '11', '101'], ['2014', 'MALE', 'WHITE NON HISPANIC', 'Simcha', '23', '89'], ['2014', 'MALE', 'WHITE NON HISPANIC', 'Simon', '49', '65'], ['2014', 'MALE', 'WHITE NON HISPANIC', 'Solomon', '51', '63'], ['2014', 'MALE', 'WHITE NON HISPANIC', 'Spencer', '18', '94'], ['2014', 'MALE', 'WHITE NON HISPANIC', 'Stephen', '18', '94'], ['2014', 'MALE', 'WHITE NON HISPANIC', 'Steven', '27', '85'], ['2014', 'MALE', 'WHITE NON HISPANIC', 'Theo', '12', '100'], ['2014', 'MALE', 'WHITE NON HISPANIC', 'Theodore', '126', '24'], ['2014', 'MALE', 'WHITE NON HISPANIC', 'Thomas', '118', '27'], ['2014', 'MALE', 'WHITE NON HISPANIC', 'Timothy', '27', '85'], ['2014', 'MALE', 'WHITE NON HISPANIC', 'Tristan', '26', '86'], ['2014', 'MALE', 'WHITE NON HISPANIC', 'Tyler', '34', '78'], ['2014', 'MALE', 'WHITE NON HISPANIC', 'Tzvi', '49', '65'], ['2014', 'MALE', 'WHITE NON HISPANIC', 'Usher', '20', '92'], ['2014', 'MALE', 'WHITE NON HISPANIC', 'Victor', '35', '77'], ['2014', 'MALE', 'WHITE NON HISPANIC', 'Vincent', '43', '70'], ['2014', 'MALE', 'WHITE NON HISPANIC', 'Vincenzo', '11', '101'], ['2014', 'MALE', 'WHITE NON HISPANIC', 'Wesley', '11', '101'], ['2014', 'MALE', 'WHITE NON HISPANIC', 'Weston', '11', '101'], ['2014', 'MALE', 'WHITE NON HISPANIC', 'William', '183', '13'], ['2014', 'MALE', 'WHITE NON HISPANIC', 'Winston', '11', '101'], ['2014', 'MALE', 'WHITE NON HISPANIC', 'Wolf', '12', '100'], ['2014', 'MALE', 'WHITE NON HISPANIC', 'Wyatt', '33', '79'], ['2014', 'MALE', 'WHITE NON HISPANIC', 'Xavier', '25', '87'], ['2014', 'MALE', 'WHITE NON HISPANIC', 'Yaakov', '46', '67'], ['2014', 'MALE', 'WHITE NON HISPANIC', 'Yahya', '11', '101'], ['2014', 'MALE', 'WHITE NON HISPANIC', 'Yakov', '45', '68'], ['2014', 'MALE', 'WHITE NON HISPANIC', 'Yaseen', '12', '100'], ['2014', 'MALE', 'WHITE NON HISPANIC', 'Yechiel', '39', '73'], ['2014', 'MALE', 'WHITE NON HISPANIC', 'Yehoshua', '26', '86'], ['2014', 'MALE', 'WHITE NON HISPANIC', 'Yehuda', '86', '41'], ['2014', 'MALE', 'WHITE NON HISPANIC', 'Yidel', '10', '102'], ['2014', 'MALE', 'WHITE NON HISPANIC', 'Yisrael', '14', '98'], ['2014', 'MALE', 'WHITE NON HISPANIC', 'Yisroel', '83', '43'], ['2014', 'MALE', 'WHITE NON HISPANIC', 'Yitzchak', '15', '97'], ['2014', 'MALE', 'WHITE NON HISPANIC', 'Yitzchok', '66', '51'], ['2014', 'MALE', 'WHITE NON HISPANIC', 'Yoel', '12', '100'], ['2014', 'MALE', 'WHITE NON HISPANIC', 'Yosef', '116', '28'], ['2014', 'MALE', 'WHITE NON HISPANIC', 'Yossi', '15', '97'], ['2014', 'MALE', 'WHITE NON HISPANIC', 'Yousef', '18', '94'], ['2014', 'MALE', 'WHITE NON HISPANIC', 'Youssef', '24', '88'], ['2014', 'MALE', 'WHITE NON HISPANIC', 'Yusuf', '16', '96'], ['2014', 'MALE', 'WHITE NON HISPANIC', 'Zachary', '90', '39'], ['2014', 'MALE', 'WHITE NON HISPANIC', 'Zev', '49', '65']]"
   ]
  },
  {
   "cell_type": "markdown",
   "metadata": {},
   "source": [
    "Implement the function <code><b>extract_first_names</b></code>, which takes as input list of <code><b>records</b></code> of people and returns a new list with the names of the people only. We know that the fourth element of each record is the name of the person. "
   ]
  },
  {
   "cell_type": "code",
   "execution_count": 3,
   "metadata": {},
   "outputs": [],
   "source": [
    "def extract_first_names(records):\n",
    "    \"\"\"\n",
    "    Return the list of baby names\n",
    "    \"\"\"\n",
    "    # name_list = []\n",
    "    # for record in records:\n",
    "    #     name_list.append(record[3])\n",
    "    # return name_list\n",
    "\n",
    "    return [record[3] for record in records]\n",
    "\n",
    "extract_first_names(records)"
   ]
  },
  {
   "cell_type": "markdown",
   "metadata": {},
   "source": [
    "Implement the function <code><b>last_n_sorted</b></code> which takes as input a list of <code><b>baby_names</b></code> and a number <code><b>n</b></code> then sorts the names alphabetically (in-place!) and and returns a list with the last *n* names. "
   ]
  },
  {
   "cell_type": "code",
   "execution_count": 4,
   "metadata": {},
   "outputs": [],
   "source": [
    "def last_n_sorted(baby_names, n):\n",
    "    \"\"\"\n",
    "    Return the last n names (sorted alphabetically in-place)\n",
    "    \"\"\"\n",
    "     \n",
    "    # Sort the names in alphabetical order (in-place)\n",
    "    baby_names.sort()\n",
    "    return baby_names[-n:] # for the first n sorted \n",
    "                           # return baby_names[:n]\n",
    "    "
   ]
  },
  {
   "cell_type": "markdown",
   "metadata": {},
   "source": [
    "Implement the function <code><b>difference_with_year</b></code>, which takes as input a set of names, (in the example <code><b>baby_names_2012</b></code>), the list of <code><b>records</b></code> (in the example, the one previosuly loaded), a particular <code><b>year</b></code>, and returns a set of names which are all the names given in a particular year that are not in the set of names. \n",
    "\n",
    "We know that the year is the first element of each record in records."
   ]
  },
  {
   "cell_type": "code",
   "execution_count": 5,
   "metadata": {},
   "outputs": [
    {
     "name": "stdout",
     "output_type": "stream",
     "text": [
      "[['2014', 'FEMALE', 'ASIAN AND PACIFIC ISLANDER', 'Aarya', '10', '40'], ['2014', 'FEMALE', 'ASIAN AND PACIFIC ISLANDER', 'Abby', '27', '23'], ['2014', 'FEMALE', 'ASIAN AND PACIFIC ISLANDER', 'Abigail', '31', '19']]\n"
     ]
    }
   ],
   "source": [
    "# First, you need to run the following line to load the records of the baby names of 2011\n",
    "print(records[:3])\n",
    "baby_names_2012 = {'Chelsea', 'Kristen', 'Sadie', 'Elliott', 'Winnie', 'Mia', 'Karen', 'Kimberly', 'Eliana', 'Katherine', 'Gitty', 'Tzvi', 'Angeline', 'Menucha', 'Cameron', 'Libby', 'Emanuel', 'Luna', 'Alexia', 'Cormac', 'Nicolas', 'Damon', 'Max', 'Linda', 'Joel', 'Jayla', 'Pablo', 'Skye', 'Wendy', 'Roy', 'Bennett', 'Montserrat', 'Ibrahim', 'Gregory', 'Samir', 'Madeline', 'Aria', 'Malaysia', 'Bianca', 'Preston', 'Cecelia', 'Edgar', 'Leora', 'Alpha', 'Livia', 'Chase', 'Reid', 'Anya', 'Mushka', 'Grayson', 'Adelina', 'Emmett', 'Emiliano', 'Yossi', 'Shiloh', 'Jack', 'Zane', 'Isabel', 'Michael', 'Jax', 'Milan', 'Frances', 'Jonah', 'Theo', 'Jana', 'Maria', 'Kate', 'Sergio', 'Nathaly', 'Miles', 'Jerry', 'Janelle', 'Phoebe', 'Richard', 'Dovid', 'Anastasia', 'Reed', 'Brianna', 'Pearl', 'Kingsley', 'Bracha', 'Gabrielle', 'Connor', 'Rose', 'Atara', 'Aminata', 'Jasiah', 'Brooke', 'Scarlett', 'Sophia', 'Golda', 'Erik', 'Ryder', 'Layla', 'Santino', 'Kimi', 'Elliot', 'Savannah', 'Shayna', 'Emilio', 'Albert', 'Dominic', 'Celeste', 'Vincent', 'Joseph', 'Eve', 'Jaxon', 'Malky', 'Greyson', 'Landon', 'Luis', 'Ariella', 'Jariel', 'Shaya', 'Gia', 'Mya', 'Ivy', 'Carmen', 'Harlow', 'Veronica', 'Calvin', 'Ryan', 'Jonas', 'Hamza', 'Maximilian', 'Maggie', 'Hawa', 'Arjun', 'Francesco', 'Berish', 'Johnny', 'Alison', 'Kelly', 'Gabriel', 'Jadiel', 'Yides', 'Justin', 'Imran', 'Mayer', 'Journee', 'Adriana', 'Julian', 'Jael', 'Esther', 'Spencer', 'Duvid', 'Dashiell', 'Donovan', 'Ricky', 'Elvis', 'Rayyan', 'Aarya', 'Peyton', 'Ruby', 'Jake', 'Marcus', 'Bradley', 'Shalom', 'Sherlyn', 'Baruch', 'Alexander', 'Danna', 'Yaretzi', 'Brucha', 'Rifky', 'Allan', 'Menachem', 'Chavy', 'Yitzchak', 'Phoenix', 'Daniela', 'Georgia', 'Aiden', 'Wesley', 'Arlo', 'Elimelech', 'Aaron', 'Autumn', 'Yisrael', 'Brooklyn', 'Zaiden', 'Naomi', 'Alston', 'Harry', 'Yosef', 'Cooper', 'Ayala', 'Harper', 'Aisha', 'Skyler', 'Akiva', 'Angelica', 'Angela', 'Yasmina', 'Noah', 'Arthur', 'Camila', 'Omar', 'Nayeli', 'Leibish', 'Diana', 'Magaly', 'Lyla', 'Adele', 'Nechama', 'Tristan', 'Francis', 'Layan', 'Tzipora', 'Ayleen', 'Edison', 'Tyler', 'Mike', 'Salma', 'Arya', 'Leyla', 'Parker', 'Chaim', 'Shane', 'Selina', 'Tenzin', 'Adrian', 'Ayden', 'Ronan', 'Kira', 'Nahla', 'Marjorie', 'Shayan', 'Victor', 'Jada', 'Amy', 'Zissy', 'Shifra', 'Prince', 'Jasmine', 'Leonidas', 'Shmiel', 'Keira', 'Malik', 'Martin', 'Philip', 'Evangeline', 'Hanna', 'Gemma', 'Kimora', 'Cynthia', 'Mariam', 'Tamar', 'Lia', 'Lorenzo', 'Kaden', 'Dina', 'Alexa', 'Manuel', 'Evie', 'Lyric', 'Mikaela', 'Alex', 'Londyn', 'Gary', 'Kelsey', 'Chava', 'Sholom', 'Lara', 'Natalie', 'Valeria', 'Amina', 'Bridget', 'Colin', 'Hailey', 'Emily', 'Eshaal', 'Mariah', 'Lina', 'Juliana', 'Marc', 'Giuliana', 'Lindsay', 'Nathalie', 'Luca', 'Melvin', 'Simcha', 'Caiden', 'Celia', 'Vanessa', 'Major', 'Karas', 'Junior', 'Ruchel', 'Ayaan', 'Aviva', 'Fatoumata', 'Nyla', 'Julianna', 'Itzel', 'Kaitlyn', 'Wilson', 'Josue', 'Anabelle', 'Yaseen', 'Maddox', 'Catalina', 'Santiago', 'Blake', 'Neymar', 'Cassidy', 'Skylah', 'Jade', 'Melissa', 'Nathan', 'Sincere', 'Harmony', 'Adyan', 'Ivan', 'Paul', 'Everly', 'Addison', 'Nosson', 'Melany', 'Maya', 'Athena', 'Henny', 'Anna', 'Yitty', 'Pinchus', 'Tori', 'Daisy', 'Elsa', 'Maia', 'Alexandra', 'Alexandria', 'Lilly', 'Mirel', 'Micah', 'Omari', 'Reuben', 'Hafsa', 'Faigy', 'Brayden', 'Hersh', 'Hazel', 'Bryan', 'Mordechai', 'Alicia', 'Khadijah', 'Malachi', 'Conor', 'Aileen', 'Noam', 'Shmuel', 'Aiza', 'Imani', 'Asher', 'Valentina', 'Clementine', 'Annabella', 'Amaya', 'Leilani', 'Hadley', 'Seth', 'Aubree', 'Willa', 'Mouhamed', 'Caleb', 'Kabir', 'Liana', 'Dahlia', 'Tony', 'Audrey', 'John', 'Batsheva', 'Ruth', 'Faiga', 'Hinda', 'Mikayla', 'Kenneth', 'Zelda', 'Abdoul', 'Anderson', 'Kyrie', 'Iris', 'Yechiel', 'Christina', 'Syed', 'Ava', 'Darren', 'Dylan', 'Abraham', 'Hershel', 'Victoria', 'Rhys', 'Jacqueline', 'Jenna', 'Suri', 'Zoe', 'Paige', 'Margot', 'Jordyn', 'Amare', 'Hugo', 'Christopher', 'Hayden', 'Cindy', 'Ayan', 'Brandon', 'Edward', 'Aden', 'Rory', 'Anne', 'Devorah', 'Ashton', 'Lily', 'Sawyer', 'Yocheved', 'Brigitte', 'Reizy', 'Gordon', 'Pedro', 'Harrison', 'Benzion', 'Adonis', 'Fernando', 'Jesus', 'Jordan', 'Catherine', 'Simone', 'Ali', 'Aydin', 'Saul', 'Andrew', 'Anaya', 'Madeleine', 'Jaylin', 'Caitlin', 'Annabelle', 'Lillian', 'Doris', 'Maisie', 'Jeremy', 'Lilian', 'Francisco', 'Ahnaf', 'Jasper', 'Dean', 'Adelyn', 'Wolf', 'Julia', 'Mae', 'Jesse', 'Lawrence', 'Jaylah', 'Sean', 'Ariana', 'Amari', 'Emma', 'Zendaya', 'Ashley', 'Gabriela', 'Daphne', 'Samuel', 'Azaan', 'Elizabeth', 'Molly', 'Savion', 'Pinchas', 'Valery', 'Annie', 'Nia', 'Eleanor', 'Abel', 'Gael', 'Valerie', 'Kamila', 'April', 'Nina', 'Michelle', 'Julissa', 'Myles', 'Frederick', 'Katie', 'Yasmin', 'Carolina', 'Margaret', 'Maximiliano', 'Marlon', 'Alvin', 'Ismael', 'Evan', 'Shia', 'Yahya', 'Angelina', 'Melina', 'Morgan', 'Adelaide', 'Poppy', 'Alisa', 'Avigail', 'Elaine', 'Theodore', 'Amiyah', 'Kennedy', 'Elias', 'Khloe', 'Charlotte', 'Caden', 'Louisa', 'Ahmed', 'Khalil', 'Milana', 'Marcelo', 'Elina', 'Jimena', 'Brian', 'Hector', 'Daleyza', 'Helena', 'Queena', 'Rachel', 'Mackenzie', 'Uriel', 'Eitan', 'Shlome', 'Heaven', 'Esme', 'Sophie', 'Skyla', 'Oliver', 'Brayan', 'Joy', 'Erica', 'Inaaya', 'Syeda', 'Arianna', 'Justice', 'Karter', 'Jazmin', 'Leon', 'Ayesha', 'Ivanna', 'Kenny', 'Henchy', 'Amira', 'Stephanie', 'Esmeralda', 'Xavier', 'Jayce', 'Elisa', 'Josephine', 'Israel', 'Armaan', 'Mark', 'Colette', 'Jazlyn', 'Annalise', 'Jacob', 'Aaliyah', 'Rosa', 'Princeton', 'Penelope', 'Haylee', 'Keila', 'Yael', 'Aayan', 'Alessia', 'Edwin', 'Jimmy', 'Kristian', 'Yisroel', 'Lucia', 'Lena', 'Jackson', 'Ibrahima', 'Samira', 'Siena', 'Hassan', 'Kendrick', 'Hope', 'Kaylee', 'Frimet', 'Raizy', 'Anisa', 'Alana', 'Violeta', 'Jasmina', 'Cora', 'Jorge', 'Fraidy', 'Lesly', 'Shlomo', 'Kendra', 'Frady', 'Isaac', 'Arielle', 'Joshua', 'Eliyahu', 'Briana', 'Sebastian', 'Nolan', 'Yusuf', 'Rivky', 'Kareem', 'August', 'Emerson', 'Yehudis', 'Naftuli', 'Rocco', 'Kaleb', 'Kaylin', 'Mohamed', 'Malak', 'Mira', 'Marcos', 'Avraham', 'Yidel', 'William', 'George', 'Grant', 'Jean', 'Brendan', 'Cali', 'Sara', 'Thea', 'Jeffrey', 'Alice', 'Michaela', 'Mina', 'Mindy', 'Lincoln', 'Luke', 'Moshe', 'Derick', 'Melanie', 'Roberto', 'Drew', 'Rodrigo', 'Leonardo', 'Esteban', 'Genesis', 'Carla', 'Delilah', 'Malka', 'Ben', 'Saniyah', 'Mendel', 'Yahir', 'Celine', 'Brenda', 'Nashla', 'Salome', 'Ayla', 'Quincy', 'Peter', 'Irene', 'Isla', 'Paris', 'Allen', 'Camille', 'Joaquin', 'Javier', 'Trany', 'Joselyn', 'Perry', 'Safa', 'Salvatore', 'Felix', 'Kiara', 'Abdullah', 'Jaden', 'Devora', 'Serena', 'Dakota', 'Sienna', 'Dominick', 'Vivian', 'Emilia', 'Kingston', 'Shaindy', 'Hillel', 'Shulem', 'Amelia', 'Karina', 'Mila', 'Antonia', 'Samantha', 'Binyomin', 'Leandro', 'Arvin', 'Jayson', 'Beckett', 'Nova', 'Taylor', 'Tiffany', 'Barbara', 'Leslie', 'Mariana', 'Lucy', 'Gerardo', 'Riley', 'Roizy', 'Ester', 'Amirah', 'Pessy', 'Madison', 'Jannat', 'Noel', 'Shraga', 'Juliet', 'Enrique', 'Lauryn', 'Beatrice', 'Fiona', 'Rivka', 'Benjamin', 'Hunter', 'James', 'Jessica', 'Rayan', 'Ezequiel', 'Filip', 'Wyatt', 'Miguel', 'Juan', 'Zainab', 'Youssef', 'Avery', 'Sloane', 'Fatou', 'Madisyn', 'Sabrina', 'Sarai', 'Tiana', 'Efraim', 'Giuseppe', 'Hannah', 'Simon', 'Lucas', 'Giselle', 'Cesar', 'Arham', 'Inaya', 'Mamadou', 'Eduardo', 'Amadou', 'Eliezer', 'Trinity', 'Kieran', 'Makayla', 'Madelyn', 'Violet', 'Aubrey', 'Arabella', 'Logan', 'Fatima', 'Kaylie', 'Lucien', 'Jonathan', 'Aidan', 'Rochel', 'Sylvie', 'Karla', 'Meir', 'Serenity', 'Rowan', 'Malia', 'Eric', 'Cayden', 'Nicole', 'Eli', 'Noelle', 'Misael', 'Avrum', 'Lev', 'Pamela', 'Johan', 'Musa', 'Ricardo', 'Alondra', 'Sima', 'Anayah', 'Ellie', 'Mason', 'Kadiatou', 'Ian', 'Orlando', 'Fabian', 'Mathew', 'Alanis', 'Megan', 'Angelique', 'Mary', 'Naftali', 'Robert', 'Vincenzo', 'Angelo', 'Caroline', 'Ahmad', 'Winston', 'Yaakov', 'Sanaa', 'Aliza', 'Christian', 'Kylee', 'Amara', 'Travis', 'Laila', 'Amir', 'Lana', 'Bruce', 'Darwin', 'Milo', 'Aharon', 'Reese', 'Walter', 'Moses', 'Blessing', 'Talia', 'Axel', 'Everett', 'Gianna', 'Damian', 'Miriam', 'Kayden', 'Olive', 'Ellis', 'Angie', 'Ximena', 'Toby', 'Sariah', 'Evelyn', 'Menashe', 'Erika', 'Kali', 'Francesca', 'Maxwell', 'Iker', 'Matilda', 'Hadassah', 'Jaxson', 'Jayden', 'Esty', 'Shloimy', 'Adeline', 'Goldy', 'Jane', 'Lola', 'Jaiden', 'Jakub', 'Shloime', 'Ruben', 'Kayleen', 'Adrianna', 'Devin', 'Amalia', 'Jaylene', 'Vivienne', 'Fradel', 'Binyamin', 'Stephen', 'Elijah', 'Bella', 'Camilla', 'Zamir', 'Jayceon', 'Denis', 'Tianna', 'Queenie', 'Dante', 'Jared', 'Wynter', 'Charlie', 'Danielle', 'Eloise', 'Elian', 'Neil', 'Patrick', 'Raina', 'Bryanna', 'Angel', 'Hana', 'Armani', 'Zuri', 'Mekhi', 'Maliyah', 'Leila', 'Marco', 'Aryeh', 'Chance', 'Thomas', 'Goldie', 'Mariama', 'Nathaniel', 'Julio', 'Zariah', 'Jaylen', 'Lazer', 'Carter', 'Dennis', 'Alina', 'Enzo', 'Crystal', 'Alejandro', 'Louis', 'Hershy', 'Yitzchok', 'Blimy', 'Usher', 'Mario', 'Selena', 'Heidi', 'Carson', 'Weston', 'Blima', 'Josiah', 'Zayden', 'Marcel', 'Gavriel', 'Mathias', 'Allyson', 'Chloe', 'Matthew', 'Issac', 'Brittany', 'Anson', 'Carmelo', 'Ezekiel', 'Randy', 'Erin', 'Mateo', 'Alessandra', 'Rohan', 'Brooks', 'Shaina', 'Stanley', 'Jessie', 'Jay', 'Jayleen', 'Nadia', 'Nora', 'Kaiden', 'Miracle', 'Bryant', 'Abigail', 'Helen', 'Ruchy', 'Daniel', 'Daniella', 'Marilyn', 'Charles', 'Eleni', 'Derek', 'Jose', 'Kyla', 'Graham', 'Sarah', 'Zaniyah', 'Lila', 'Jamar', 'Morris', 'Jefferson', 'Anton', 'Aissatou', 'Amelie', 'Lipa', 'Griffin', 'Eddy', 'Isabella', 'Antonio', 'Cecilia', 'Archer', 'Boruch', 'Cole', 'Nicholas', 'King', 'Brielle', 'Shaindel', 'Jace', 'Zion', 'Winter', 'Carlos', 'Owen', 'Tziporah', 'Isaiah', 'Noor', 'Jeremiah', 'London', 'Levi', 'Arisha', 'Zayan', 'Mordche', 'Fanta', 'Elisheva', 'Alexis'}"
   ]
  },
  {
   "cell_type": "code",
   "execution_count": 6,
   "metadata": {},
   "outputs": [],
   "source": [
    "def difference_with_year(baby_names, records, year):\n",
    "    \"\"\"\n",
    "    Return a set with the difference of names between that \"year\" and baby_names\n",
    "    \"\"\"\n",
    "    difference = set()\n",
    "    for record in records:\n",
    "        if (record[0] == year) and (record[3] not in baby_names):\n",
    "            difference.add(record[3])\n",
    "    return difference"
   ]
  },
  {
   "cell_type": "markdown",
   "metadata": {},
   "source": [
    "Implement the function <code><b>separate_sex</b></code>, which takes as input the list of <code><b>records</b></code> and returns a tuple of two lists, <code><b>males</b></code> and <code><b>females</b></code>. Each list must contain the indexes of the records categorized by MALE or FEMALE in order of appearance (the sex of each person in the list of records is stored in the second element). \n",
    "\n",
    "For example, the list [female, male, male] will produce the tuple ([1, 2], [0])"
   ]
  },
  {
   "cell_type": "code",
   "execution_count": 17,
   "metadata": {},
   "outputs": [],
   "source": [
    "def separate_sex(records):\n",
    "    \"\"\"\n",
    "    Return a tuple with the lists of the indexes of females and males\n",
    "    \"\"\"\n",
    "    # extract the indexes of the females and the males\n",
    "    males = []\n",
    "    females = []\n",
    "    \n",
    "    # iterate over the records\n",
    "    for index, elem in enumerate(records):\n",
    "        #print(index)\n",
    "        if elem[1] == \"FEMALE\":\n",
    "            females.append(index)\n",
    "        else:\n",
    "            males.append(index)\n",
    "    \n",
    "    return (females, males)"
   ]
  },
  {
   "cell_type": "markdown",
   "metadata": {},
   "source": [
    "Implement the function <code><b>first_5_names_paired</b></code> which takes the list of <code><b>records</b></code> and a tuple of lists of indexes <code><b>indexes</b></code>, and returns a list of pairs of names, i.e. [(female name, male name), ...], of the first 5 indexes.\n",
    "\n",
    "We suggest to use the <a href=\"https://docs.python.org/3/library/functions.html#zip\">zip</a> function to create these pairs. "
   ]
  },
  {
   "cell_type": "code",
   "execution_count": 9,
   "metadata": {},
   "outputs": [],
   "source": [
    "def first_5_names_paired(records, indexes):\n",
    "    \"\"\"\n",
    "    Return the list of the first paired names\n",
    "    \"\"\"\n",
    "    # Get the first 5 names of each\n",
    "    female_names = [records[i][3] for i in indexes[1][:5]] # for the last 5 -> indexes[1][-5:] \n",
    "    male_names = [records[i][3] for i in indexes[0][:5]] # for the last 5 -> indexes[0][-5:] \n",
    "    \n",
    "    return list(zip(female_names, male_names))\n"
   ]
  },
  {
   "cell_type": "markdown",
   "metadata": {},
   "source": [
    "Implement the function <code><b>reverse_index</b></code>, which takes as input a list of <code><b>names</b></code> ordered by their frequency (the name at index 0 is the most frequent, the name at index 1 is the second most frequent, ...) and returns a dictionary where the index is the key of the item and the name is the value of the item but the order is reversed (in this case, the item with index 0 is the least frequent). "
   ]
  },
  {
   "cell_type": "code",
   "execution_count": 10,
   "metadata": {},
   "outputs": [],
   "source": [
    "# first load these names\n",
    "female_baby_names_2011 = ['AVA', 'CHANA', 'MIRIAM', 'ELLA', 'EMILY', 'MIA', 'SARA', 'CHARLOTTE', 'ISABELLA', 'MAYA', 'ELIZABETH', 'ABIGAIL', 'ALEXANDRA', 'VICTORIA', 'LILY', 'SOFIA', 'RIVKA', 'ZOE', 'JULIA', 'SOPHIE', 'GABRIELLA', 'HANNAH', 'GRACE', 'AVERY', 'STELLA', 'SHAINDY', 'FAIGY', 'GITTY', 'MADISON', 'MALKY', 'EVA', 'MALKA', 'ALEXA', 'MADELINE', 'PENELOPE', 'TOBY', 'RIVKY', 'NICOLE', 'VIOLET', 'NATALIE', 'REBECCA', 'MARIA', 'YITTY', 'NINA', 'KATHERINE', 'RILEY', 'SIENNA', 'SYDNEY', 'VIVIENNE', 'VALENTINA', 'TALIA', 'JOSEPHINE', 'FRANCESCA', 'ZISSY', 'SURY', 'NAOMI', 'YIDES', 'SKYLAR', 'VERONICA', 'TAYLOR', 'ZOEY', 'LILIANA', 'YAEL', 'SAVANNAH', 'VANESSA', 'SIMONE', 'SLOANE', 'VERA', 'YEHUDIS', 'SYLVIA', 'SIMA', 'SHAINA', 'TZIPORA', 'YITTA', 'TZIVIA', 'YARA']"
   ]
  },
  {
   "cell_type": "code",
   "execution_count": 11,
   "metadata": {},
   "outputs": [],
   "source": [
    "def reverse_index(names):\n",
    "    \"\"\"\n",
    "    Return a dictionary with items (index, name)\n",
    "    \"\"\"\n",
    "    names_reversed = names[::-1]\n",
    "    result = {}\n",
    "\n",
    "    for index, name in enumerate(names_reversed):\n",
    "        result[index] = name\n",
    "\n",
    "    return result"
   ]
  },
  {
   "cell_type": "markdown",
   "metadata": {},
   "source": [
    "Implement the function <code><b>safe_index</b></code> which takes as input a dictionary, where each item is an index and a name (like the dictionary you just built in Excercise 8), and returns the name relative to a certain <code><b>position</b></code> in the ranking of names (a position is a positive integer greater than zero) and returns the name at that index. \n",
    "If the position is not valid, you must return the message *'Position must me greater than zero'*, if the position is out of range, you must return the message *'Not Found'* (we suggest to use the [get() function](https://docs.python.org/3/library/stdtypes.html#dict.get))."
   ]
  },
  {
   "cell_type": "code",
   "execution_count": 13,
   "metadata": {},
   "outputs": [],
   "source": [
    "def safe_index(names, position):\n",
    "    \"\"\"\n",
    "    Return the name in that position\n",
    "    \"\"\"\n",
    "    if position < 1: \n",
    "        return \"Position must be greater than zero\"\n",
    "    else:\n",
    "        return names.get(position - 1, \"Not Found\")\n"
   ]
  },
  {
   "cell_type": "markdown",
   "metadata": {},
   "source": [
    "Implement the function <code><b>update_year</b></code>, which takes as input 1) a dictionary of dictionaries of names, <code><b>old_names</b></code>, where the key of each element is the year of the dictionary, 2) a dictionary of names <code><b>names_to_update</b></code>, and 3) the <code><b>year</b></code> to update.\n",
    "\n",
    "This function returns the updated dictionary with the new_names for that year. "
   ]
  },
  {
   "cell_type": "code",
   "execution_count": 14,
   "metadata": {},
   "outputs": [],
   "source": [
    "# load this data first\n",
    "# load names (dictionary of dictionaries)\n",
    "old_names = {2009: {}, 2010: {}, 2012: {1: 'David',  2: 'Joseph',  3: 'Michael',  4: 'Moshe',  5: 'Daniel',  6: 'Benjamin',  7: 'James',  8: 'Jacob',  9: 'Jack',  10: 'Alexander',  11: 'William',  12: 'John',  13: 'Henry',  14: 'Noah',  15: 'Samuel',  16: 'Nicholas',  17: 'Matthew',  18: 'Adam',  19: 'Chaim',  20: 'Abraham',  21: 'Liam',  22: 'Ryan',  23: 'Lucas',  24: 'Anthony',  25: 'Isaac',  26: 'Oliver',  27: 'Andrew',  28: 'Gabriel',  29: 'Yosef',  30: 'Leo',  31: 'Thomas',  32: 'Luke',  33: 'Jackson',  34: 'Shimon',  35: 'Theodore',  36: 'Joshua',  37: 'Christopher',  38: 'Sebastian',  39: 'Mason',  40: 'Eli',  41: 'Nathan',  42: 'Aaron',  43: 'Zachary',  44: 'Aron',  45: 'Luca',  46: 'Yehuda',  47: 'Yitzchok',  48: 'Owen',  49: 'Menachem',  50: 'Logan',  51: 'Aiden',  52: 'Yisroel',  53: 'Peter',  54: 'Yaakov',  55: 'Yakov',  56: 'Omar',  57: 'Levi',  58: 'Simon',  59: 'Shmuel',  60: 'Patrick',  61: 'Connor',  62: 'Jonah',  63: 'Zev',  64: 'Tzvi',  65: 'Nathaniel',  66: 'Harrison',  67: 'Tyler',  68: 'Mark',  69: 'Hunter',  70: 'Mohamed',  71: 'Lipa',  72: 'Mendel',  73: 'Sean',  74: 'Sam',  75: 'Solomon',  76: 'Martin',  77: 'Edward',  78: 'Wyatt',  79: 'Parker',  80: 'Steven',  81: 'Yechiel',  82: 'Nicolas',  83: 'Timothy',  84: 'Spencer',  85: 'Usher',  86: 'Rafael',  87: 'Yusuf',  88: 'Yehoshua',  89: 'Shaya',  90: 'Rayan',  91: 'Tristan',  92: 'Yossi',  93: 'Wesley',  94: 'Yoel',  95: 'Sawyer',  96: 'Yousef',  97: 'Walter',  98: 'Zalmen',  99: 'Yeshaya',  100: 'Yitzchak'}, 2014: {1: 'Joseph',  2: 'David',  3: 'Michael',  4: 'Moshe',  5: 'Jacob',  6: 'Benjamin',  7: 'Alexander',  8: 'Daniel',  9: 'Samuel',  10: 'Jack',  11: 'James',  12: 'Adam',  13: 'William',  14: 'Henry',  15: 'Abraham',  16: 'Nicholas',  17: 'John',  18: 'Ethan',  19: 'Liam',  20: 'Ryan',  21: 'Noah',  22: 'Matthew',  23: 'Chaim',  24: 'Theodore',  25: 'Isaac',  26: 'Lucas',  27: 'Thomas',  28: 'Yosef',  29: 'Anthony',  30: 'Oliver',  31: 'Max',  32: 'Gabriel',  33: 'Eli',  34: 'Shimon',  35: 'Luke',  36: 'Mason',  37: 'Mordechai',  38: 'Andrew',  39: 'Zachary',  40: 'Owen',  41: 'Yehuda',  42: 'Jackson',  43: 'Yisroel',  44: 'Nathan',  45: 'Aiden',  46: 'Christopher',  47: 'Jonathan',  48: 'Asher',  49: 'Logan',  50: 'Robert',  51: 'Yitzchok',  52: 'George',  53: 'Christian',  54: 'Aron',  55: 'Mark',  56: 'Levi',  57: 'Shmuel',  58: 'Miles',  59: 'Shlomo',  60: 'Peter',  61: 'Sean',  62: 'Eliezer',  63: 'Solomon',  64: 'Gavin',  65: 'Zev',  66: 'Nathaniel',  67: 'Yaakov',  68: 'Yakov',  69: 'Hunter',  70: 'Vincent',  71: 'Ari',  72: 'Edward',  73: 'Yechiel',  74: 'Oscar',  75: 'Shia',  76: 'Leonardo',  77: 'Victor',  78: 'Tyler',  79: 'Wyatt',  80: 'Sam',  81: 'Shaya',  82: 'Ian',  83: 'Raphael',  84: 'Philip',  85: 'Timothy',  86: 'Yehoshua',  87: 'Xavier',  88: 'Youssef',  89: 'Simcha',  90: 'Naftali',  91: 'Ronan',  92: 'Usher',  93: 'Shmiel',  94: 'Yousef',  95: 'Naftuli',  96: 'Yusuf',  97: 'Yossi',  98: 'Yisrael',  99: 'Shea',  100: 'Yoel',  101: 'Yahya',  102: 'Yidel'}}\n",
    "\n",
    "# load names (dictionary)\n",
    "names_to_update = {1: 'Michael', 2: 'Joseph', 3: 'Jacob', 4: 'David', 5: 'Benjamin', 6: 'Moshe', 7: 'Daniel', 8: 'Alexander', 9: 'Matthew', 10: 'Jack', 11: 'Samuel', 12: 'James', 13: 'William', 14: 'John', 15: 'Nicholas', 16: 'Henry', 17: 'Chaim', 18: 'Anthony', 19: 'Andrew', 20: 'Liam', 21: 'Charles', 22: 'Lucas', 23: 'Dylan', 24: 'Ryan', 25: 'Thomas', 26: 'Ethan', 27: 'Menachem', 28: 'Yosef', 29: 'Luke', 30: 'Oliver', 31: 'Noah', 32: 'Eli', 33: 'Gabriel', 34: 'Max', 35: 'Shimon', 36: 'Isaac', 37: 'Joshua', 38: 'Zachary', 39: 'Leo', 40: 'Julian', 41: 'Aiden', 42: 'Jake', 43: 'Mordechai', 44: 'Yisroel', 45: 'Yehuda', 46: 'Sebastian', 47: 'Mark', 48: 'Robert', 49: 'Logan', 50: 'George', 51: 'Owen', 52: 'Vincent', 53: 'Tyler', 54: 'Yakov', 55: 'Aidan', 56: 'Yitzchok', 57: 'Asher', 58: 'Theodore', 59: 'Peter', 60: 'Solomon', 61: 'Zev', 62: 'Nathaniel', 63: 'Yaakov', 64: 'Shmuel', 65: 'Shulem', 66: 'Tzvi', 67: 'Levi', 68: 'Jayden', 69: 'Mohamed', 70: 'Cole', 71: 'Sean', 72: 'Sam', 73: 'Victor', 74: 'Omar', 75: 'Steven', 76: 'Moses', 77: 'Shia', 78: 'Usher', 79: 'Nicolas', 80: 'Yechiel', 81: 'Shaya', 82: 'Wyatt', 83: 'Tristan', 84: 'Louis', 85: 'Yehoshua', 86: 'Sholom', 87: 'Yoel', 88: 'Rocco', 89: 'Xavier', 90: 'Yitzchak', 91: 'Shea', 92: 'Spencer', 93: 'Zalmen', 94: 'Yida', 95: 'Yousef', 96: 'Youssef', 97: 'Yonah'}"
   ]
  },
  {
   "cell_type": "code",
   "execution_count": 15,
   "metadata": {},
   "outputs": [],
   "source": [
    "def update_year(names, names_to_update, year):\n",
    "    \"\"\"\n",
    "    Return a dictionary with names updated\n",
    "    \"\"\"\n",
    "    names[year] = names_to_update\n",
    "    return names\n",
    "\n"
   ]
  },
  {
   "cell_type": "markdown",
   "metadata": {},
   "source": [
    "Implement the function <code><b>safe_index_per_year</b></code> which takes as input a dictionary of dictionaries of <code><b>names</b></code>, a <code><b>position</b></code>, a <code><b>year</b></code>, and uses the <code><b>safe_index</b></code> function to get the name relative to that <code><b>position</b></code> in the ranking of names for that year. "
   ]
  },
  {
   "cell_type": "code",
   "execution_count": 16,
   "metadata": {},
   "outputs": [],
   "source": [
    "def safe_index_per_year(names, position, year):\n",
    "    \"\"\"\n",
    "    Return the element in that position for that year\n",
    "    \"\"\"\n",
    "    return safe_index(names[year], position)\n"
   ]
  },
  {
   "cell_type": "markdown",
   "metadata": {},
   "source": [
    "Implement the function <code><b>find_names_year</b></code> which takes as input a dictionary of dictionaries of <code><b>names</b></code>, a <code><b>pattern</b></code> (sequence of characters), a <code><b>year</b></code>, and returns (safely) the list of pairs all the names and the relative rank that contain that pattern for that year or the message *'Year not found'* if the year is not available. "
   ]
  },
  {
   "cell_type": "code",
   "execution_count": 20,
   "metadata": {},
   "outputs": [],
   "source": [
    "import re\n",
    "def find_names_year(names, pattern, year):\n",
    "    \"\"\"\n",
    "    Return the names with a pattern for that year\n",
    "    \"\"\"\n",
    "     \n",
    "    names_pattern = []\n",
    "    \n",
    "    if not (names.get(year)):\n",
    "        return 'Year not found'\n",
    "    \n",
    "    for rank, name in names[year].items():\n",
    "        if (re.search(pattern, name)):\n",
    "            names_pattern.append((rank, name))\n",
    "    \n",
    "    return names_pattern"
   ]
  },
  {
   "cell_type": "markdown",
   "metadata": {},
   "source": [
    "## 2. Friends"
   ]
  },
  {
   "cell_type": "code",
   "execution_count": 21,
   "metadata": {},
   "outputs": [],
   "source": [
    "friends = {\n",
    "    'Rachel Green': [('Ross Geller', 1.0), \n",
    "                     ('Paul Stevens', 0.46),\n",
    "                     ('Chandler Bing', 0.73),\n",
    "                     ('Monica Geller', 0.92),\n",
    "                     ('Phoebe Buffay', 0.94),\n",
    "                     ('Joey Tribbiani', 0.97),\n",
    "                     ('Gunther', 0.01)\n",
    "                    ],\n",
    "    'Monica Geller': [('Ross Geller', 0.85),\n",
    "                      ('Phoebe Buffay', 0.89),\n",
    "                      ('Rachel Green', 0.89),\n",
    "                      ('Chandler Bing', 1.0),\n",
    "                      ('Joey Tribbiani', 0.90),\n",
    "                      ('Janice Hosenstein', 0.07),\n",
    "                      ('Gunther', 0.51),\n",
    "                      ('Ursula Buffay', 0.42),\n",
    "                      ('Paul Stevens', 0.27)\n",
    "                     ],\n",
    "    'Phoebe Buffay': [('Ursula Buffay', 0.01),\n",
    "                      ('Joey Tribbiani', 0.96),\n",
    "                      ('Monica Geller', 0.81),\n",
    "                      ('Rachel Green', 0.88),\n",
    "                      ('Chandler Bing', 0.64),\n",
    "                      ('Ross Geller', 0.83),\n",
    "                      ('Gunther', 0.25)\n",
    "                     ],\n",
    "    'Joey Tribbiani': [('Phoebe Buffay', 0.98),\n",
    "                       ('Chandler Bing', 1.0),\n",
    "                       ('Ross Geller', 0.99),\n",
    "                       ('Rachel Green', 0.97),\n",
    "                       ('Monica Geller', 0.95)\n",
    "                      ],\n",
    "    'Chandler Bing': [('Monica Geller', 1.0),\n",
    "                      ('Joey Tribbiani', 1.0),\n",
    "                      ('Ross Geller', 0.97),\n",
    "                      ('Phoebe Buffay', 0.81),\n",
    "                      ('Rachel Green', 0.68),\n",
    "                      ('Gunther', 0.37),\n",
    "                      ('Janice Hosenstein', 0.16)\n",
    "                     ],\n",
    "    'Ross Geller': [('Monica Geller', 0.95),\n",
    "                    ('Joey Tribbiani', 0.96),\n",
    "                    ('Chandler Bing', 0.96),\n",
    "                    ('Phoebe Buffay', 0.91),\n",
    "                    ('Rachel Green', 1.0),\n",
    "                    ('Paul Stevens', 0.04)],\n",
    "    'Gunther': [('Rachel Green', 1.0)],\n",
    "    'Ursula Buffay': [],\n",
    "    'Janice Hosenstein': [('Chandler Bing', 1.0),\n",
    "                          ('Monica Geller', 0.01),\n",
    "                          ('Joey Tribbiani', 0.32)\n",
    "                         ],\n",
    "    'Paul Stevens': [('Rachel Green', 0.88),\n",
    "                     ('Ross Geller', 0.29),\n",
    "                     ('Monica Geller', 0.57)\n",
    "                    ]\n",
    "}"
   ]
  },
  {
   "cell_type": "markdown",
   "metadata": {},
   "source": [
    "Implement the function <code><b>only_n_friends</b></code>, which takes as input a dictionary of friends <code><b>f</b></code>, a string <code><b>u</b></code>, a number <code><b>n</b></code>, and returns **true** if the person <code><b>u</b></code> has more than <code><b>n</b></code> friends, **false** otherwise."
   ]
  },
  {
   "cell_type": "code",
   "execution_count": 22,
   "metadata": {},
   "outputs": [],
   "source": [
    "def only_n_friends(f, u, n):\n",
    "    if len(f[u]) > n: \n",
    "        return True\n",
    "    return False  "
   ]
  },
  {
   "cell_type": "markdown",
   "metadata": {},
   "source": [
    "Implement the function <code><b>n_friends_of</b></code>, which takes as input a string (i.e., a character) <code><b>u</b></code> and returns the total number of friends of <code><b>u</b></code>, or <code><b>-1</b></code> if <code><b>u</b></code> is not part of the <code><b>friends</b></code> social network."
   ]
  },
  {
   "cell_type": "code",
   "execution_count": 28,
   "metadata": {},
   "outputs": [],
   "source": [
    "def n_friends_of(u):\n",
    "    \"\"\"\n",
    "    Return the total number of u's friends or -1 if u is not part of the `friends` network.\n",
    "    \"\"\"\n",
    "    # YOUR CODE HERE\n",
    "    if u not in friends.keys():\n",
    "        return -1\n",
    "    else:\n",
    "        return len(friends[u])\n",
    "    #raise NotImplementedError()"
   ]
  },
  {
   "cell_type": "markdown",
   "metadata": {},
   "source": [
    "Implement the function <code>**is_friend_of**</code> which takes as input two strings representing two characters, i.e., <code>**u**</code> and <code>**v**</code>, and returns <code>**True**</code> iff <code>**u**</code> is friend of <code>**v**</code>, <code>**False**</code> otherwise.\n",
    "\n",
    "(**NOTE:** Friendhsip relation is not symmetric, and therefore <code>**u**</code> being friend of <code>**v**</code> **does not** necessarily imply <code>**v**</code> is friend of <code>**u**</code>.)"
   ]
  },
  {
   "cell_type": "code",
   "execution_count": 40,
   "metadata": {},
   "outputs": [
    {
     "data": {
      "text/plain": [
       "True"
      ]
     },
     "execution_count": 40,
     "metadata": {},
     "output_type": "execute_result"
    }
   ],
   "source": [
    "def is_friend_of(u, v):\n",
    "    \"\"\"\n",
    "    Return True iff u is friend of v, False otherwise.\n",
    "    \"\"\"\n",
    "    for element in friends[u]:\n",
    "        if v in element[0]:\n",
    "            return True\n",
    "    return False"
   ]
  },
  {
   "cell_type": "markdown",
   "metadata": {},
   "source": [
    "Implement the function <code>**best_friend_of**</code> which takes as input a string representing a character <code>**u**</code>, and returns the name of its best friend. The best friend of any character <code>**u**</code> is the character <code>**v**</code> in <code>**u**</code>'s friend list having the **highest friendship score**. If more than one best friend is found, the function should return the first one in alphabetical order. Finally, the function should return <code>**None**</code> if <code>**u**</code> has no (best) friends at all.\n",
    "\n",
    "(**HINT:** You can use <code>**itemgetter**</code> to sort a list of tuples according to a specific item within each tuple. For example: <code>**sorted(list_of_tuples, key=itemgetter(1))**</code> sorts <code>**list_of_tuples**</code> by the **second** element of each tuple.)"
   ]
  },
  {
   "cell_type": "code",
   "execution_count": 97,
   "metadata": {},
   "outputs": [],
   "source": [
    "\"\"\"Implement the function <code>**best_friend_of**</code> which takes as input a string representing a character <code>**u**</code>, and returns the name of its best friend. The best friend of any character <code>**u**</code> is the character <code>**v**</code> in <code>**u**</code>'s friend list having the **highest friendship score**. If more than one best friend is found, the function should return the first one in alphabetical order. Finally, the function should return <code>**None**</code> if <code>**u**</code> has no (best) friends at all.\n",
    "\n",
    "(**HINT:** You can use <code>**itemgetter**</code> \n",
    "to sort a list of tuples according to a specific\n",
    " item within each tuple. For example: \n",
    " <code>**sorted(list_of_tuples, \n",
    " key=itemgetter(1))**</code> sorts \n",
    " <code>**list_of_tuples**</code> by the **second**\n",
    "   element of each tuple.)\n",
    "   for chandler it should be Joey Tribbiani\n",
    "   \"\"\"\n",
    "\n",
    "def best_friend_of(u):\n",
    "    \"\"\"\n",
    "    Return the name of the best friend of u.\n",
    "    \"\"\"\n",
    "    if not friends[u]:\n",
    "        return None\n",
    "    friends[u].sort(key=itemgetter(0), reverse=False)\n",
    "    friends[u].sort(key=itemgetter(1), reverse=True)\n",
    "    return friends[u][0][0]"
   ]
  },
  {
   "cell_type": "markdown",
   "metadata": {},
   "source": [
    "Implement the function <code>**friendship_stats**</code> which returns a custom data structure, i.e., a dictionary, where each key is a character and each value is a tuple containing the <code>**n_friends**</code>, <code>**min**</code>, <code>**max**</code>, <code>**avg**</code>, and <code>**median**</code> friendship scores (in this very specific order), computed across characters she is friend of. For any character who has no friends, the corresponding value in this dictionary will be the default tuple <code>(0, -1, -1, -1, -1)</code>.<br />\n",
    "(Note that <code>**n_friends**</code> corresponds to the _outdegree_ of the node representing each character)."
   ]
  },
  {
   "cell_type": "code",
   "execution_count": 101,
   "metadata": {},
   "outputs": [],
   "source": [
    "from statistics import mean, median\n",
    "\n",
    "def friendship_stats():\n",
    "    stats = {}\n",
    "\n",
    "    for key in friends:\n",
    "        if friends[key]:\n",
    "            minimum = min([el[1] for el in friends[key]])\n",
    "            maximum = max([el[1] for el in friends[key]])\n",
    "            avg = mean([el[1] for el in friends[key]])\n",
    "            mediann = median([el[1] for el in friends[key]])\n",
    "            stats[key] = (len(friends[key]), \n",
    "                        minimum, \n",
    "                        maximum,\n",
    "                        avg,\n",
    "                        mediann)\n",
    "        else:\n",
    "            stats[key] = (0, -1, -1, -1, -1)\n",
    "    return stats"
   ]
  },
  {
   "cell_type": "markdown",
   "metadata": {},
   "source": [
    "Implement the function <code><b>average_friend_score_map</b></code>, which builds a <b>new</b> dictionary out of the given <code><b>friends</b></code> as follows: for each entry of the original <code><b>friends</b></code> (i.e., character) it creates a new entry on the new dictionary, whose key is the character's name (i.e., the key of the original dictionary) and whose value is the <b>average friendship score</b> of that character <b>providing that character has at least two friends</b> (otherwise, no entry will be created for that character).\n",
    "We suggest to use the median function of the numpy package to compute the average."
   ]
  },
  {
   "cell_type": "code",
   "execution_count": null,
   "metadata": {},
   "outputs": [],
   "source": [
    "def average_friend_score_map(f):\n",
    "    new_dict = {}\n",
    "    for key in f:\n",
    "        if len(f[key]) >= 2: # or != 0 if he asks so\n",
    "            new_dict[key] = np.mean([x[1] for x in f[key]]) # for the median -> np.median(...)\n",
    "    return new_dict\n",
    "\n",
    "average_friend_score_map(friends)"
   ]
  },
  {
   "cell_type": "markdown",
   "metadata": {},
   "source": [
    "Implement the function <code><b>top_k_out_degree</b></code>, which takes as input a dictionary <code><b>f</b></code> of friends and an integer <code><b>k</b></code> and returns the list of top-<code><b>k</b></code> characters having the highest <b>out-degree</b>. \n",
    "\n",
    "The out-degree of a character <code><b>u</b></code> is the number of friends for that character. The final list to be returned is actually a list of _tuples_ $[(a_1, b_1), \\ldots, (a_k, b_k)]$, where each $a_i$ is the name of a character and $b_i$ is her/his out-degree value. "
   ]
  },
  {
   "cell_type": "code",
   "execution_count": null,
   "metadata": {},
   "outputs": [],
   "source": [
    "from operator import itemgetter # in case you need this (not necessary)\n",
    "\n",
    "def top_k_out_degree(f, k):\n",
    "    \n",
    "    out_degree = list() #This is the list of tuples to store the result\n",
    "    \n",
    "    for key in f:\n",
    "        out_degree.append((key, len(f[key])))\n",
    "    \n",
    "    out_degree.sort(key = lambda x: x[1], reverse= True)\n",
    "    return out_degree[:k]\n",
    "\n"
   ]
  },
  {
   "cell_type": "markdown",
   "metadata": {},
   "source": [
    "Implement the function <code><b>top_k_in_degree</b></code>, which takes as input an integer <code><b>k</b></code> and returns the list of top-<code><b>k</b></code> characters having the highest <b>in-degree</b>. The in-degree of a character <code><b>u</b></code> is the number of _other_ characters <code><b>v</b></code> who have <code><b>u</b></code> as friend. The final list to be returned is actually a list of _tuples_ $[(a_1, b_1), \\ldots, (a_k, b_k)]$, where each $a_i$ is the name of a character and $b_i$ is her/his in-degree value. Finally, the list must be sorted in <b>non-decrasing order</b> of $b_i$ and in <b>non-increasing order</b> of $a_i$ (i.e., lexicographically). \n",
    "\n",
    "(**SUGGESTION:** You can do this exercise with one-pass scan over the original <code><b>friends</b></code> dictionary and using an additional dictionary <code><b>in_degree_map</b></code> where storing information about each character's in-degree. Once you have successfully populated that, you can get the list of tuples corresponding to the dictionary by simply invoking <code><b>in_degree_map.items()</b></code>...)"
   ]
  },
  {
   "cell_type": "markdown",
   "metadata": {},
   "source": [
    "## 3. Corpus"
   ]
  },
  {
   "cell_type": "code",
   "execution_count": 11,
   "metadata": {},
   "outputs": [
    {
     "name": "stdout",
     "output_type": "stream",
     "text": [
      "The following are the first 5 documents loaded out of a total of 2497 documents:\n",
      "\n",
      "architecture of a multislot main memory system for 32 gbps operation\n",
      "rulebased service customization via houdini\n",
      "business policy modeling and enforcement in databases\n",
      "a high speed and high linearity ota in 1v power supply voltage\n",
      "predict towards predicting the runtime of large scale iterative analytics\n"
     ]
    }
   ],
   "source": [
    "# used to replace any punctuation symbol with an empty character ('')\n",
    "translator = str.maketrans('', '', string.punctuation)\n",
    "\n",
    "# load each individual document as a lowercase string into the list of strings `corpus`\n",
    "corpus = [doc.strip().lower().translate(translator) for doc in open(TEXT_CORPUS_FILE)]\n",
    "\n",
    "# print out the first 5 documents loaded\n",
    "print(\"The following are the first 5 documents loaded out of a total of {} documents:\\n\".format(len(corpus)))\n",
    "print(\"\\n\".join(corpus[:5]))"
   ]
  },
  {
   "cell_type": "markdown",
   "metadata": {},
   "source": [
    "Implement the function <code>**avg_doc_length**</code>, which returns the **average length** calculated over the documents in the <code>**corpus**</code>.<br />\n",
    "We define the _length_ of a document the number of the tokens which the document string is made of; a _token_ is any substring which is separated from the other by a **whitespace character**, i.e., <code>**\" \"**</code>.\n",
    "\n",
    "(**EXAMPLE:** If the document you are working with is the string <code>**\"I think therefore I am\"**</code>, then the corresponding tokens will be: <code>**\"I\"**</code>, <code>**\"think\"**</code>, <code>**\"therefore\"**</code>, <code>**\"I\"**</code>, and <code>**\"am\"**</code> thereby the length of this document will be **5**."
   ]
  },
  {
   "cell_type": "code",
   "execution_count": 12,
   "metadata": {},
   "outputs": [],
   "source": [
    "def avg_doc_length():\n",
    "    if len(corpus) == 0:\n",
    "        return 0\n",
    "    total_length = 0\n",
    "\n",
    "    for doc in corpus:\n",
    "        total_length += len(doc.split())\n",
    "    \n",
    "    average_length = total_length/len(corpus)\n",
    "    return average_length"
   ]
  },
  {
   "cell_type": "markdown",
   "metadata": {},
   "source": [
    "Implement the function <code>**is_word_in_doc**</code>, which takes as input a string <code>**word**</code> and and integer <code>**doc_id**</code>, and returns <code>**True**</code> if and only if the token <code>**word**</code> appears in the document <code>**doc_id**</code>. By convention, documents are identified by their index position in the <code>**corpus**</code> list, therefore the first element of the list will correspond to <code>**doc_id = 0**</code>, the second to <code>**doc_id = 1**</code>, and so on and so forth.<br />\n",
    "The function must be _case-insensitive_, meaning that <code>**is_word_in_doc(\"galileo\", 42) = is_word_in_doc(\"Galileo\", 42) = is_word_in_doc(\"GALILEO\", 42)**</code>. Finally, if the input <code>**doc_id**</code> is outside of its valid range $[0, N-1]$ (where $N$ is the total number of documents in the <code>**corpus**</code> list), the function should immediately return <code>**False**</code>.\n",
    "\n",
    "(**NOTE:** Words of documents contained in the <code>**corpus**</code> list are already lowercased, but there is no restiction on the <code>**word**</code> input to the <code>**is_word_in_doc**</code> function.)"
   ]
  },
  {
   "cell_type": "code",
   "execution_count": 13,
   "metadata": {},
   "outputs": [],
   "source": [
    "def is_word_in_doc(word, doc_id):\n",
    "    \"\"\"\n",
    "    Return True iff the string `word` appears within the document `doc_id`, False otherwise.\n",
    "    Plus, it returns False whenever `doc_id` is outside of its valid range of values [0, N-1] (N = len(corpus))\n",
    "    \"\"\"\n",
    "    if doc_id < 0 or doc_id >= len(corpus): return False\n",
    "    if word.lower() in corpus[doc_id]: return True # lower() only if case insensitive \n",
    "    return False    "
   ]
  },
  {
   "cell_type": "markdown",
   "metadata": {},
   "source": [
    "Implement the function <code>**doc_stats**</code>, which returns a custom data structure, i.e., dictionary, where each key is a <code>**doc_id**</code> and each value is a tuple containing the <code>**min**</code>, <code>**max**</code>, <code>**mean**</code>, and <code>**standard deviation**</code> (in this very specific order) of the number of characters of the words which _that_ <code>**doc_id**</code> is made of.<br />\n",
    "For example, if the document is <code>\"I have been to Chargoggagoggmanchauggagoggchaubunagungamaugg lake last summer\"</code>, then:\n",
    "-  <code>**min = 1**</code>\n",
    "-  <code>**max = 45**</code>\n",
    "-  <code>**mean = 8.75**</code>\n",
    "-  <code>**std_dev = 13.77**</code>\n",
    "\n",
    "(**NOTE:** The _Chargoggagoggmanchauggagoggchaubunagungamaugg_ lake truly exists, and is located in Webster, Massachussets, USA)"
   ]
  },
  {
   "cell_type": "code",
   "execution_count": 14,
   "metadata": {},
   "outputs": [],
   "source": [
    "def doc_stats():\n",
    "    \"\"\"\n",
    "    Returns a dictionary where each key is a `doc_id` and each value is a tuple containing \n",
    "    the min, max, mean, and standard deviation of the number of characters of each word for that document.\n",
    "    \"\"\"\n",
    "    doc_stats = {} # This is the variable that needs to be returned\n",
    "    splitted_corpus = [doc.split() for doc in corpus]\n",
    "\n",
    "    for doc, doc_words in enumerate(splitted_corpus):\n",
    "        doc_stats[doc] = (min(len(word) for word in doc_words),\n",
    "                          max(len(word) for word in doc_words),\n",
    "                          np.mean([len(word) for word in doc_words]),\n",
    "                          np.std([len(word) for word in doc_words]))\n",
    "\n",
    "    return doc_stats"
   ]
  },
  {
   "cell_type": "markdown",
   "metadata": {},
   "source": [
    "Implement the function <code>n_grams(doc, n)</code> which takes as input the string representing a document and an integer <code>n (n>0)</code>, and extract the n-grams from it, n = <code>n</code> (pay attention to how the \"sliding window\" should move across the string in order to ectraxt the corresponding substring).\n",
    "\n",
    "An n-gram is a sequence of n adjacent simbols in particular order"
   ]
  },
  {
   "cell_type": "code",
   "execution_count": null,
   "metadata": {},
   "outputs": [],
   "source": [
    "def n_grams(doc, n):\n",
    "    ngrams = []\n",
    "    splitted = corpus[doc].split()\n",
    "    for i in range(len(splitted)-n+1):\n",
    "        ngrams.append(tuple(splitted[i:i+n]))\n",
    "    return ngrams\n",
    "\n",
    "n_grams(0, 2)"
   ]
  },
  {
   "cell_type": "markdown",
   "metadata": {},
   "source": [
    "# Data Science"
   ]
  },
  {
   "cell_type": "markdown",
   "metadata": {},
   "source": [
    "Read CSV"
   ]
  },
  {
   "cell_type": "markdown",
   "metadata": {},
   "source": []
  },
  {
   "cell_type": "code",
   "execution_count": null,
   "metadata": {},
   "outputs": [],
   "source": [
    "\n",
    "DATASET_FILE = \"path dataset\"\n",
    "\n",
    "dataset = pd.read_csv(DATASET_FILE, sep = \";\", na_values = [\"?\", \"None\"])\n",
    "dataset.head()"
   ]
  },
  {
   "cell_type": "markdown",
   "metadata": {},
   "source": [
    "SQL"
   ]
  },
  {
   "cell_type": "code",
   "execution_count": null,
   "metadata": {},
   "outputs": [],
   "source": [
    "import sqlite3\n",
    "conn = sqlite3.connect(\"path db\")\n",
    "new_df = pd.read_sql(\"SELECT * FROM table\", conn)\n",
    "\n",
    "conn.close()\n",
    "\n",
    "# if needed, change the names of the columns\n",
    "new_df.comuns = [\"new_name\", \"new_name2\",\"...\"] \n"
   ]
  },
  {
   "cell_type": "code",
   "execution_count": null,
   "metadata": {},
   "outputs": [],
   "source": [
    "merged_data = pd.merge(dataset, new_df, left_on=\"\", right_on=\"\")\n",
    "merged_data.head()"
   ]
  },
  {
   "cell_type": "markdown",
   "metadata": {},
   "source": [
    "## 1. Pokemon"
   ]
  },
  {
   "cell_type": "code",
   "execution_count": null,
   "metadata": {},
   "outputs": [],
   "source": [
    "colnames = ['id', 'name', 'type_1', 'type_2', 'total', 'hp', 'attack', 'defense', \n",
    "            'special_attack', 'special_defense', 'speed']\n",
    "\n",
    "data = pd.read_csv(DATASET_FILE, \n",
    "                   sep=';',\n",
    "                   header=0,\n",
    "                   names=colnames,\n",
    "                   na_values='?')\n",
    "\n",
    "data = data.drop_duplicates('id', keep='first', inplace=False)\n",
    "data.reset_index(inplace=True, drop=True)"
   ]
  },
  {
   "cell_type": "markdown",
   "metadata": {},
   "source": [
    "Implement the function <code>**get_the_slowest**</code> below. This takes as input a <code>**pandas.DataFrame**</code> object, and returns the record (i.e., the <code>**pandas.Series**</code>) of the slowest Pokemon in the collection (i.e., the one with the lowest <code>**speed**</code>)."
   ]
  },
  {
   "cell_type": "code",
   "execution_count": 5,
   "metadata": {},
   "outputs": [],
   "source": [
    "def get_the_slowest(data):\n",
    "    return data[data[\"speed\"] == data[\"speed\"].min()]"
   ]
  },
  {
   "cell_type": "markdown",
   "metadata": {},
   "source": [
    "Feature <code>**generation**</code> represents an ordinal (numerical) variable which can take on <b>6</b> distinct values.\n",
    "Assign to the variable <code>**lowest_generation**</code> below the total number of first-generation Pokemons in the dataset."
   ]
  },
  {
   "cell_type": "code",
   "execution_count": null,
   "metadata": {},
   "outputs": [],
   "source": [
    "lowest_generation = data[data['generation'] == 1]"
   ]
  },
  {
   "cell_type": "markdown",
   "metadata": {},
   "source": [
    "Implement the function <code>get_greater_than_average_hit_points</code> below.\n",
    "This takes as input a pd.DataFrame object, and returns the records of the pokemon with a value of hp (strictly) > than the average value of hp in the collection."
   ]
  },
  {
   "cell_type": "code",
   "execution_count": null,
   "metadata": {},
   "outputs": [],
   "source": [
    "def get_greater_than_average_hit_points(data):\n",
    "    return data[data[\"hp\"] > data[\"hp\"].mean()]"
   ]
  },
  {
   "cell_type": "markdown",
   "metadata": {},
   "source": [
    "Implement the function <code>**attack_stats**</code> below. This takes as input a <code>**pandas.DataFrame**</code> object and returns a tuple containing the min, max, avg, and median value of <code>**attack**</code> feature, yet computed on a _slice_ of the input <code>**pandas.DataFrame**</code>.<br />\n",
    "The sliced dataset represents the subpopulation containing **legendary** Pokemons whose speed is **strictly above the overall average**, and whose defense ranges in $[52, 73)$."
   ]
  },
  {
   "cell_type": "code",
   "execution_count": null,
   "metadata": {},
   "outputs": [],
   "source": [
    "def attack_stats(data):\n",
    "    sliced_dataset = data[(data[\"defense\"] >= 52) &\n",
    "                          (data[\"defense\"]< 73) &\n",
    "                          (data[\"speed\"] > data[\"speed\"].mean()) &\n",
    "                          (data[\"is_legendary\"] == 1)]\n",
    "    \n",
    "    return (sliced_dataset[\"attack\"].min(), sliced_dataset[\"attack\"].max(), sliced_dataset[\"attack\"].mean(), sliced_dataset[\"attack\"].median())"
   ]
  },
  {
   "cell_type": "markdown",
   "metadata": {},
   "source": [
    "Implement the function <code>**get_top_k_strongest**</code> below, which takes as input a <code>**pandas.DataFrame**</code> and an integer <code><b>k</b></code>, and returns the top-<code><b>k</b></code> Pokemon's <code>**type_1**</code> with the **highest average strength**. The overall strength is provided by the <code>**total**</code> column, as it contains a summary of all the statistics described in the other available columns.\n",
    "\n",
    "(**SUGGESTION:** In order to answer this question, you will need to compute the average strength for each group of Pokemon's <code>**type_1**</code>...)"
   ]
  },
  {
   "cell_type": "code",
   "execution_count": 8,
   "metadata": {},
   "outputs": [],
   "source": [
    "def get_top_k_strongest(data, k):\n",
    "    if k >= 0:\n",
    "        return data.groupby(\"type_1\")[\"total\"].mean().sort_values(ascending= False).index[:k]"
   ]
  },
  {
   "cell_type": "markdown",
   "metadata": {},
   "source": [
    "## 2. Factbook-Average Income"
   ]
  },
  {
   "cell_type": "markdown",
   "metadata": {},
   "source": [
    "Implement the function <code>**hours_per_week_stats**</code> below. This takes as input a <code>**pandas.DataFrame**</code> object and returns a tuple containing the average and the median value of <code>**hours_per_week**</code>, yet computed on a _slice_ of the input <code>**pandas.DataFrame**</code>.<br />\n",
    "The sliced dataset represents the subpopulation containing **female** citizens whose age is **between 18 and 30 years old** (extremes included), who were born in the **United-States** and having a value of <code>**education_num**</code> **strictly greater than** the _overall_ average."
   ]
  },
  {
   "cell_type": "code",
   "execution_count": 1,
   "metadata": {},
   "outputs": [],
   "source": [
    "def hours_per_week_stats(data):\n",
    "    \"\"\"\n",
    "    Return a tuple containing the average and median value of `hours_per_week` feature,\n",
    "    yet limited to a slice of the input DataFrame (data). \n",
    "    In particular, this slice will contain instances referring to female citizens\n",
    "    whose age is between 18 and 30 (extremes included) born in the United-States\n",
    "    and having a value of education_num strictly above the overall population average.\n",
    "    \"\"\"\n",
    "    filtered_data = data[(data[\"sex\"] == \"Female\") & \n",
    "                         (data[\"age\"] <= 30) & \n",
    "                         (data[\"age\"] >= 18) & \n",
    "                         (data[\"native_country\"] == \"United-States\") & \n",
    "                         (data[\"education_num\"] > data[\"education_num\"].mean())]\n",
    "    \n",
    "    return (filtered_data[\"hours_per_week\"].mean(), filtered_data[\"hours_per_week\"].median())\n",
    "    #return (sliced_dataset[\"hours_per_week\"].min(), sliced_dataset[\"hours_per_week\"].max(), sliced_dataset[\"hours_per_week\"].mean(), sliced_dataset[\"hours_per_week\"].median())\n"
   ]
  },
  {
   "cell_type": "markdown",
   "metadata": {},
   "source": [
    "Implement the function <code>**avg_capital_gain_per_age**</code> below. This takes as input a <code>**pandas.DataFrame**</code> object and an integer value <code>**age**</code>, and returns the **average** value of <code>**capital_gain**</code> of citizens having that age.\n",
    "\n",
    "(**NOTE:** If the information abuot age is missing in a record, the <code>**mean()**</code> function is robust and returns <code>**np.nan**</code>)"
   ]
  },
  {
   "cell_type": "code",
   "execution_count": 3,
   "metadata": {},
   "outputs": [],
   "source": [
    "def avg_capital_gain_per_age(dataframe, age):\n",
    "    \"\"\"\n",
    "    Return the average value of capital gain for citizens having a specific age.\n",
    "    \"\"\"\n",
    "    return dataframe[dataframe[\"age\"]==age][\"capital_gain\"].mean()"
   ]
  },
  {
   "cell_type": "markdown",
   "metadata": {},
   "source": [
    "Split the *data_ext* dataframe into two dataframes using the \"masking\" approach. One dataframe, named \"lower\", must contain the rows of *data_ext* that have a population lower than the mean of the population of the dataframe *countries*; the other dataframe, named \"gr_eq\", must contain the rows of *data_ext* that have a population greater or equal than the mean of the population of the dataframe *countries*."
   ]
  },
  {
   "cell_type": "code",
   "execution_count": null,
   "metadata": {},
   "outputs": [],
   "source": [
    "lower = dataframe[\"population\"] < countries[\"population\"].mean()]\n",
    "gr_eq = dataframe[\"population\"] >= countries[\"population\"].mean()]"
   ]
  },
  {
   "cell_type": "markdown",
   "metadata": {},
   "source": [
    "Build a Figure object and create a 1 x 2 matrix of subplots.\n",
    "In the first subplot you must plot the distribution of the numerical feature <code>**age**</code> of the subset of data of countries with a popoulation lower than the mean using the <code>**distplot**</code> function.\n",
    "In the second subplot you must plot the distribution of the numerical feature <code>**age**</code> of the subset of data of countries with a popoulation greater or equal than the mean using the <code>**boxplot**</code> function.\n",
    "Replace \"?\" with the appropriate code.\n"
   ]
  },
  {
   "cell_type": "code",
   "execution_count": null,
   "metadata": {},
   "outputs": [],
   "source": [
    "# Let's produce the boxplots corresponding to the required distribution plots \n",
    "# Create a Figure containing 2x2 subplots\n",
    "fig, axes = plt.subplots(1, 2, figsize=(10,12))\n",
    "\n",
    "sns.boxplot(lower[\"age\"], color='#808080', ax=axes[0])\n",
    "sns.boxplot(gr_eq[\"age\"], color='#df2020', ax=axes[1])"
   ]
  },
  {
   "cell_type": "markdown",
   "metadata": {},
   "source": [
    "Feature <code>**education_num**</code> represents an ordinal (numerical) variable which can take on **16** distinct values.\n",
    "Assign to the variable <code>**highest_education**</code> below the total number of citizens in the dataset exhibiting the highest education degree which corresponds to the value **16**."
   ]
  },
  {
   "cell_type": "code",
   "execution_count": null,
   "metadata": {},
   "outputs": [],
   "source": [
    "highest_education = len(data[data['education_num'] == 16])\n",
    "highest_education"
   ]
  },
  {
   "cell_type": "markdown",
   "metadata": {},
   "source": [
    "## 3. URL"
   ]
  },
  {
   "cell_type": "markdown",
   "metadata": {},
   "source": [
    "Implement the function <code>**get_max_url_length**</code> below. This takes as input a <code>**pandas.DataFrame**</code> object, and returns the maximum of the URL length (i.e., <code><b>URL_LENGTH</b></code> field) in the dataset.\n"
   ]
  },
  {
   "cell_type": "code",
   "execution_count": null,
   "metadata": {},
   "outputs": [],
   "source": [
    "def get_max_url_length(data):\n",
    "    return data[\"URL_LENGTH\"].max()"
   ]
  },
  {
   "cell_type": "markdown",
   "metadata": {},
   "source": [
    "Implement the function <code><b>get_servers_with_largest_max_malicious_content_length</b></code> below, which takes as input a <code><b>pandas.DataFrame</b></code> and an integer <code><b>k</b></code>, and returns an **ordered list** of <code><b>k</b></code> elements, where each element of is a tuple containing the name of the server (i.e., the <code><b>SERVER</b></code> field) and the **max** of content length (i.e., the <code><b>CONTENT_LENGTH</b></code> field) computed for that server, yet **limited to only malicious web traffic** (i.e., <code><b>new_type=1</b></code>). \n",
    "\n",
    "The final list shall be ordered by such a computed maximum (in descending order).\n",
    "\n",
    "(Tip: you are allowed to use the groupby method of the pandas package)"
   ]
  },
  {
   "cell_type": "code",
   "execution_count": 11,
   "metadata": {},
   "outputs": [],
   "source": [
    "def get_servers_with_largest_max_malicious_content_length(df, k):\n",
    "    sorted_malicious = data[data.new_type == 1].groupby(\"SERVER\")[\"CONTENT_LENGTH\"].max().reset_index().sort_values(by = \"CONTENT_LENGTH\", ascending = False)\n",
    "    return list(sorted_malicious.itertuples(index = False, name = None))[:k]"
   ]
  },
  {
   "cell_type": "code",
   "execution_count": null,
   "metadata": {},
   "outputs": [],
   "source": [
    "def get_servers_with_largest_max_malicious_content_length(data, k):\n",
    "    malicious = data[data[\"new_type\"] == 1].groupby(\"SERVER\")[\"CONTENT_LENGTH\"].max().sort_values(ascending=False)\n",
    "    return [(el, malicious[el]) for el in malicious.index[:k]]"
   ]
  },
  {
   "cell_type": "markdown",
   "metadata": {},
   "source": [
    "# Machine Learning"
   ]
  },
  {
   "cell_type": "code",
   "execution_count": null,
   "metadata": {},
   "outputs": [],
   "source": [
    "from sklearn.model_selection import train_test_split \n",
    "from sklearn import LogisticRegression\n",
    "\n",
    "new = merged_data[['name1', 'name2','target']].dropna()\n",
    "\n",
    "X = new[['name1', 'name2']]\n",
    "\n",
    "y = new['target']\n",
    "\n",
    "\n",
    "X_train, X_test, y_train, y_test = train_test_split(X, \n",
    "                                                    y, \n",
    "                                                    test_size=0.3, \n",
    "                                                    random_state=42)\n",
    "\n",
    "model = LogisticRegression().fit(X_train, y_train)\n",
    "\n",
    "evaluate(y_test, model.predict(X_test))\n"
   ]
  }
 ],
 "metadata": {
  "kernelspec": {
   "display_name": "Python 3",
   "language": "python",
   "name": "python3"
  },
  "language_info": {
   "codemirror_mode": {
    "name": "ipython",
    "version": 3
   },
   "file_extension": ".py",
   "mimetype": "text/x-python",
   "name": "python",
   "nbconvert_exporter": "python",
   "pygments_lexer": "ipython3",
   "version": "3.11.9"
  }
 },
 "nbformat": 4,
 "nbformat_minor": 2
}
